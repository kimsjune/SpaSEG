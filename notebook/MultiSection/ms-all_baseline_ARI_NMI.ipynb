{
 "cells": [
  {
   "cell_type": "code",
   "execution_count": 1,
   "metadata": {},
   "outputs": [],
   "source": [
    "import os \n",
    "import numpy as np\n",
    "import pandas as pd\n",
    "\n",
    "from sklearn.metrics.cluster import normalized_mutual_info_score\n",
    "from sklearn.metrics.cluster import adjusted_rand_score"
   ]
  },
  {
   "cell_type": "code",
   "execution_count": 2,
   "metadata": {},
   "outputs": [],
   "source": [
    "import seaborn as sns\n",
    "# import scanpy as sc\n",
    "import matplotlib.pyplot as plt\n",
    "import matplotlib as mpl\n",
    "import matplotlib.font_manager # to solve: Font family ['sans-serif'] not found. Falling back to DejaVu Sans.\n",
    "\n",
    "import scanpy as sc"
   ]
  },
  {
   "cell_type": "code",
   "execution_count": 3,
   "metadata": {},
   "outputs": [],
   "source": [
    "import sys\n",
    "sys.path.append('../../')\n",
    "\n",
    "import utils"
   ]
  },
  {
   "cell_type": "markdown",
   "metadata": {},
   "source": [
    "# Config"
   ]
  },
  {
   "cell_type": "code",
   "execution_count": 19,
   "metadata": {},
   "outputs": [],
   "source": [
    "# set global rc parameters\n",
    "utils.config_rc(dpi=300, font_size=6)\n",
    "# mpl.rcParams\n",
    "wk_root = os.path.abspath(os.path.join(os.getcwd(), os.pardir, os.pardir))"
   ]
  },
  {
   "cell_type": "code",
   "execution_count": 5,
   "metadata": {},
   "outputs": [],
   "source": [
    "# multisection data result root path\n",
    "data_root = utils.get_path('multisection_wk_root_path', json_path=os.path.join(wk_root, '_data.json'))"
   ]
  },
  {
   "cell_type": "markdown",
   "metadata": {},
   "source": [
    "# All samples"
   ]
  },
  {
   "cell_type": "code",
   "execution_count": 6,
   "metadata": {},
   "outputs": [],
   "source": [
    "sample_ids_1515 = ['151507', '151508', '151509', '151510']\n",
    "_data_path_1515 = os.path.join(data_root,\"DLPFC/DLPFC_1515_07_10/\")\n",
    "_best_list_1515 = [\"SpaSEG_clusters\",\"X_Harmony_leiden_0.7\",\"H_liger_leiden_0.45\"]\n",
    "\n",
    "sample_ids_6972 = ['151669', '151670', '151671', '151672']\n",
    "_data_path_6972 = os.path.join(data_root,\"DLPFC/DLPFC_1516_69_72/\")\n",
    "_best_list_6972 = [\"SpaSEG_clusters\",\"X_Harmony_leiden_0.65\",\"H_liger_leiden_0.2\"]\n",
    "\n",
    "sample_ids_7376 = ['151673','151674','151675','151676'] \n",
    "_data_path_7376 = os.path.join(data_root,\"DLPFC/DLPFC_1516_73_76/\")\n",
    "_best_list_7376 = [\"SpaSEG_clusters\",\"X_Harmony_leiden_0.75\",\"H_liger_leiden_0.3\"]\n",
    "\n",
    "title_list=[\"SpaSEG\",'Harmony','LIGER']\n"
   ]
  },
  {
   "cell_type": "code",
   "execution_count": 7,
   "metadata": {},
   "outputs": [],
   "source": [
    "# all methods ressults\n",
    "_results_1515 = os.path.join(_data_path_1515,'merge_all.h5ad')\n",
    "_results_6972 = os.path.join(_data_path_6972,'merge_all.h5ad')\n",
    "_results_7376 = os.path.join(_data_path_7376,'merge_all.h5ad')"
   ]
  },
  {
   "cell_type": "code",
   "execution_count": 8,
   "metadata": {},
   "outputs": [],
   "source": [
    "adata_1515 = sc.read_h5ad(_results_1515)\n",
    "adata_6972 = sc.read_h5ad(_results_6972)\n",
    "adata_7376 = sc.read_h5ad(_results_7376)"
   ]
  },
  {
   "cell_type": "code",
   "execution_count": 9,
   "metadata": {},
   "outputs": [],
   "source": [
    "def _ari_nmi(sample_ids, adata, best_list, method_list):\n",
    "    \n",
    "    _df = None\n",
    "    \n",
    "    for i, _sample_id in enumerate(sample_ids):\n",
    "        _adata = adata[adata.obs['batch']==_sample_id]\n",
    "        ground_truth = _adata.obs['celltype'].astype(\"category\").cat.codes.values\n",
    "        \n",
    "        ari = []\n",
    "        nmi = []\n",
    "        method = []\n",
    "        for _label,_method in zip(best_list,method_list):\n",
    "            _clusters = _adata.obs[_label].values\n",
    "            \n",
    "            _ari = adjusted_rand_score(ground_truth,_clusters)\n",
    "            _nmi = normalized_mutual_info_score(ground_truth,_clusters)\n",
    "            \n",
    "            ari.append(_ari)\n",
    "            nmi.append(_nmi)\n",
    "            method.append(_method)\n",
    "            \n",
    "        _df_tmp = pd.DataFrame({\n",
    "            'sample_id':[_sample_id] * len(best_list),\n",
    "            'ARI':ari,\n",
    "            'NMI':nmi,\n",
    "            'method':method\n",
    "        })\n",
    "        if i == 0:\n",
    "            _df = _df_tmp\n",
    "        else:\n",
    "            _df = pd.concat([_df, _df_tmp], axis=0)\n",
    "            \n",
    "    return _df\n",
    "        "
   ]
  },
  {
   "cell_type": "code",
   "execution_count": 10,
   "metadata": {},
   "outputs": [],
   "source": [
    "df_1515 = _ari_nmi(sample_ids_1515, adata_1515, _best_list_1515, title_list)\n",
    "df_6972 = _ari_nmi(sample_ids_6972, adata_6972, _best_list_6972, title_list)\n",
    "df_7376 = _ari_nmi(sample_ids_7376, adata_7376, _best_list_7376, title_list)"
   ]
  },
  {
   "cell_type": "code",
   "execution_count": 11,
   "metadata": {},
   "outputs": [],
   "source": [
    "df_merge = pd.concat([df_1515, df_6972, df_7376], axis=0)"
   ]
  },
  {
   "cell_type": "code",
   "execution_count": 12,
   "metadata": {},
   "outputs": [],
   "source": [
    "df_merge.to_csv(os.path.join(wk_root, f\"notebook/results/Multisection/all_baseline_ari_nmi.csv\"), index=False)"
   ]
  },
  {
   "cell_type": "code",
   "execution_count": 13,
   "metadata": {},
   "outputs": [],
   "source": [
    "df_merge = pd.read_csv(os.path.join(wk_root, f\"notebook/results/Multisection/all_baseline_ari_nmi.csv\"))"
   ]
  },
  {
   "cell_type": "code",
   "execution_count": 14,
   "metadata": {},
   "outputs": [
    {
     "data": {
      "text/html": [
       "<div>\n",
       "<style scoped>\n",
       "    .dataframe tbody tr th:only-of-type {\n",
       "        vertical-align: middle;\n",
       "    }\n",
       "\n",
       "    .dataframe tbody tr th {\n",
       "        vertical-align: top;\n",
       "    }\n",
       "\n",
       "    .dataframe thead tr th {\n",
       "        text-align: left;\n",
       "    }\n",
       "\n",
       "    .dataframe thead tr:last-of-type th {\n",
       "        text-align: right;\n",
       "    }\n",
       "</style>\n",
       "<table border=\"1\" class=\"dataframe\">\n",
       "  <thead>\n",
       "    <tr>\n",
       "      <th></th>\n",
       "      <th colspan=\"5\" halign=\"left\">ARI</th>\n",
       "      <th colspan=\"5\" halign=\"left\">NMI</th>\n",
       "    </tr>\n",
       "    <tr>\n",
       "      <th></th>\n",
       "      <th>min</th>\n",
       "      <th>max</th>\n",
       "      <th>mean</th>\n",
       "      <th>median</th>\n",
       "      <th>std</th>\n",
       "      <th>min</th>\n",
       "      <th>max</th>\n",
       "      <th>mean</th>\n",
       "      <th>median</th>\n",
       "      <th>std</th>\n",
       "    </tr>\n",
       "    <tr>\n",
       "      <th>method</th>\n",
       "      <th></th>\n",
       "      <th></th>\n",
       "      <th></th>\n",
       "      <th></th>\n",
       "      <th></th>\n",
       "      <th></th>\n",
       "      <th></th>\n",
       "      <th></th>\n",
       "      <th></th>\n",
       "      <th></th>\n",
       "    </tr>\n",
       "  </thead>\n",
       "  <tbody>\n",
       "    <tr>\n",
       "      <th>Harmony</th>\n",
       "      <td>0.240745</td>\n",
       "      <td>0.460444</td>\n",
       "      <td>0.34247</td>\n",
       "      <td>0.330061</td>\n",
       "      <td>0.085350</td>\n",
       "      <td>0.333133</td>\n",
       "      <td>0.522782</td>\n",
       "      <td>0.410237</td>\n",
       "      <td>0.379524</td>\n",
       "      <td>0.074842</td>\n",
       "    </tr>\n",
       "    <tr>\n",
       "      <th>LIGER</th>\n",
       "      <td>0.040393</td>\n",
       "      <td>0.289963</td>\n",
       "      <td>0.17440</td>\n",
       "      <td>0.200940</td>\n",
       "      <td>0.079098</td>\n",
       "      <td>0.072901</td>\n",
       "      <td>0.381744</td>\n",
       "      <td>0.250956</td>\n",
       "      <td>0.278900</td>\n",
       "      <td>0.089146</td>\n",
       "    </tr>\n",
       "    <tr>\n",
       "      <th>SpaSEG</th>\n",
       "      <td>0.447124</td>\n",
       "      <td>0.848359</td>\n",
       "      <td>0.61170</td>\n",
       "      <td>0.585565</td>\n",
       "      <td>0.138660</td>\n",
       "      <td>0.635986</td>\n",
       "      <td>0.769243</td>\n",
       "      <td>0.679810</td>\n",
       "      <td>0.675639</td>\n",
       "      <td>0.036749</td>\n",
       "    </tr>\n",
       "  </tbody>\n",
       "</table>\n",
       "</div>"
      ],
      "text/plain": [
       "              ARI                                              NMI            \\\n",
       "              min       max     mean    median       std       min       max   \n",
       "method                                                                         \n",
       "Harmony  0.240745  0.460444  0.34247  0.330061  0.085350  0.333133  0.522782   \n",
       "LIGER    0.040393  0.289963  0.17440  0.200940  0.079098  0.072901  0.381744   \n",
       "SpaSEG   0.447124  0.848359  0.61170  0.585565  0.138660  0.635986  0.769243   \n",
       "\n",
       "                                       \n",
       "             mean    median       std  \n",
       "method                                 \n",
       "Harmony  0.410237  0.379524  0.074842  \n",
       "LIGER    0.250956  0.278900  0.089146  \n",
       "SpaSEG   0.679810  0.675639  0.036749  "
      ]
     },
     "execution_count": 14,
     "metadata": {},
     "output_type": "execute_result"
    }
   ],
   "source": [
    "df_merge[['method', 'ARI', 'NMI']].groupby('method').agg(['min','max','mean','median','std'])"
   ]
  },
  {
   "cell_type": "code",
   "execution_count": 35,
   "metadata": {},
   "outputs": [],
   "source": [
    "from statannotations.Annotator import Annotator\n",
    "bg_f = ['#ffb482', '#8de5a1','#fab0e4' , '#d0bbff', '#debb9b', '#ff9f9b', '#cfcfcf', '#fffea3', '#b9f2f0']\n",
    "ln_f = ['#ff7c00', '#1ac938','#f14cc1' , '#8b2be2', '#9f4800', '#e8000b', '#a3a3a3', '#ffc400', '#00d7ff']\n",
    "def _boxplot(data, x, y, orders, ax, bg_f, ln_f,comp_pairs, showfliers=True):\n",
    "    \n",
    "    plot_param={\n",
    "        'data':data,\n",
    "        'x':x,\n",
    "        'y':y,\n",
    "        'order':orders\n",
    "    }\n",
    "    \n",
    "    palette = dict(zip(orders, bg_f))\n",
    "    \n",
    "    sns.stripplot(**plot_param, ax = ax,palette=dict(zip(orders, ln_f)),size=2)\n",
    "    \n",
    "    axa = sns.boxplot(**plot_param,\n",
    "                          ax=ax, palette=palette,\n",
    "                          showfliers=showfliers, \n",
    "                          flierprops={\"marker\": \".\",'markersize': 1},\n",
    "                          linewidth=0.8,\n",
    "                          width=0.6,saturation=0.6,showcaps=True)\n",
    "    \n",
    "    for i,artist in enumerate(ax.patches): #In matplotlib 3.5 the boxes are stored in ax.patches instead of ax.artists.\n",
    "        # Set the linecolor on the artist to the facecolor, and set the facecolor to None\n",
    "        # col = artist.get_facecolor()\n",
    "        # artist.set_edgecolor(col)\n",
    "        # artist.set_facecolor('None')\n",
    "        artist.set_edgecolor(ln_f[i])\n",
    "    \n",
    "        # Each box has 6 associated Line2D objects (to make the whiskers, fliers, etc.)\n",
    "        # Loop over them here, and use the same colour as above\n",
    "        for j in range(i*5,i*5+5):\n",
    "            line = axa.lines[j]\n",
    "            # line.set_color(col)\n",
    "            # line.set_mfc(col)\n",
    "            # line.set_mec(col)\n",
    "\n",
    "            line.set_color(ln_f[i])\n",
    "            line.set_mfc(ln_f[i])\n",
    "            line.set_mec(ln_f[i])\n",
    "    annot = Annotator(axa, pairs=comp_pairs, **plot_param)\n",
    "    annot.configure(test='Mann-Whitney', comparisons_correction=\"BH\", text_format='star', \n",
    "                    line_width=0.5,fontsize=5,loc='inside',line_height=0.03, text_offset=0.5)\n",
    "    annot.apply_and_annotate()\n",
    "    \n",
    "    \n",
    "#     xticklabels = axa.set_xticklabels(axa.get_xticklabels(),rotation=30, ha='right',rotation_mode=\"anchor\")\n",
    "#     for i, xticklabel in enumerate(xticklabels):\n",
    "#         xticklabel.set_y(xticklabel.get_position()[1] +  0.01)\n",
    "    axa.tick_params(direction='out', length=3, pad=3, width=1)\n",
    "#     plt.grid(color='0.9',linewidth=0.5)\n",
    "    sns.despine()\n",
    "    plt.xlabel(None)\n",
    "    plt.ylabel(None)\n",
    "\n",
    "    return axa"
   ]
  },
  {
   "cell_type": "code",
   "execution_count": 36,
   "metadata": {},
   "outputs": [
    {
     "name": "stdout",
     "output_type": "stream",
     "text": [
      "p-value annotation legend:\n",
      "      ns: p <= 1.00e+00\n",
      "       *: 1.00e-02 < p <= 5.00e-02\n",
      "      **: 1.00e-03 < p <= 1.00e-02\n",
      "     ***: 1.00e-04 < p <= 1.00e-03\n",
      "    ****: p <= 1.00e-04\n",
      "\n",
      "SpaSEG vs. Harmony: Mann-Whitney-Wilcoxon test two-sided with Benjamini-Hochberg correction, P_val:6.006e-05 U_stat=1.420e+02\n",
      "SpaSEG vs. LIGER: Mann-Whitney-Wilcoxon test two-sided with Benjamini-Hochberg correction, P_val:3.658e-05 U_stat=1.440e+02\n"
     ]
    },
    {
     "data": {
      "image/png": "[encoded data removed]",
      "text/plain": [
       "<Figure size 472.441x590.551 with 1 Axes>"
      ]
     },
     "metadata": {},
     "output_type": "display_data"
    }
   ],
   "source": [
    "fig,ax = plt.subplots(figsize=(utils.centimeter*4, utils.centimeter*5))\n",
    "axa=_boxplot(df_merge, 'method', 'ARI', title_list, ax, \n",
    "             bg_f[:len(title_list)], ln_f[:len(title_list)],\n",
    "             comp_pairs = [(\"SpaSEG\",\"Harmony\"),(\"SpaSEG\",\"LIGER\")],showfliers=False)\n",
    "ax.set_xticklabels([\"SpaSEG\",'Harmony','LIGER'])\n",
    "ax.set_ylabel('ARI')\n",
    "plt.savefig(os.path.join(wk_root, f\"notebook/results/Multisection/Supp_baseline_All_ARI.pdf\"), bbox_inches='tight', format='pdf', dpi=400)"
   ]
  },
  {
   "cell_type": "code",
   "execution_count": 37,
   "metadata": {},
   "outputs": [
    {
     "name": "stdout",
     "output_type": "stream",
     "text": [
      "p-value annotation legend:\n",
      "      ns: p <= 1.00e+00\n",
      "       *: 1.00e-02 < p <= 5.00e-02\n",
      "      **: 1.00e-03 < p <= 1.00e-02\n",
      "     ***: 1.00e-04 < p <= 1.00e-03\n",
      "    ****: p <= 1.00e-04\n",
      "\n",
      "SpaSEG vs. Harmony: Mann-Whitney-Wilcoxon test two-sided with Benjamini-Hochberg correction, P_val:3.658e-05 U_stat=1.440e+02\n",
      "SpaSEG vs. LIGER: Mann-Whitney-Wilcoxon test two-sided with Benjamini-Hochberg correction, P_val:3.658e-05 U_stat=1.440e+02\n"
     ]
    },
    {
     "data": {
      "image/png": "[encoded data removed]",
      "text/plain": [
       "<Figure size 472.441x590.551 with 1 Axes>"
      ]
     },
     "metadata": {},
     "output_type": "display_data"
    }
   ],
   "source": [
    "fig,ax = plt.subplots(figsize=(utils.centimeter*4, utils.centimeter*5))\n",
    "axa=_boxplot(df_merge, 'method', 'NMI', title_list, ax, \n",
    "             bg_f[:len(title_list)], ln_f[:len(title_list)],\n",
    "             comp_pairs = [(\"SpaSEG\",\"Harmony\"),(\"SpaSEG\",\"LIGER\")],showfliers=False)\n",
    "ax.set_xticklabels([\"SpaSEG\",'Harmony','LIGER'])\n",
    "ax.set_ylabel('NMI')\n",
    "plt.savefig(os.path.join(wk_root, f\"notebook/results/Multisection/Supp_baseline_All_NMI.pdf\"), bbox_inches='tight', format='pdf', dpi=400)"
   ]
  },
  {
   "cell_type": "markdown",
   "metadata": {},
   "source": [
    "# Compare SpaSEG before and after merge "
   ]
  },
  {
   "cell_type": "code",
   "execution_count": 26,
   "metadata": {},
   "outputs": [],
   "source": [
    "before_ari = pd.read_csv(os.path.join(wk_root, \"notebook/results/Baseline/baseline_ari.csv\"),index_col=0)\n",
    "before_nmi = pd.read_csv(os.path.join(wk_root, \"notebook/results/Baseline/baseline_nmi.csv\"),index_col=0)\n",
    "before_ari = before_ari.reset_index(names=['sample_id'])\n",
    "before_ari['sample_id'] = before_ari['sample_id'].astype(str) \n",
    "before_nmi = before_nmi.reset_index(names=['sample_id'])\n",
    "before_nmi['sample_id'] = before_nmi['sample_id'].astype(str) "
   ]
  },
  {
   "cell_type": "code",
   "execution_count": 27,
   "metadata": {},
   "outputs": [],
   "source": [
    "before = before_ari[['sample_id','SpaSEG']].copy()\n",
    "before.rename(columns={\"SpaSEG\": \"ARI\"},inplace=True)\n",
    "before['NMI'] = before_nmi['SpaSEG']\n",
    "before['method'] = 'Single'"
   ]
  },
  {
   "cell_type": "code",
   "execution_count": 28,
   "metadata": {},
   "outputs": [
    {
     "data": {
      "text/html": [
       "<div>\n",
       "<style scoped>\n",
       "    .dataframe tbody tr th:only-of-type {\n",
       "        vertical-align: middle;\n",
       "    }\n",
       "\n",
       "    .dataframe tbody tr th {\n",
       "        vertical-align: top;\n",
       "    }\n",
       "\n",
       "    .dataframe thead th {\n",
       "        text-align: right;\n",
       "    }\n",
       "</style>\n",
       "<table border=\"1\" class=\"dataframe\">\n",
       "  <thead>\n",
       "    <tr style=\"text-align: right;\">\n",
       "      <th></th>\n",
       "      <th>sample_id</th>\n",
       "      <th>ARI</th>\n",
       "      <th>NMI</th>\n",
       "      <th>method</th>\n",
       "    </tr>\n",
       "  </thead>\n",
       "  <tbody>\n",
       "    <tr>\n",
       "      <th>0</th>\n",
       "      <td>151507</td>\n",
       "      <td>0.435099</td>\n",
       "      <td>0.634496</td>\n",
       "      <td>Single</td>\n",
       "    </tr>\n",
       "    <tr>\n",
       "      <th>1</th>\n",
       "      <td>151508</td>\n",
       "      <td>0.489334</td>\n",
       "      <td>0.621860</td>\n",
       "      <td>Single</td>\n",
       "    </tr>\n",
       "    <tr>\n",
       "      <th>2</th>\n",
       "      <td>151509</td>\n",
       "      <td>0.468462</td>\n",
       "      <td>0.642574</td>\n",
       "      <td>Single</td>\n",
       "    </tr>\n",
       "    <tr>\n",
       "      <th>3</th>\n",
       "      <td>151510</td>\n",
       "      <td>0.527943</td>\n",
       "      <td>0.651253</td>\n",
       "      <td>Single</td>\n",
       "    </tr>\n",
       "    <tr>\n",
       "      <th>4</th>\n",
       "      <td>151669</td>\n",
       "      <td>0.592084</td>\n",
       "      <td>0.643080</td>\n",
       "      <td>Single</td>\n",
       "    </tr>\n",
       "    <tr>\n",
       "      <th>5</th>\n",
       "      <td>151670</td>\n",
       "      <td>0.665319</td>\n",
       "      <td>0.601756</td>\n",
       "      <td>Single</td>\n",
       "    </tr>\n",
       "    <tr>\n",
       "      <th>6</th>\n",
       "      <td>151671</td>\n",
       "      <td>0.519948</td>\n",
       "      <td>0.630649</td>\n",
       "      <td>Single</td>\n",
       "    </tr>\n",
       "    <tr>\n",
       "      <th>7</th>\n",
       "      <td>151672</td>\n",
       "      <td>0.525555</td>\n",
       "      <td>0.632555</td>\n",
       "      <td>Single</td>\n",
       "    </tr>\n",
       "    <tr>\n",
       "      <th>8</th>\n",
       "      <td>151673</td>\n",
       "      <td>0.553867</td>\n",
       "      <td>0.673818</td>\n",
       "      <td>Single</td>\n",
       "    </tr>\n",
       "    <tr>\n",
       "      <th>9</th>\n",
       "      <td>151674</td>\n",
       "      <td>0.561247</td>\n",
       "      <td>0.671428</td>\n",
       "      <td>Single</td>\n",
       "    </tr>\n",
       "    <tr>\n",
       "      <th>10</th>\n",
       "      <td>151675</td>\n",
       "      <td>0.491757</td>\n",
       "      <td>0.654509</td>\n",
       "      <td>Single</td>\n",
       "    </tr>\n",
       "    <tr>\n",
       "      <th>11</th>\n",
       "      <td>151676</td>\n",
       "      <td>0.555151</td>\n",
       "      <td>0.667486</td>\n",
       "      <td>Single</td>\n",
       "    </tr>\n",
       "  </tbody>\n",
       "</table>\n",
       "</div>"
      ],
      "text/plain": [
       "   sample_id       ARI       NMI  method\n",
       "0     151507  0.435099  0.634496  Single\n",
       "1     151508  0.489334  0.621860  Single\n",
       "2     151509  0.468462  0.642574  Single\n",
       "3     151510  0.527943  0.651253  Single\n",
       "4     151669  0.592084  0.643080  Single\n",
       "5     151670  0.665319  0.601756  Single\n",
       "6     151671  0.519948  0.630649  Single\n",
       "7     151672  0.525555  0.632555  Single\n",
       "8     151673  0.553867  0.673818  Single\n",
       "9     151674  0.561247  0.671428  Single\n",
       "10    151675  0.491757  0.654509  Single\n",
       "11    151676  0.555151  0.667486  Single"
      ]
     },
     "execution_count": 28,
     "metadata": {},
     "output_type": "execute_result"
    }
   ],
   "source": [
    "before"
   ]
  },
  {
   "cell_type": "code",
   "execution_count": 29,
   "metadata": {},
   "outputs": [],
   "source": [
    "after = df_merge[df_merge['method']=='SpaSEG'].copy()\n",
    "after['method'] = 'Integrative'"
   ]
  },
  {
   "cell_type": "code",
   "execution_count": 30,
   "metadata": {},
   "outputs": [
    {
     "data": {
      "text/html": [
       "<div>\n",
       "<style scoped>\n",
       "    .dataframe tbody tr th:only-of-type {\n",
       "        vertical-align: middle;\n",
       "    }\n",
       "\n",
       "    .dataframe tbody tr th {\n",
       "        vertical-align: top;\n",
       "    }\n",
       "\n",
       "    .dataframe thead th {\n",
       "        text-align: right;\n",
       "    }\n",
       "</style>\n",
       "<table border=\"1\" class=\"dataframe\">\n",
       "  <thead>\n",
       "    <tr style=\"text-align: right;\">\n",
       "      <th></th>\n",
       "      <th>sample_id</th>\n",
       "      <th>ARI</th>\n",
       "      <th>NMI</th>\n",
       "      <th>method</th>\n",
       "    </tr>\n",
       "  </thead>\n",
       "  <tbody>\n",
       "    <tr>\n",
       "      <th>0</th>\n",
       "      <td>151507</td>\n",
       "      <td>0.447124</td>\n",
       "      <td>0.649481</td>\n",
       "      <td>Integrative</td>\n",
       "    </tr>\n",
       "    <tr>\n",
       "      <th>3</th>\n",
       "      <td>151508</td>\n",
       "      <td>0.466904</td>\n",
       "      <td>0.644188</td>\n",
       "      <td>Integrative</td>\n",
       "    </tr>\n",
       "    <tr>\n",
       "      <th>6</th>\n",
       "      <td>151509</td>\n",
       "      <td>0.479738</td>\n",
       "      <td>0.647298</td>\n",
       "      <td>Integrative</td>\n",
       "    </tr>\n",
       "    <tr>\n",
       "      <th>9</th>\n",
       "      <td>151510</td>\n",
       "      <td>0.500480</td>\n",
       "      <td>0.635986</td>\n",
       "      <td>Integrative</td>\n",
       "    </tr>\n",
       "    <tr>\n",
       "      <th>12</th>\n",
       "      <td>151669</td>\n",
       "      <td>0.771086</td>\n",
       "      <td>0.676691</td>\n",
       "      <td>Integrative</td>\n",
       "    </tr>\n",
       "    <tr>\n",
       "      <th>15</th>\n",
       "      <td>151670</td>\n",
       "      <td>0.796121</td>\n",
       "      <td>0.674588</td>\n",
       "      <td>Integrative</td>\n",
       "    </tr>\n",
       "    <tr>\n",
       "      <th>18</th>\n",
       "      <td>151671</td>\n",
       "      <td>0.848359</td>\n",
       "      <td>0.769243</td>\n",
       "      <td>Integrative</td>\n",
       "    </tr>\n",
       "    <tr>\n",
       "      <th>21</th>\n",
       "      <td>151672</td>\n",
       "      <td>0.722284</td>\n",
       "      <td>0.712205</td>\n",
       "      <td>Integrative</td>\n",
       "    </tr>\n",
       "    <tr>\n",
       "      <th>24</th>\n",
       "      <td>151673</td>\n",
       "      <td>0.589922</td>\n",
       "      <td>0.671994</td>\n",
       "      <td>Integrative</td>\n",
       "    </tr>\n",
       "    <tr>\n",
       "      <th>27</th>\n",
       "      <td>151674</td>\n",
       "      <td>0.583069</td>\n",
       "      <td>0.699970</td>\n",
       "      <td>Integrative</td>\n",
       "    </tr>\n",
       "    <tr>\n",
       "      <th>30</th>\n",
       "      <td>151675</td>\n",
       "      <td>0.547249</td>\n",
       "      <td>0.688880</td>\n",
       "      <td>Integrative</td>\n",
       "    </tr>\n",
       "    <tr>\n",
       "      <th>33</th>\n",
       "      <td>151676</td>\n",
       "      <td>0.588061</td>\n",
       "      <td>0.687201</td>\n",
       "      <td>Integrative</td>\n",
       "    </tr>\n",
       "  </tbody>\n",
       "</table>\n",
       "</div>"
      ],
      "text/plain": [
       "    sample_id       ARI       NMI       method\n",
       "0      151507  0.447124  0.649481  Integrative\n",
       "3      151508  0.466904  0.644188  Integrative\n",
       "6      151509  0.479738  0.647298  Integrative\n",
       "9      151510  0.500480  0.635986  Integrative\n",
       "12     151669  0.771086  0.676691  Integrative\n",
       "15     151670  0.796121  0.674588  Integrative\n",
       "18     151671  0.848359  0.769243  Integrative\n",
       "21     151672  0.722284  0.712205  Integrative\n",
       "24     151673  0.589922  0.671994  Integrative\n",
       "27     151674  0.583069  0.699970  Integrative\n",
       "30     151675  0.547249  0.688880  Integrative\n",
       "33     151676  0.588061  0.687201  Integrative"
      ]
     },
     "execution_count": 30,
     "metadata": {},
     "output_type": "execute_result"
    }
   ],
   "source": [
    "after"
   ]
  },
  {
   "cell_type": "code",
   "execution_count": 31,
   "metadata": {},
   "outputs": [],
   "source": [
    "SpaSEG_be_af = pd.concat([before, after])"
   ]
  },
  {
   "cell_type": "code",
   "execution_count": 32,
   "metadata": {},
   "outputs": [
    {
     "data": {
      "text/html": [
       "<div>\n",
       "<style scoped>\n",
       "    .dataframe tbody tr th:only-of-type {\n",
       "        vertical-align: middle;\n",
       "    }\n",
       "\n",
       "    .dataframe tbody tr th {\n",
       "        vertical-align: top;\n",
       "    }\n",
       "\n",
       "    .dataframe thead tr th {\n",
       "        text-align: left;\n",
       "    }\n",
       "\n",
       "    .dataframe thead tr:last-of-type th {\n",
       "        text-align: right;\n",
       "    }\n",
       "</style>\n",
       "<table border=\"1\" class=\"dataframe\">\n",
       "  <thead>\n",
       "    <tr>\n",
       "      <th></th>\n",
       "      <th colspan=\"5\" halign=\"left\">ARI</th>\n",
       "      <th colspan=\"5\" halign=\"left\">NMI</th>\n",
       "    </tr>\n",
       "    <tr>\n",
       "      <th></th>\n",
       "      <th>min</th>\n",
       "      <th>max</th>\n",
       "      <th>mean</th>\n",
       "      <th>median</th>\n",
       "      <th>std</th>\n",
       "      <th>min</th>\n",
       "      <th>max</th>\n",
       "      <th>mean</th>\n",
       "      <th>median</th>\n",
       "      <th>std</th>\n",
       "    </tr>\n",
       "    <tr>\n",
       "      <th>method</th>\n",
       "      <th></th>\n",
       "      <th></th>\n",
       "      <th></th>\n",
       "      <th></th>\n",
       "      <th></th>\n",
       "      <th></th>\n",
       "      <th></th>\n",
       "      <th></th>\n",
       "      <th></th>\n",
       "      <th></th>\n",
       "    </tr>\n",
       "  </thead>\n",
       "  <tbody>\n",
       "    <tr>\n",
       "      <th>Integrative</th>\n",
       "      <td>0.447124</td>\n",
       "      <td>0.848359</td>\n",
       "      <td>0.611700</td>\n",
       "      <td>0.585565</td>\n",
       "      <td>0.138660</td>\n",
       "      <td>0.635986</td>\n",
       "      <td>0.769243</td>\n",
       "      <td>0.679810</td>\n",
       "      <td>0.675639</td>\n",
       "      <td>0.036749</td>\n",
       "    </tr>\n",
       "    <tr>\n",
       "      <th>Single</th>\n",
       "      <td>0.435099</td>\n",
       "      <td>0.665319</td>\n",
       "      <td>0.532147</td>\n",
       "      <td>0.526749</td>\n",
       "      <td>0.060545</td>\n",
       "      <td>0.601756</td>\n",
       "      <td>0.673818</td>\n",
       "      <td>0.643789</td>\n",
       "      <td>0.642827</td>\n",
       "      <td>0.021390</td>\n",
       "    </tr>\n",
       "  </tbody>\n",
       "</table>\n",
       "</div>"
      ],
      "text/plain": [
       "                  ARI                                               NMI  \\\n",
       "                  min       max      mean    median       std       min   \n",
       "method                                                                    \n",
       "Integrative  0.447124  0.848359  0.611700  0.585565  0.138660  0.635986   \n",
       "Single       0.435099  0.665319  0.532147  0.526749  0.060545  0.601756   \n",
       "\n",
       "                                                     \n",
       "                  max      mean    median       std  \n",
       "method                                               \n",
       "Integrative  0.769243  0.679810  0.675639  0.036749  \n",
       "Single       0.673818  0.643789  0.642827  0.021390  "
      ]
     },
     "execution_count": 32,
     "metadata": {},
     "output_type": "execute_result"
    }
   ],
   "source": [
    "SpaSEG_be_af[['method', 'ARI', 'NMI']].groupby('method').agg(['min','max','mean','median','std'])"
   ]
  },
  {
   "cell_type": "code",
   "execution_count": 38,
   "metadata": {},
   "outputs": [
    {
     "name": "stdout",
     "output_type": "stream",
     "text": [
      "p-value annotation legend:\n",
      "      ns: p <= 1.00e+00\n",
      "       *: 1.00e-02 < p <= 5.00e-02\n",
      "      **: 1.00e-03 < p <= 1.00e-02\n",
      "     ***: 1.00e-04 < p <= 1.00e-03\n",
      "    ****: p <= 1.00e-04\n",
      "\n",
      "Single vs. Integrative: Mann-Whitney-Wilcoxon test two-sided with Benjamini-Hochberg correction, P_val:2.366e-01 U_stat=5.100e+01\n"
     ]
    },
    {
     "data": {
      "image/png": "[encoded data removed]",
      "text/plain": [
       "<Figure size 472.441x590.551 with 1 Axes>"
      ]
     },
     "metadata": {},
     "output_type": "display_data"
    }
   ],
   "source": [
    "fig,ax = plt.subplots(figsize=(utils.centimeter*4, utils.centimeter*5))\n",
    "axa=_boxplot(SpaSEG_be_af, 'method', 'ARI', [\"Single\",\"Integrative\"], ax, \n",
    "             bg_f[4:6], ln_f[4:6],\n",
    "             comp_pairs = [(\"Single\",\"Integrative\")],showfliers=False)\n",
    "ax.set_xticklabels([\"Single\",\"Integrative\"])\n",
    "ax.set_ylabel('ARI')\n",
    "plt.savefig(os.path.join(wk_root, f\"notebook/results/Multisection/Supp_baseline_SpaSEG_before_after_ARI.pdf\"), bbox_inches='tight', format='pdf', dpi=400)"
   ]
  },
  {
   "cell_type": "code",
   "execution_count": 39,
   "metadata": {},
   "outputs": [
    {
     "name": "stdout",
     "output_type": "stream",
     "text": [
      "p-value annotation legend:\n",
      "      ns: p <= 1.00e+00\n",
      "       *: 1.00e-02 < p <= 5.00e-02\n",
      "      **: 1.00e-03 < p <= 1.00e-02\n",
      "     ***: 1.00e-04 < p <= 1.00e-03\n",
      "    ****: p <= 1.00e-04\n",
      "\n",
      "Single vs. Integrative: Mann-Whitney-Wilcoxon test two-sided with Benjamini-Hochberg correction, P_val:5.108e-03 U_stat=2.300e+01\n"
     ]
    },
    {
     "data": {
      "image/png": "[encoded data removed]",
      "text/plain": [
       "<Figure size 472.441x590.551 with 1 Axes>"
      ]
     },
     "metadata": {},
     "output_type": "display_data"
    }
   ],
   "source": [
    "fig,ax = plt.subplots(figsize=(utils.centimeter*4, utils.centimeter*5))\n",
    "axa=_boxplot(SpaSEG_be_af, 'method', 'NMI', [\"Single\",\"Integrative\"], ax, \n",
    "             bg_f[4:6], ln_f[4:6],\n",
    "             comp_pairs = [(\"Single\",\"Integrative\")],showfliers=False)\n",
    "ax.set_xticklabels([\"Single\",\"Integrative\"])\n",
    "ax.set_ylabel('NMI')\n",
    "plt.savefig(os.path.join(wk_root, f\"notebook/results/Multisection/Supp_baseline_SpaSEG_before_after_NMI.pdf\"), bbox_inches='tight', format='pdf', dpi=400)"
   ]
  },
  {
   "cell_type": "code",
   "execution_count": null,
   "metadata": {},
   "outputs": [],
   "source": []
  }
 ],
 "metadata": {
  "kernelspec": {
   "display_name": "Python 3",
   "language": "python",
   "name": "python3"
  },
  "language_info": {
   "codemirror_mode": {
    "name": "ipython",
    "version": 3
   },
   "file_extension": ".py",
   "mimetype": "text/x-python",
   "name": "python",
   "nbconvert_exporter": "python",
   "pygments_lexer": "ipython3",
   "version": "3.8.5"
  }
 },
 "nbformat": 4,
 "nbformat_minor": 4
}
