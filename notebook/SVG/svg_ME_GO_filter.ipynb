{
 "cells": [
  {
   "cell_type": "code",
   "execution_count": 1,
   "metadata": {},
   "outputs": [],
   "source": [
    "import os\n",
    "import scanpy as sc\n",
    "import pandas as pd\n",
    "\n",
    "import numpy as np\n",
    "import matplotlib as mpl\n",
    "import matplotlib.pyplot as plt\n",
    "import matplotlib.image as mpimg\n",
    "\n",
    "from scipy.sparse import issparse\n",
    "import matplotlib.pyplot as plt\n",
    "import seaborn as sns\n",
    "\n",
    "import gseapy as gp\n"
   ]
  },
  {
   "cell_type": "code",
   "execution_count": 2,
   "metadata": {
    "collapsed": false,
    "jupyter": {
     "outputs_hidden": false
    },
    "pycharm": {
     "name": "#%%\n"
    }
   },
   "outputs": [],
   "source": [
    "import sys\n",
    "sys.path.append('../../')\n",
    "\n",
    "from downstream.svg import detect_svg\n",
    "from downstream.plotting import svgplot,gheatmap\n",
    "\n",
    "import utils"
   ]
  },
  {
   "cell_type": "markdown",
   "metadata": {},
   "source": [
    "# Config"
   ]
  },
  {
   "cell_type": "code",
   "execution_count": 3,
   "metadata": {},
   "outputs": [],
   "source": [
    "# set global rc parameters\n",
    "sc.settings.set_figure_params(vector_friendly=True)\n",
    "\n",
    "utils.config_rc(dpi=300, font_size=6)\n",
    "# mpl.rcParams\n"
   ]
  },
  {
   "cell_type": "code",
   "execution_count": 4,
   "metadata": {},
   "outputs": [],
   "source": [
    "wk_root = os.path.abspath(os.path.join(os.getcwd(), os.pardir, os.pardir))"
   ]
  },
  {
   "cell_type": "markdown",
   "metadata": {
    "tags": []
   },
   "source": [
    "# Get SVG"
   ]
  },
  {
   "cell_type": "code",
   "execution_count": 5,
   "metadata": {},
   "outputs": [],
   "source": [
    "# stereo-seq mouse embryo data result root path\n",
    "data_root = utils.get_path('svg_wk_root', json_path=os.path.join(wk_root, '_data.json'))\n",
    "\n",
    "df_group=pd.read_csv(os.path.join(data_root, 'mouse_embryo/svg_ME_All_Domain_Filtered_0.75_8.csv'))\n",
    "df_group=df_group[~df_group['gene'].str.startswith('mt-')].copy()"
   ]
  },
  {
   "cell_type": "code",
   "execution_count": 1,
   "metadata": {},
   "outputs": [],
   "source": [
    "adata = sc.read_h5ad(os.path.join(data_root, 'mouse_embryo/preprocessed_ME.h5ad'))\n",
    "SpaSEG_cluster = pd.read_csv(os.path.join(data_root, 'mouse_embryo/ME_bin50_metadata.tsv'),sep = '\\t')\n",
    "\n",
    "adata.obs['SpaSEG_clusters'] = list(SpaSEG_cluster['SpaSEG_clusters'])\n",
    "adata.obs['SpaSEG_clusters'] = adata.obs['SpaSEG_clusters'].astype('category')\n",
    "adata.uns['log1p'] = {'base': None}\n",
    "\n",
    "adata.obsm['spatial'] = adata.obsm['spatial'][:,[1,0]]*-1\n",
    "adata.obsm['spatial'][:,[0]] = adata.obsm['spatial'][:,[0]]*-1"
   ]
  },
  {
   "cell_type": "code",
   "execution_count": 8,
   "metadata": {},
   "outputs": [
    {
     "data": {
      "text/plain": [
       "AnnData object with n_obs × n_vars = 69299 × 26921\n",
       "    obs: 'index', 'SCT_snn_res.0.6', 'SCT_snn_res.0.8', 'SCT_snn_res.1', 'annotation', 'annotation2', 'coor_x', 'coor_y', 'lineage', 'nCount_RNA', 'nCount_SCT', 'nFeature_RNA', 'nFeature_SCT', 'orig.ident', 'percent.mt', 'primaryanno', 'refindedanno', 'seurat_clusters', 'simpleanno', 'spatial_leiden_res1', 'spatial_leiden_res2', 'spatial_leiden_res3', 'annotation3', 'chip', 'batch', 'simpleanno2', 'S_score', 'G2M_score', 'phase', 'n_counts', 'annotation4', 'array_col', 'array_row', 'n_genes_by_counts', 'log1p_n_genes_by_counts', 'total_counts', 'log1p_total_counts', 'pct_counts_in_top_50_genes', 'pct_counts_in_top_100_genes', 'pct_counts_in_top_200_genes', 'pct_counts_in_top_500_genes', 'total_counts_mt', 'log1p_total_counts_mt', 'pct_counts_mt', 'n_genes', 'SpaSEG_clusters'\n",
       "    var: 'n_cells-2', 'n_cells-3', 'n_cells-4', 'n_cells-5', 'n_cells-6', 'mt', 'n_cells_by_counts', 'mean_counts', 'log1p_mean_counts', 'pct_dropout_by_counts', 'total_counts', 'log1p_total_counts', 'n_cells'\n",
       "    uns: 'annotation4_colors', 'log1p', 'pca', 'phase_colors', 'spatial_leiden_res3_colors'\n",
       "    obsm: 'X_pca', 'X_spatial', 'spatial'\n",
       "    varm: 'PCs'\n",
       "    layers: 'counts', 'raw_counts'"
      ]
     },
     "execution_count": 8,
     "metadata": {},
     "output_type": "execute_result"
    }
   ],
   "source": [
    "adata"
   ]
  },
  {
   "cell_type": "markdown",
   "metadata": {
    "tags": []
   },
   "source": [
    "# GO"
   ]
  },
  {
   "cell_type": "code",
   "execution_count": 6,
   "metadata": {},
   "outputs": [],
   "source": [
    "_group_df =  df_group.sort_values(by=['domain','log2_fc'],ascending=[True, False], ignore_index=True)\n",
    "\n",
    "# get first 6 genes based on each domain\n",
    "_domain_genes_df = _group_df[_group_df['domain'].isin([1,4,7])]\n",
    "_domain_genes_df.to_csv(os.path.join(wk_root, \"notebook/results/SVG/ME_147_genes4GO.csv\"),index=False)\n",
    "###\n",
    "# download GO terms from http://geneontology.org/"
   ]
  },
  {
   "cell_type": "code",
   "execution_count": 7,
   "metadata": {},
   "outputs": [],
   "source": [
    "d1_gs = _domain_genes_df[_domain_genes_df['domain']==1]['gene'].unique().tolist()\n",
    "d4_gs = _domain_genes_df[_domain_genes_df['domain']==4]['gene'].unique().tolist()\n",
    "d7_gs = _domain_genes_df[_domain_genes_df['domain']==7]['gene'].unique().tolist()"
   ]
  },
  {
   "cell_type": "code",
   "execution_count": 22,
   "metadata": {},
   "outputs": [
    {
     "name": "stdout",
     "output_type": "stream",
     "text": [
      "Tuba1a\n",
      "Nnat\n",
      "Mapt\n",
      "Stmn2\n",
      "Tubb2a\n",
      "Basp1\n",
      "Uchl1\n",
      "Gap43\n",
      "Rtn1\n",
      "Map1b\n",
      "Crmp1\n",
      "Stmn3\n",
      "Copg2\n",
      "Ina\n",
      "Snhg11\n",
      "Calm1\n",
      "Ybx1\n",
      "Mllt11\n",
      "Gpm6a\n",
      "Klc1\n",
      "Nova1\n",
      "Enc1\n",
      "Pkia\n",
      "Calm2\n",
      "Rab3c\n",
      "Cpe\n",
      "Stmn4\n",
      "Tspyl4\n",
      "Gnao1\n",
      "Chl1\n",
      "Nrxn1\n",
      "Dner\n",
      "Ncam1\n",
      "Rab6b\n",
      "Cadm2\n",
      "Rtn3\n",
      "Reep1\n",
      "Hmgcs1\n",
      "Mapre2\n",
      "Zwint\n",
      "Ids\n",
      "Sdc3\n",
      "Ndn\n",
      "Rab6a\n",
      "Gprasp1\n",
      "Cdc42\n",
      "Pafah1b1\n",
      "Serinc1\n"
     ]
    }
   ],
   "source": [
    "print('\\n'.join(d1_gs))"
   ]
  },
  {
   "cell_type": "code",
   "execution_count": 18,
   "metadata": {},
   "outputs": [
    {
     "name": "stdout",
     "output_type": "stream",
     "text": [
      "Krt10\n",
      "Krt15\n",
      "Krt77\n",
      "Lor\n",
      "Krtdap\n",
      "Dmkn\n",
      "Krt4\n",
      "Perp\n",
      "S100a6\n",
      "Emp1\n",
      "Sbsn\n",
      "Anxa2\n",
      "Ahnak\n"
     ]
    }
   ],
   "source": [
    "print('\\n'.join(d4_gs))"
   ]
  },
  {
   "cell_type": "code",
   "execution_count": 19,
   "metadata": {},
   "outputs": [
    {
     "name": "stdout",
     "output_type": "stream",
     "text": [
      "Col1a1\n",
      "Col1a2\n",
      "Ibsp\n",
      "Rplp1\n",
      "Sparc\n",
      "Rpsa\n",
      "Serpinh1\n",
      "Rpl32\n",
      "Rplp0\n",
      "Rps15a\n",
      "Col5a2\n",
      "Rps20\n"
     ]
    }
   ],
   "source": [
    "print('\\n'.join(d7_gs))"
   ]
  },
  {
   "cell_type": "code",
   "execution_count": 9,
   "metadata": {},
   "outputs": [],
   "source": [
    "GO_d1 = gp.enrichr(\n",
    "    gene_list=d1_gs, \n",
    "    gene_sets= ['GO_Biological_Process_2021', 'GO_Cellular_Component_2021','GO_Molecular_Function_2021'],\n",
    "    organism='Mouse',\n",
    "    outdir=None,\n",
    ")\n",
    "col = 'Adjusted P-value'\n",
    "GO_d1_adjp_sort_df = GO_d1.results.sort_values(col)\n",
    "GO_d1_adjp_sort_df = GO_d1_adjp_sort_df[GO_d1_adjp_sort_df[col]<0.05]\n",
    "GO_d1_adjp_sort_df.Term = GO_d1_adjp_sort_df.Term.str.split(\" \\(GO\").str[0]"
   ]
  },
  {
   "cell_type": "code",
   "execution_count": 10,
   "metadata": {},
   "outputs": [],
   "source": [
    "GO_d1_adjp_sort_df.to_csv(os.path.join(wk_root, \"notebook/results/SVG/ME_domain1_GO.csv\"),index=False)"
   ]
  },
  {
   "cell_type": "code",
   "execution_count": 11,
   "metadata": {},
   "outputs": [],
   "source": [
    "GO_d4 = gp.enrichr(\n",
    "    gene_list=d4_gs, \n",
    "    gene_sets= ['GO_Biological_Process_2021', 'GO_Cellular_Component_2021','GO_Molecular_Function_2021'],\n",
    "    organism='Mouse',\n",
    "    outdir=None,\n",
    ")\n",
    "col = 'Adjusted P-value'\n",
    "GO_d4_adjp_sort_df = GO_d4.results.sort_values(col)\n",
    "GO_d4_adjp_sort_df = GO_d4_adjp_sort_df[GO_d4_adjp_sort_df[col]<0.05]\n",
    "GO_d4_adjp_sort_df.Term = GO_d4_adjp_sort_df.Term.str.split(\" \\(GO\").str[0]"
   ]
  },
  {
   "cell_type": "code",
   "execution_count": 12,
   "metadata": {},
   "outputs": [],
   "source": [
    "GO_d4_adjp_sort_df.to_csv(os.path.join(wk_root, \"notebook/results/SVG/ME_domain4_GO.csv\"),index=False)"
   ]
  },
  {
   "cell_type": "code",
   "execution_count": 13,
   "metadata": {},
   "outputs": [],
   "source": [
    "GO_d7 = gp.enrichr(\n",
    "    gene_list=d7_gs, \n",
    "    gene_sets= ['GO_Biological_Process_2021', 'GO_Cellular_Component_2021','GO_Molecular_Function_2021'],\n",
    "    organism='Mouse',\n",
    "    outdir=None,\n",
    ")\n",
    "col = 'Adjusted P-value'\n",
    "GO_d7_adjp_sort_df = GO_d7.results.sort_values(col)\n",
    "GO_d7_adjp_sort_df = GO_d7_adjp_sort_df[GO_d7_adjp_sort_df[col]<0.05]\n",
    "GO_d7_adjp_sort_df.Term = GO_d7_adjp_sort_df.Term.str.split(\" \\(GO\").str[0]"
   ]
  },
  {
   "cell_type": "code",
   "execution_count": 14,
   "metadata": {},
   "outputs": [],
   "source": [
    "GO_d7_adjp_sort_df.to_csv(os.path.join(wk_root, \"notebook/results/SVG/ME_domain7_GO.csv\"),index=False)"
   ]
  },
  {
   "cell_type": "markdown",
   "metadata": {},
   "source": [
    "# KEGG"
   ]
  },
  {
   "cell_type": "code",
   "execution_count": 17,
   "metadata": {},
   "outputs": [],
   "source": [
    "KEGG_d1 = gp.enrichr(\n",
    "    gene_list=d1_gs, \n",
    "    gene_sets= ['KEGG_2019_Mouse', 'MSigDB_Hallmark_2020'],\n",
    "    organism='Mouse',\n",
    "    outdir=None,\n",
    ")\n",
    "col = 'Adjusted P-value'\n",
    "KEGG_d1_adjp_sort_df = KEGG_d1.results.sort_values(col)\n",
    "KEGG_d1_adjp_sort_df = KEGG_d1_adjp_sort_df[KEGG_d1_adjp_sort_df[col]<0.05]\n",
    "KEGG_d1_adjp_sort_df.Term = KEGG_d1_adjp_sort_df.Term.str.split(\" \\(GO\").str[0]"
   ]
  },
  {
   "cell_type": "code",
   "execution_count": 18,
   "metadata": {},
   "outputs": [
    {
     "data": {
      "text/html": [
       "<div>\n",
       "<style scoped>\n",
       "    .dataframe tbody tr th:only-of-type {\n",
       "        vertical-align: middle;\n",
       "    }\n",
       "\n",
       "    .dataframe tbody tr th {\n",
       "        vertical-align: top;\n",
       "    }\n",
       "\n",
       "    .dataframe thead th {\n",
       "        text-align: right;\n",
       "    }\n",
       "</style>\n",
       "<table border=\"1\" class=\"dataframe\">\n",
       "  <thead>\n",
       "    <tr style=\"text-align: right;\">\n",
       "      <th></th>\n",
       "      <th>Gene_set</th>\n",
       "      <th>Term</th>\n",
       "      <th>Overlap</th>\n",
       "      <th>P-value</th>\n",
       "      <th>Adjusted P-value</th>\n",
       "      <th>Old P-value</th>\n",
       "      <th>Old Adjusted P-value</th>\n",
       "      <th>Odds Ratio</th>\n",
       "      <th>Combined Score</th>\n",
       "      <th>Genes</th>\n",
       "    </tr>\n",
       "  </thead>\n",
       "  <tbody>\n",
       "    <tr>\n",
       "      <th>0</th>\n",
       "      <td>KEGG_2019_Mouse</td>\n",
       "      <td>Alzheimer disease</td>\n",
       "      <td>4/175</td>\n",
       "      <td>0.000816</td>\n",
       "      <td>0.023136</td>\n",
       "      <td>0</td>\n",
       "      <td>0</td>\n",
       "      <td>10.516215</td>\n",
       "      <td>74.779348</td>\n",
       "      <td>RTN3;MAPT;CALM1;CALM2</td>\n",
       "    </tr>\n",
       "    <tr>\n",
       "      <th>1</th>\n",
       "      <td>KEGG_2019_Mouse</td>\n",
       "      <td>Alcoholism</td>\n",
       "      <td>4/199</td>\n",
       "      <td>0.001314</td>\n",
       "      <td>0.023136</td>\n",
       "      <td>0</td>\n",
       "      <td>0</td>\n",
       "      <td>9.210723</td>\n",
       "      <td>61.109522</td>\n",
       "      <td>GNAO1;PKIA;CALM1;CALM2</td>\n",
       "    </tr>\n",
       "    <tr>\n",
       "      <th>2</th>\n",
       "      <td>KEGG_2019_Mouse</td>\n",
       "      <td>GnRH signaling pathway</td>\n",
       "      <td>3/90</td>\n",
       "      <td>0.001316</td>\n",
       "      <td>0.023136</td>\n",
       "      <td>0</td>\n",
       "      <td>0</td>\n",
       "      <td>15.222222</td>\n",
       "      <td>100.966097</td>\n",
       "      <td>CDC42;CALM1;CALM2</td>\n",
       "    </tr>\n",
       "    <tr>\n",
       "      <th>3</th>\n",
       "      <td>KEGG_2019_Mouse</td>\n",
       "      <td>Rap1 signaling pathway</td>\n",
       "      <td>4/209</td>\n",
       "      <td>0.001573</td>\n",
       "      <td>0.023136</td>\n",
       "      <td>0</td>\n",
       "      <td>0</td>\n",
       "      <td>8.756984</td>\n",
       "      <td>56.522142</td>\n",
       "      <td>CDC42;GNAO1;CALM1;CALM2</td>\n",
       "    </tr>\n",
       "    <tr>\n",
       "      <th>4</th>\n",
       "      <td>KEGG_2019_Mouse</td>\n",
       "      <td>Circadian entrainment</td>\n",
       "      <td>3/99</td>\n",
       "      <td>0.001731</td>\n",
       "      <td>0.023136</td>\n",
       "      <td>0</td>\n",
       "      <td>0</td>\n",
       "      <td>13.788889</td>\n",
       "      <td>87.682031</td>\n",
       "      <td>GNAO1;CALM1;CALM2</td>\n",
       "    </tr>\n",
       "    <tr>\n",
       "      <th>5</th>\n",
       "      <td>KEGG_2019_Mouse</td>\n",
       "      <td>Melanogenesis</td>\n",
       "      <td>3/100</td>\n",
       "      <td>0.001782</td>\n",
       "      <td>0.023136</td>\n",
       "      <td>0</td>\n",
       "      <td>0</td>\n",
       "      <td>13.646048</td>\n",
       "      <td>86.380955</td>\n",
       "      <td>GNAO1;CALM1;CALM2</td>\n",
       "    </tr>\n",
       "    <tr>\n",
       "      <th>6</th>\n",
       "      <td>KEGG_2019_Mouse</td>\n",
       "      <td>Phototransduction</td>\n",
       "      <td>2/27</td>\n",
       "      <td>0.001905</td>\n",
       "      <td>0.023136</td>\n",
       "      <td>0</td>\n",
       "      <td>0</td>\n",
       "      <td>34.655652</td>\n",
       "      <td>217.051981</td>\n",
       "      <td>CALM1;CALM2</td>\n",
       "    </tr>\n",
       "    <tr>\n",
       "      <th>85</th>\n",
       "      <td>MSigDB_Hallmark_2020</td>\n",
       "      <td>Myogenesis</td>\n",
       "      <td>4/200</td>\n",
       "      <td>0.001339</td>\n",
       "      <td>0.028110</td>\n",
       "      <td>0</td>\n",
       "      <td>0</td>\n",
       "      <td>9.163265</td>\n",
       "      <td>60.625569</td>\n",
       "      <td>REEP1;GNAO1;PKIA;NCAM1</td>\n",
       "    </tr>\n",
       "    <tr>\n",
       "      <th>7</th>\n",
       "      <td>KEGG_2019_Mouse</td>\n",
       "      <td>Neurotrophin signaling pathway</td>\n",
       "      <td>3/121</td>\n",
       "      <td>0.003064</td>\n",
       "      <td>0.032552</td>\n",
       "      <td>0</td>\n",
       "      <td>0</td>\n",
       "      <td>11.205650</td>\n",
       "      <td>64.859874</td>\n",
       "      <td>CDC42;CALM1;CALM2</td>\n",
       "    </tr>\n",
       "    <tr>\n",
       "      <th>86</th>\n",
       "      <td>MSigDB_Hallmark_2020</td>\n",
       "      <td>Hedgehog Signaling</td>\n",
       "      <td>2/36</td>\n",
       "      <td>0.003373</td>\n",
       "      <td>0.035418</td>\n",
       "      <td>0</td>\n",
       "      <td>0</td>\n",
       "      <td>25.470588</td>\n",
       "      <td>144.976489</td>\n",
       "      <td>RTN1;CRMP1</td>\n",
       "    </tr>\n",
       "    <tr>\n",
       "      <th>8</th>\n",
       "      <td>KEGG_2019_Mouse</td>\n",
       "      <td>Estrogen signaling pathway</td>\n",
       "      <td>3/134</td>\n",
       "      <td>0.004081</td>\n",
       "      <td>0.035421</td>\n",
       "      <td>0</td>\n",
       "      <td>0</td>\n",
       "      <td>10.087023</td>\n",
       "      <td>55.491785</td>\n",
       "      <td>GNAO1;CALM1;CALM2</td>\n",
       "    </tr>\n",
       "    <tr>\n",
       "      <th>9</th>\n",
       "      <td>KEGG_2019_Mouse</td>\n",
       "      <td>Dopaminergic synapse</td>\n",
       "      <td>3/135</td>\n",
       "      <td>0.004167</td>\n",
       "      <td>0.035421</td>\n",
       "      <td>0</td>\n",
       "      <td>0</td>\n",
       "      <td>10.010101</td>\n",
       "      <td>54.860397</td>\n",
       "      <td>GNAO1;CALM1;CALM2</td>\n",
       "    </tr>\n",
       "    <tr>\n",
       "      <th>10</th>\n",
       "      <td>KEGG_2019_Mouse</td>\n",
       "      <td>Oxytocin signaling pathway</td>\n",
       "      <td>3/154</td>\n",
       "      <td>0.006009</td>\n",
       "      <td>0.046436</td>\n",
       "      <td>0</td>\n",
       "      <td>0</td>\n",
       "      <td>8.742163</td>\n",
       "      <td>44.711269</td>\n",
       "      <td>GNAO1;CALM1;CALM2</td>\n",
       "    </tr>\n",
       "  </tbody>\n",
       "</table>\n",
       "</div>"
      ],
      "text/plain": [
       "                Gene_set                            Term Overlap   P-value  \\\n",
       "0        KEGG_2019_Mouse               Alzheimer disease   4/175  0.000816   \n",
       "1        KEGG_2019_Mouse                      Alcoholism   4/199  0.001314   \n",
       "2        KEGG_2019_Mouse          GnRH signaling pathway    3/90  0.001316   \n",
       "3        KEGG_2019_Mouse          Rap1 signaling pathway   4/209  0.001573   \n",
       "4        KEGG_2019_Mouse           Circadian entrainment    3/99  0.001731   \n",
       "5        KEGG_2019_Mouse                   Melanogenesis   3/100  0.001782   \n",
       "6        KEGG_2019_Mouse               Phototransduction    2/27  0.001905   \n",
       "85  MSigDB_Hallmark_2020                      Myogenesis   4/200  0.001339   \n",
       "7        KEGG_2019_Mouse  Neurotrophin signaling pathway   3/121  0.003064   \n",
       "86  MSigDB_Hallmark_2020              Hedgehog Signaling    2/36  0.003373   \n",
       "8        KEGG_2019_Mouse      Estrogen signaling pathway   3/134  0.004081   \n",
       "9        KEGG_2019_Mouse            Dopaminergic synapse   3/135  0.004167   \n",
       "10       KEGG_2019_Mouse      Oxytocin signaling pathway   3/154  0.006009   \n",
       "\n",
       "    Adjusted P-value  Old P-value  Old Adjusted P-value  Odds Ratio  \\\n",
       "0           0.023136            0                     0   10.516215   \n",
       "1           0.023136            0                     0    9.210723   \n",
       "2           0.023136            0                     0   15.222222   \n",
       "3           0.023136            0                     0    8.756984   \n",
       "4           0.023136            0                     0   13.788889   \n",
       "5           0.023136            0                     0   13.646048   \n",
       "6           0.023136            0                     0   34.655652   \n",
       "85          0.028110            0                     0    9.163265   \n",
       "7           0.032552            0                     0   11.205650   \n",
       "86          0.035418            0                     0   25.470588   \n",
       "8           0.035421            0                     0   10.087023   \n",
       "9           0.035421            0                     0   10.010101   \n",
       "10          0.046436            0                     0    8.742163   \n",
       "\n",
       "    Combined Score                    Genes  \n",
       "0        74.779348    RTN3;MAPT;CALM1;CALM2  \n",
       "1        61.109522   GNAO1;PKIA;CALM1;CALM2  \n",
       "2       100.966097        CDC42;CALM1;CALM2  \n",
       "3        56.522142  CDC42;GNAO1;CALM1;CALM2  \n",
       "4        87.682031        GNAO1;CALM1;CALM2  \n",
       "5        86.380955        GNAO1;CALM1;CALM2  \n",
       "6       217.051981              CALM1;CALM2  \n",
       "85       60.625569   REEP1;GNAO1;PKIA;NCAM1  \n",
       "7        64.859874        CDC42;CALM1;CALM2  \n",
       "86      144.976489               RTN1;CRMP1  \n",
       "8        55.491785        GNAO1;CALM1;CALM2  \n",
       "9        54.860397        GNAO1;CALM1;CALM2  \n",
       "10       44.711269        GNAO1;CALM1;CALM2  "
      ]
     },
     "execution_count": 18,
     "metadata": {},
     "output_type": "execute_result"
    }
   ],
   "source": [
    "KEGG_d1_adjp_sort_df"
   ]
  },
  {
   "cell_type": "code",
   "execution_count": null,
   "metadata": {},
   "outputs": [],
   "source": []
  }
 ],
 "metadata": {
  "kernelspec": {
   "display_name": "Python 3",
   "language": "python",
   "name": "python3"
  },
  "language_info": {
   "codemirror_mode": {
    "name": "ipython",
    "version": 3
   },
   "file_extension": ".py",
   "mimetype": "text/x-python",
   "name": "python",
   "nbconvert_exporter": "python",
   "pygments_lexer": "ipython3",
   "version": "3.8.5"
  }
 },
 "nbformat": 4,
 "nbformat_minor": 4
}
