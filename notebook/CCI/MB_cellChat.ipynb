{
 "cells": [
  {
   "cell_type": "code",
   "execution_count": 9,
   "metadata": {},
   "outputs": [
    {
     "data": {
      "text/html": [
       "<table class=\"dataframe\">\n",
       "<caption>A data.frame: 6 × 3</caption>\n",
       "<thead>\n",
       "\t<tr><th></th><th scope=col>source</th><th scope=col>target</th><th scope=col>counts</th></tr>\n",
       "\t<tr><th></th><th scope=col>&lt;int&gt;</th><th scope=col>&lt;int&gt;</th><th scope=col>&lt;int&gt;</th></tr>\n",
       "</thead>\n",
       "<tbody>\n",
       "\t<tr><th scope=row>0</th><td>0</td><td> 0</td><td> 67</td></tr>\n",
       "\t<tr><th scope=row>1</th><td>0</td><td> 1</td><td> 91</td></tr>\n",
       "\t<tr><th scope=row>2</th><td>0</td><td>10</td><td>119</td></tr>\n",
       "\t<tr><th scope=row>3</th><td>0</td><td>11</td><td> 65</td></tr>\n",
       "\t<tr><th scope=row>4</th><td>0</td><td>12</td><td>107</td></tr>\n",
       "\t<tr><th scope=row>5</th><td>0</td><td>13</td><td> 42</td></tr>\n",
       "</tbody>\n",
       "</table>\n"
      ],
      "text/latex": [
       "A data.frame: 6 × 3\n",
       "\\begin{tabular}{r|lll}\n",
       "  & source & target & counts\\\\\n",
       "  & <int> & <int> & <int>\\\\\n",
       "\\hline\n",
       "\t0 & 0 &  0 &  67\\\\\n",
       "\t1 & 0 &  1 &  91\\\\\n",
       "\t2 & 0 & 10 & 119\\\\\n",
       "\t3 & 0 & 11 &  65\\\\\n",
       "\t4 & 0 & 12 & 107\\\\\n",
       "\t5 & 0 & 13 &  42\\\\\n",
       "\\end{tabular}\n"
      ],
      "text/markdown": [
       "\n",
       "A data.frame: 6 × 3\n",
       "\n",
       "| <!--/--> | source &lt;int&gt; | target &lt;int&gt; | counts &lt;int&gt; |\n",
       "|---|---|---|---|\n",
       "| 0 | 0 |  0 |  67 |\n",
       "| 1 | 0 |  1 |  91 |\n",
       "| 2 | 0 | 10 | 119 |\n",
       "| 3 | 0 | 11 |  65 |\n",
       "| 4 | 0 | 12 | 107 |\n",
       "| 5 | 0 | 13 |  42 |\n",
       "\n"
      ],
      "text/plain": [
       "  source target counts\n",
       "0 0       0      67   \n",
       "1 0       1      91   \n",
       "2 0      10     119   \n",
       "3 0      11      65   \n",
       "4 0      12     107   \n",
       "5 0      13      42   "
      ]
     },
     "metadata": {},
     "output_type": "display_data"
    }
   ],
   "source": [
    "library(CellChat)\n",
    "count_net = read.csv(\"../../result/cci/MB/cci/MB_bin200_interaction_count_network.csv\", row.names=\"X\")\n",
    "head(count_net)"
   ]
  },
  {
   "cell_type": "code",
   "execution_count": 10,
   "metadata": {},
   "outputs": [
    {
     "data": {
      "text/html": [
       "<strong>90%:</strong> 123.1"
      ],
      "text/latex": [
       "\\textbf{90\\textbackslash{}\\%:} 123.1"
      ],
      "text/markdown": [
       "**90%:** 123.1"
      ],
      "text/plain": [
       "  90% \n",
       "123.1 "
      ]
     },
     "metadata": {},
     "output_type": "display_data"
    }
   ],
   "source": [
    "quantile(count_net$counts, 0.9)"
   ]
  },
  {
   "cell_type": "code",
   "execution_count": 11,
   "metadata": {},
   "outputs": [
    {
     "data": {
      "text/html": [
       "<table class=\"dataframe\">\n",
       "<caption>A data.frame: 6 × 3</caption>\n",
       "<thead>\n",
       "\t<tr><th></th><th scope=col>source</th><th scope=col>target</th><th scope=col>counts</th></tr>\n",
       "\t<tr><th></th><th scope=col>&lt;int&gt;</th><th scope=col>&lt;int&gt;</th><th scope=col>&lt;dbl&gt;</th></tr>\n",
       "</thead>\n",
       "<tbody>\n",
       "\t<tr><th scope=row>1</th><td>0</td><td> 0</td><td>1</td></tr>\n",
       "\t<tr><th scope=row>2</th><td>0</td><td>10</td><td>1</td></tr>\n",
       "\t<tr><th scope=row>3</th><td>0</td><td>11</td><td>1</td></tr>\n",
       "\t<tr><th scope=row>4</th><td>0</td><td>12</td><td>1</td></tr>\n",
       "\t<tr><th scope=row>5</th><td>0</td><td>14</td><td>1</td></tr>\n",
       "\t<tr><th scope=row>6</th><td>0</td><td>15</td><td>1</td></tr>\n",
       "</tbody>\n",
       "</table>\n"
      ],
      "text/latex": [
       "A data.frame: 6 × 3\n",
       "\\begin{tabular}{r|lll}\n",
       "  & source & target & counts\\\\\n",
       "  & <int> & <int> & <dbl>\\\\\n",
       "\\hline\n",
       "\t1 & 0 &  0 & 1\\\\\n",
       "\t2 & 0 & 10 & 1\\\\\n",
       "\t3 & 0 & 11 & 1\\\\\n",
       "\t4 & 0 & 12 & 1\\\\\n",
       "\t5 & 0 & 14 & 1\\\\\n",
       "\t6 & 0 & 15 & 1\\\\\n",
       "\\end{tabular}\n"
      ],
      "text/markdown": [
       "\n",
       "A data.frame: 6 × 3\n",
       "\n",
       "| <!--/--> | source &lt;int&gt; | target &lt;int&gt; | counts &lt;dbl&gt; |\n",
       "|---|---|---|---|\n",
       "| 1 | 0 |  0 | 1 |\n",
       "| 2 | 0 | 10 | 1 |\n",
       "| 3 | 0 | 11 | 1 |\n",
       "| 4 | 0 | 12 | 1 |\n",
       "| 5 | 0 | 14 | 1 |\n",
       "| 6 | 0 | 15 | 1 |\n",
       "\n"
      ],
      "text/plain": [
       "  source target counts\n",
       "1 0       0     1     \n",
       "2 0      10     1     \n",
       "3 0      11     1     \n",
       "4 0      12     1     \n",
       "5 0      14     1     \n",
       "6 0      15     1     "
      ]
     },
     "metadata": {},
     "output_type": "display_data"
    }
   ],
   "source": [
    "# subset count_net domain \n",
    "# [5, 12, 10, 16, 7, 8, 14],  #Cortex\n",
    "# [4, 11, 17],  # HPC\n",
    "# [0, 15],  # Thalamus\n",
    "library(dplyr)\n",
    "\n",
    "count_net1 <- count_net %>% filter(source %in% c(5,12,10,16,7,8,14,4,11,17,0,15)) %>% filter(target %in% c(5,12,10,16,7,8,14,4,11,17,0,15))\n",
    "count_net1[which(count_net1$counts < quantile(count_net$counts, 0.9)),\"counts\"] <- 1 \n",
    "head(count_net1)"
   ]
  },
  {
   "cell_type": "code",
   "execution_count": 12,
   "metadata": {},
   "outputs": [
    {
     "data": {
      "text/html": [
       "<style>\n",
       ".list-inline {list-style: none; margin:0; padding: 0}\n",
       ".list-inline>li {display: inline-block}\n",
       ".list-inline>li:not(:last-child)::after {content: \"\\00b7\"; padding: 0 .5ex}\n",
       "</style>\n",
       "<ol class=list-inline><li>144</li><li>3</li></ol>\n"
      ],
      "text/latex": [
       "\\begin{enumerate*}\n",
       "\\item 144\n",
       "\\item 3\n",
       "\\end{enumerate*}\n"
      ],
      "text/markdown": [
       "1. 144\n",
       "2. 3\n",
       "\n",
       "\n"
      ],
      "text/plain": [
       "[1] 144   3"
      ]
     },
     "metadata": {},
     "output_type": "display_data"
    }
   ],
   "source": [
    "dim(count_net1)"
   ]
  },
  {
   "cell_type": "code",
   "execution_count": 13,
   "metadata": {},
   "outputs": [
    {
     "data": {
      "text/html": [
       "<style>\n",
       ".list-inline {list-style: none; margin:0; padding: 0}\n",
       ".list-inline>li {display: inline-block}\n",
       ".list-inline>li:not(:last-child)::after {content: \"\\00b7\"; padding: 0 .5ex}\n",
       "</style>\n",
       "<ol class=list-inline><li>0</li><li>10</li><li>11</li><li>12</li><li>14</li><li>15</li><li>16</li><li>17</li><li>4</li><li>5</li><li>7</li><li>8</li></ol>\n"
      ],
      "text/latex": [
       "\\begin{enumerate*}\n",
       "\\item 0\n",
       "\\item 10\n",
       "\\item 11\n",
       "\\item 12\n",
       "\\item 14\n",
       "\\item 15\n",
       "\\item 16\n",
       "\\item 17\n",
       "\\item 4\n",
       "\\item 5\n",
       "\\item 7\n",
       "\\item 8\n",
       "\\end{enumerate*}\n"
      ],
      "text/markdown": [
       "1. 0\n",
       "2. 10\n",
       "3. 11\n",
       "4. 12\n",
       "5. 14\n",
       "6. 15\n",
       "7. 16\n",
       "8. 17\n",
       "9. 4\n",
       "10. 5\n",
       "11. 7\n",
       "12. 8\n",
       "\n",
       "\n"
      ],
      "text/plain": [
       " [1]  0 10 11 12 14 15 16 17  4  5  7  8"
      ]
     },
     "metadata": {},
     "output_type": "display_data"
    }
   ],
   "source": [
    "unique(count_net1$source)"
   ]
  },
  {
   "cell_type": "code",
   "execution_count": 14,
   "metadata": {},
   "outputs": [
    {
     "data": {
      "text/html": [
       "<style>\n",
       ".list-inline {list-style: none; margin:0; padding: 0}\n",
       ".list-inline>li {display: inline-block}\n",
       ".list-inline>li:not(:last-child)::after {content: \"\\00b7\"; padding: 0 .5ex}\n",
       "</style>\n",
       "<ol class=list-inline><li>0</li><li>10</li><li>11</li><li>12</li><li>14</li><li>15</li><li>16</li><li>17</li><li>4</li><li>5</li><li>7</li><li>8</li></ol>\n"
      ],
      "text/latex": [
       "\\begin{enumerate*}\n",
       "\\item 0\n",
       "\\item 10\n",
       "\\item 11\n",
       "\\item 12\n",
       "\\item 14\n",
       "\\item 15\n",
       "\\item 16\n",
       "\\item 17\n",
       "\\item 4\n",
       "\\item 5\n",
       "\\item 7\n",
       "\\item 8\n",
       "\\end{enumerate*}\n"
      ],
      "text/markdown": [
       "1. 0\n",
       "2. 10\n",
       "3. 11\n",
       "4. 12\n",
       "5. 14\n",
       "6. 15\n",
       "7. 16\n",
       "8. 17\n",
       "9. 4\n",
       "10. 5\n",
       "11. 7\n",
       "12. 8\n",
       "\n",
       "\n"
      ],
      "text/plain": [
       " [1]  0 10 11 12 14 15 16 17  4  5  7  8"
      ]
     },
     "metadata": {},
     "output_type": "display_data"
    }
   ],
   "source": [
    "unique(count_net1$target)"
   ]
  },
  {
   "cell_type": "code",
   "execution_count": 1,
   "metadata": {},
   "outputs": [],
   "source": [
    "cal_in_out_interactions = function(count_matrix, domain_list) {\n",
    "    in_out_inters = c()\n",
    "    for (domain in domain_list) {\n",
    "        domain = as.integer(domain)\n",
    "        inters = sum(count_matrix[(count_matrix$target==domain) | (count_matrix$source==domain),])\n",
    "        in_out_inters = c(in_out_inters, inters)\n",
    "    }\n",
    "    \n",
    "    return (in_out_inters)\n",
    "}"
   ]
  },
  {
   "cell_type": "code",
   "execution_count": 19,
   "metadata": {},
   "outputs": [
    {
     "data": {
      "text/html": [
       "<strong>png:</strong> 2"
      ],
      "text/latex": [
       "\\textbf{png:} 2"
      ],
      "text/markdown": [
       "**png:** 2"
      ],
      "text/plain": [
       "png \n",
       "  2 "
      ]
     },
     "metadata": {},
     "output_type": "display_data"
    }
   ],
   "source": [
    "library(tidyr)\n",
    "#library(svglite)\n",
    "platte_MB = c('#1f77b4','#aa40fc', '#8c564b','#b5bd61', '#17becf', '#ffbb78', '#98df8a','#ff9896', '#c49c94','#f7b6d2', '#dbdb8d', '#9edae5')\n",
    "platte_IDC = c()\n",
    "svglite::svglite(\"inter_MB.svg\",width=4, height=4)\n",
    "count_inter <- count_net1\n",
    "count_inter$counts <- count_inter$counts\n",
    "count_inter<-spread(count_inter, target, counts)\n",
    "rownames(count_inter) <- count_inter$source\n",
    "count_inter <- count_inter[, -1]\n",
    "count_inter <- as.matrix(count_inter)\n",
    "# count_inter[is.na(count_inter)] <- 0\n",
    "self_interaction <- diag(count_inter)\n",
    "in_out_inters <- cal_in_out_interactions(count_net1, names(self_interaction))\n",
    "diag(count_inter) <- 0\n",
    "ccp <- netVisual_circle(count_inter,weight.scale = T, \n",
    "                        vertex.weight = in_out_inters,\n",
    "                        color.use=platte_MB,\n",
    "                       ) #\n",
    "# [2, 8, 9,11,13,19],  #Cortex\n",
    "# [5,10,15],  # HPC  \n",
    "# [1],  #thalamus\n",
    "dev.off()"
   ]
  },
  {
   "cell_type": "code",
   "execution_count": 9,
   "metadata": {},
   "outputs": [
    {
     "data": {
      "text/html": [
       "<style>\n",
       ".dl-inline {width: auto; margin:0; padding: 0}\n",
       ".dl-inline>dt, .dl-inline>dd {float: none; width: auto; display: inline-block}\n",
       ".dl-inline>dt::after {content: \":\\0020\"; padding-right: .5ex}\n",
       ".dl-inline>dt:not(:first-of-type) {padding-left: .5ex}\n",
       "</style><dl class=dl-inline><dt>0</dt><dd>1</dd><dt>4</dt><dd>1</dd><dt>5</dt><dd>211</dd><dt>7</dt><dd>1</dd><dt>8</dt><dd>1</dd><dt>10</dt><dd>135</dd><dt>11</dt><dd>1</dd><dt>12</dt><dd>162</dd><dt>14</dt><dd>1</dd><dt>15</dt><dd>1</dd><dt>16</dt><dd>1</dd><dt>17</dt><dd>1</dd></dl>\n"
      ],
      "text/latex": [
       "\\begin{description*}\n",
       "\\item[0] 1\n",
       "\\item[4] 1\n",
       "\\item[5] 211\n",
       "\\item[7] 1\n",
       "\\item[8] 1\n",
       "\\item[10] 135\n",
       "\\item[11] 1\n",
       "\\item[12] 162\n",
       "\\item[14] 1\n",
       "\\item[15] 1\n",
       "\\item[16] 1\n",
       "\\item[17] 1\n",
       "\\end{description*}\n"
      ],
      "text/markdown": [
       "0\n",
       ":   14\n",
       ":   15\n",
       ":   2117\n",
       ":   18\n",
       ":   110\n",
       ":   13511\n",
       ":   112\n",
       ":   16214\n",
       ":   115\n",
       ":   116\n",
       ":   117\n",
       ":   1\n",
       "\n"
      ],
      "text/plain": [
       "  0   4   5   7   8  10  11  12  14  15  16  17 \n",
       "  1   1 211   1   1 135   1 162   1   1   1   1 "
      ]
     },
     "metadata": {},
     "output_type": "display_data"
    }
   ],
   "source": [
    "diag(count_inter)"
   ]
  },
  {
   "cell_type": "code",
   "execution_count": 22,
   "metadata": {},
   "outputs": [
    {
     "data": {
      "text/html": [
       "<table class=\"dataframe\">\n",
       "<caption>A matrix: 12 × 12 of type dbl</caption>\n",
       "<thead>\n",
       "\t<tr><th></th><th scope=col>0</th><th scope=col>4</th><th scope=col>5</th><th scope=col>7</th><th scope=col>8</th><th scope=col>10</th><th scope=col>11</th><th scope=col>12</th><th scope=col>14</th><th scope=col>15</th><th scope=col>16</th><th scope=col>17</th></tr>\n",
       "</thead>\n",
       "<tbody>\n",
       "\t<tr><th scope=row>0</th><td>0</td><td>1</td><td>128</td><td>1</td><td>1</td><td>  1</td><td>1</td><td>  1</td><td>1</td><td>  1</td><td>1</td><td>1</td></tr>\n",
       "\t<tr><th scope=row>4</th><td>1</td><td>0</td><td>  1</td><td>1</td><td>1</td><td>  1</td><td>1</td><td>  1</td><td>1</td><td>  1</td><td>1</td><td>1</td></tr>\n",
       "\t<tr><th scope=row>5</th><td>1</td><td>1</td><td>  0</td><td>1</td><td>1</td><td>169</td><td>1</td><td>170</td><td>1</td><td>126</td><td>1</td><td>1</td></tr>\n",
       "\t<tr><th scope=row>7</th><td>1</td><td>1</td><td>149</td><td>0</td><td>1</td><td>124</td><td>1</td><td>  1</td><td>1</td><td>  1</td><td>1</td><td>1</td></tr>\n",
       "\t<tr><th scope=row>8</th><td>1</td><td>1</td><td>152</td><td>1</td><td>0</td><td>131</td><td>1</td><td>128</td><td>1</td><td>  1</td><td>1</td><td>1</td></tr>\n",
       "\t<tr><th scope=row>10</th><td>1</td><td>1</td><td>154</td><td>1</td><td>1</td><td>  0</td><td>1</td><td>125</td><td>1</td><td>  1</td><td>1</td><td>1</td></tr>\n",
       "\t<tr><th scope=row>11</th><td>1</td><td>1</td><td>  1</td><td>1</td><td>1</td><td>  1</td><td>0</td><td>  1</td><td>1</td><td>  1</td><td>1</td><td>1</td></tr>\n",
       "\t<tr><th scope=row>12</th><td>1</td><td>1</td><td>201</td><td>1</td><td>1</td><td>163</td><td>1</td><td>  0</td><td>1</td><td>  1</td><td>1</td><td>1</td></tr>\n",
       "\t<tr><th scope=row>14</th><td>1</td><td>1</td><td>131</td><td>1</td><td>1</td><td>  1</td><td>1</td><td>  1</td><td>0</td><td>  1</td><td>1</td><td>1</td></tr>\n",
       "\t<tr><th scope=row>15</th><td>1</td><td>1</td><td>  1</td><td>1</td><td>1</td><td>  1</td><td>1</td><td>  1</td><td>1</td><td>  0</td><td>1</td><td>1</td></tr>\n",
       "\t<tr><th scope=row>16</th><td>1</td><td>1</td><td>134</td><td>1</td><td>1</td><td>  1</td><td>1</td><td>  1</td><td>1</td><td>  1</td><td>0</td><td>1</td></tr>\n",
       "\t<tr><th scope=row>17</th><td>1</td><td>1</td><td>  1</td><td>1</td><td>1</td><td>  1</td><td>1</td><td>  1</td><td>1</td><td>  1</td><td>1</td><td>0</td></tr>\n",
       "</tbody>\n",
       "</table>\n"
      ],
      "text/latex": [
       "A matrix: 12 × 12 of type dbl\n",
       "\\begin{tabular}{r|llllllllllll}\n",
       "  & 0 & 4 & 5 & 7 & 8 & 10 & 11 & 12 & 14 & 15 & 16 & 17\\\\\n",
       "\\hline\n",
       "\t0 & 0 & 1 & 128 & 1 & 1 &   1 & 1 &   1 & 1 &   1 & 1 & 1\\\\\n",
       "\t4 & 1 & 0 &   1 & 1 & 1 &   1 & 1 &   1 & 1 &   1 & 1 & 1\\\\\n",
       "\t5 & 1 & 1 &   0 & 1 & 1 & 169 & 1 & 170 & 1 & 126 & 1 & 1\\\\\n",
       "\t7 & 1 & 1 & 149 & 0 & 1 & 124 & 1 &   1 & 1 &   1 & 1 & 1\\\\\n",
       "\t8 & 1 & 1 & 152 & 1 & 0 & 131 & 1 & 128 & 1 &   1 & 1 & 1\\\\\n",
       "\t10 & 1 & 1 & 154 & 1 & 1 &   0 & 1 & 125 & 1 &   1 & 1 & 1\\\\\n",
       "\t11 & 1 & 1 &   1 & 1 & 1 &   1 & 0 &   1 & 1 &   1 & 1 & 1\\\\\n",
       "\t12 & 1 & 1 & 201 & 1 & 1 & 163 & 1 &   0 & 1 &   1 & 1 & 1\\\\\n",
       "\t14 & 1 & 1 & 131 & 1 & 1 &   1 & 1 &   1 & 0 &   1 & 1 & 1\\\\\n",
       "\t15 & 1 & 1 &   1 & 1 & 1 &   1 & 1 &   1 & 1 &   0 & 1 & 1\\\\\n",
       "\t16 & 1 & 1 & 134 & 1 & 1 &   1 & 1 &   1 & 1 &   1 & 0 & 1\\\\\n",
       "\t17 & 1 & 1 &   1 & 1 & 1 &   1 & 1 &   1 & 1 &   1 & 1 & 0\\\\\n",
       "\\end{tabular}\n"
      ],
      "text/markdown": [
       "\n",
       "A matrix: 12 × 12 of type dbl\n",
       "\n",
       "| <!--/--> | 0 | 4 | 5 | 7 | 8 | 10 | 11 | 12 | 14 | 15 | 16 | 17 |\n",
       "|---|---|---|---|---|---|---|---|---|---|---|---|---|\n",
       "| 0 | 0 | 1 | 128 | 1 | 1 |   1 | 1 |   1 | 1 |   1 | 1 | 1 |\n",
       "| 4 | 1 | 0 |   1 | 1 | 1 |   1 | 1 |   1 | 1 |   1 | 1 | 1 |\n",
       "| 5 | 1 | 1 |   0 | 1 | 1 | 169 | 1 | 170 | 1 | 126 | 1 | 1 |\n",
       "| 7 | 1 | 1 | 149 | 0 | 1 | 124 | 1 |   1 | 1 |   1 | 1 | 1 |\n",
       "| 8 | 1 | 1 | 152 | 1 | 0 | 131 | 1 | 128 | 1 |   1 | 1 | 1 |\n",
       "| 10 | 1 | 1 | 154 | 1 | 1 |   0 | 1 | 125 | 1 |   1 | 1 | 1 |\n",
       "| 11 | 1 | 1 |   1 | 1 | 1 |   1 | 0 |   1 | 1 |   1 | 1 | 1 |\n",
       "| 12 | 1 | 1 | 201 | 1 | 1 | 163 | 1 |   0 | 1 |   1 | 1 | 1 |\n",
       "| 14 | 1 | 1 | 131 | 1 | 1 |   1 | 1 |   1 | 0 |   1 | 1 | 1 |\n",
       "| 15 | 1 | 1 |   1 | 1 | 1 |   1 | 1 |   1 | 1 |   0 | 1 | 1 |\n",
       "| 16 | 1 | 1 | 134 | 1 | 1 |   1 | 1 |   1 | 1 |   1 | 0 | 1 |\n",
       "| 17 | 1 | 1 |   1 | 1 | 1 |   1 | 1 |   1 | 1 |   1 | 1 | 0 |\n",
       "\n"
      ],
      "text/plain": [
       "   0 4 5   7 8 10  11 12  14 15  16 17\n",
       "0  0 1 128 1 1   1 1    1 1    1 1  1 \n",
       "4  1 0   1 1 1   1 1    1 1    1 1  1 \n",
       "5  1 1   0 1 1 169 1  170 1  126 1  1 \n",
       "7  1 1 149 0 1 124 1    1 1    1 1  1 \n",
       "8  1 1 152 1 0 131 1  128 1    1 1  1 \n",
       "10 1 1 154 1 1   0 1  125 1    1 1  1 \n",
       "11 1 1   1 1 1   1 0    1 1    1 1  1 \n",
       "12 1 1 201 1 1 163 1    0 1    1 1  1 \n",
       "14 1 1 131 1 1   1 1    1 0    1 1  1 \n",
       "15 1 1   1 1 1   1 1    1 1    0 1  1 \n",
       "16 1 1 134 1 1   1 1    1 1    1 0  1 \n",
       "17 1 1   1 1 1   1 1    1 1    1 1  0 "
      ]
     },
     "metadata": {},
     "output_type": "display_data"
    }
   ],
   "source": [
    "count_inter"
   ]
  },
  {
   "cell_type": "code",
   "execution_count": null,
   "metadata": {},
   "outputs": [],
   "source": []
  }
 ],
 "metadata": {
  "kernelspec": {
   "display_name": "R",
   "language": "R",
   "name": "ir"
  },
  "language_info": {
   "codemirror_mode": "r",
   "file_extension": ".r",
   "mimetype": "text/x-r-source",
   "name": "R",
   "pygments_lexer": "r",
   "version": "4.1.1"
  }
 },
 "nbformat": 4,
 "nbformat_minor": 5
}
