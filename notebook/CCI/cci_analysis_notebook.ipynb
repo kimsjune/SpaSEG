{
 "cells": [
  {
   "cell_type": "code",
   "execution_count": 1,
   "metadata": {},
   "outputs": [],
   "source": [
    "import sys\n",
    "sys.path.append('../../')"
   ]
  },
  {
   "cell_type": "code",
   "execution_count": null,
   "metadata": {},
   "outputs": [],
   "source": [
    "from downstream.cci import cal_spot_lr_score"
   ]
  },
  {
   "cell_type": "code",
   "execution_count": 2,
   "metadata": {},
   "outputs": [],
   "source": [
    "import numpy as np\n",
    "import pandas as pd\n",
    "import scanpy as sc"
   ]
  },
  {
   "cell_type": "code",
   "execution_count": 3,
   "metadata": {},
   "outputs": [
    {
     "data": {
      "text/plain": [
       "AnnData object with n_obs × n_vars = 5150 × 24038\n",
       "    obs: 'array_row', 'array_col', 'n_genes_by_counts', 'log1p_n_genes_by_counts', 'total_counts', 'log1p_total_counts', 'pct_counts_in_top_50_genes', 'pct_counts_in_top_100_genes', 'pct_counts_in_top_200_genes', 'pct_counts_in_top_500_genes', 'total_counts_mt', 'log1p_total_counts_mt', 'pct_counts_mt', 'n_genes', 'SpaSEG_discrete_clusters', 'SpaSEG_clusters', 'spot_neighbors'\n",
       "    var: 'mt', 'n_cells_by_counts', 'mean_counts', 'log1p_mean_counts', 'pct_dropout_by_counts', 'total_counts', 'log1p_total_counts', 'n_cells'\n",
       "    uns: 'SpaSEG_clusters_colors', 'domain_lr_means', 'metrics', 'pca', 'spatial_neighbors'\n",
       "    obsm: 'X_pca', 'cell_types', 'spatial', 'spot_lr_padj', 'spot_lr_score'\n",
       "    varm: 'PCs'\n",
       "    layers: 'count'\n",
       "    obsp: 'spatial_connectivities', 'spatial_distances'"
      ]
     },
     "execution_count": 3,
     "metadata": {},
     "output_type": "execute_result"
    }
   ],
   "source": [
    "adata = sc.read_h5ad('./result/cci/MB/adata_mouse_brain.h5ad')\n",
    "adata"
   ]
  },
  {
   "cell_type": "code",
   "execution_count": 5,
   "metadata": {},
   "outputs": [],
   "source": [
    "CT_dataframe = pd.read_csv('./result/cci/MB/Mouse_Brain_bin200_celltypes_dataframe.csv', index_col=0)\n",
    "# CT_dataframe\n",
    "\n",
    "cell_types_df = CT_dataframe.apply(lambda x : x /CT_dataframe.sum(1))\n",
    "adata.obsm['cell_types'] = cell_types_df"
   ]
  },
  {
   "cell_type": "code",
   "execution_count": 6,
   "metadata": {},
   "outputs": [
    {
     "name": "stderr",
     "output_type": "stream",
     "text": [
      "/media/bgi/liukeyin/.conda/envs/squidpy_env/lib/python3.9/site-packages/tqdm/auto.py:22: TqdmWarning: IProgress not found. Please update jupyter and ipywidgets. See https://ipywidgets.readthedocs.io/en/stable/user_install.html\n",
      "  from .autonotebook import tqdm as notebook_tqdm\n",
      "100%|████████████████████████████████████████████████| 1000/1000 [00:12<00:00, 79.02permutation/s]\n"
     ]
    },
    {
     "name": "stdout",
     "output_type": "stream",
     "text": [
      "Elapsed when finding spot having lr pairs 7.311425380408764s\n",
      "Elapsed when obtaining gene expression for spots and their neighbors 0.636379063129425s\n",
      "Elapsed when calculating lr score for spots 2.159008452668786s\n"
     ]
    },
    {
     "name": "stderr",
     "output_type": "stream",
     "text": [
      "/media/bgi/liukeyin/SpaSEG/CCI/cci_analysis.py:550: FutureWarning: In a future version, `df.iloc[:, i] = newvals` will attempt to set the values inplace instead of always setting a new array. To retain the old behavior, use either `df[df.columns[i]] = newvals` or, if columns are non-unique, `df.isetitem(i, newvals)`\n",
      "  lr_features.iloc[:, 0] = lr_median_means\n",
      "/media/bgi/liukeyin/SpaSEG/CCI/cci_analysis.py:551: FutureWarning: In a future version, `df.iloc[:, i] = newvals` will attempt to set the values inplace instead of always setting a new array. To retain the old behavior, use either `df[df.columns[i]] = newvals` or, if columns are non-unique, `df.isetitem(i, newvals)`\n",
      "  lr_features.iloc[:, 1] = lr_prop_means\n",
      "/media/bgi/liukeyin/SpaSEG/CCI/cci_analysis.py:552: FutureWarning: In a future version, `df.iloc[:, i] = newvals` will attempt to set the values inplace instead of always setting a new array. To retain the old behavior, use either `df[df.columns[i]] = newvals` or, if columns are non-unique, `df.isetitem(i, newvals)`\n",
      "  lr_features.iloc[:, 2] = np.array(median_ranks)\n",
      "/media/bgi/liukeyin/SpaSEG/CCI/cci_analysis.py:553: FutureWarning: In a future version, `df.iloc[:, i] = newvals` will attempt to set the values inplace instead of always setting a new array. To retain the old behavior, use either `df[df.columns[i]] = newvals` or, if columns are non-unique, `df.isetitem(i, newvals)`\n",
      "  lr_features.iloc[:, 3] = np.array(prop_ranks)\n",
      "/media/bgi/liukeyin/SpaSEG/CCI/cci_analysis.py:554: FutureWarning: In a future version, `df.iloc[:, i] = newvals` will attempt to set the values inplace instead of always setting a new array. To retain the old behavior, use either `df[df.columns[i]] = newvals` or, if columns are non-unique, `df.isetitem(i, newvals)`\n",
      "  lr_features.iloc[:, 4] = np.array(mean_ranks)\n"
     ]
    },
    {
     "name": "stdout",
     "output_type": "stream",
     "text": [
      "Elapsed when generating features for permutation test 4.283197849988937s\n"
     ]
    },
    {
     "name": "stderr",
     "output_type": "stream",
     "text": [
      "Generating gene pairs and permutation testing each LR pair...:   0%|        [ time left: 1:45:34 ]"
     ]
    },
    {
     "name": "stdout",
     "output_type": "stream",
     "text": [
      "Permutation test for Jag2|Notch1: 9.20609418861568s\n"
     ]
    },
    {
     "name": "stderr",
     "output_type": "stream",
     "text": [
      "Generating gene pairs and permutation testing each LR pair...:   0%|          [ time left: 46:09 ]"
     ]
    },
    {
     "name": "stdout",
     "output_type": "stream",
     "text": [
      "Permutation test for Dll1|Notch1: 0.4064440866932273s\n"
     ]
    },
    {
     "name": "stderr",
     "output_type": "stream",
     "text": [
      "Generating gene pairs and permutation testing each LR pair...:   0%|          [ time left: 27:27 ]"
     ]
    },
    {
     "name": "stdout",
     "output_type": "stream",
     "text": [
      "Permutation test for Jag1|Notch1: 0.46185773611068726s\n"
     ]
    },
    {
     "name": "stderr",
     "output_type": "stream",
     "text": [
      "Generating gene pairs and permutation testing each LR pair...:   1%|          [ time left: 17:59 ]"
     ]
    },
    {
     "name": "stdout",
     "output_type": "stream",
     "text": [
      "Permutation test for Dll4|Notch1: 0.3097603991627693s\n"
     ]
    },
    {
     "name": "stderr",
     "output_type": "stream",
     "text": [
      "Generating gene pairs and permutation testing each LR pair...:   1%|          [ time left: 13:11 ]"
     ]
    },
    {
     "name": "stdout",
     "output_type": "stream",
     "text": [
      "Permutation test for Dll3|Notch1: 0.41416043136268854s\n"
     ]
    },
    {
     "name": "stderr",
     "output_type": "stream",
     "text": [
      "Generating gene pairs and permutation testing each LR pair...:   1%|          [ time left: 10:48 ]"
     ]
    },
    {
     "name": "stdout",
     "output_type": "stream",
     "text": [
      "Permutation test for Wnt4|Notch1: 0.544812380336225s\n"
     ]
    },
    {
     "name": "stderr",
     "output_type": "stream",
     "text": [
      "Generating gene pairs and permutation testing each LR pair...:   1%|          [ time left: 08:56 ]"
     ]
    },
    {
     "name": "stdout",
     "output_type": "stream",
     "text": [
      "Permutation test for Dlk1|Notch1: 0.45092166122049093s\n"
     ]
    },
    {
     "name": "stderr",
     "output_type": "stream",
     "text": [
      "Generating gene pairs and permutation testing each LR pair...:   1%|          [ time left: 08:07 ]"
     ]
    },
    {
     "name": "stdout",
     "output_type": "stream",
     "text": [
      "Permutation test for Jag2|Notch2: 0.5604636250063777s\n"
     ]
    },
    {
     "name": "stderr",
     "output_type": "stream",
     "text": [
      "Generating gene pairs and permutation testing each LR pair...:   1%|          [ time left: 06:38 ]"
     ]
    },
    {
     "name": "stdout",
     "output_type": "stream",
     "text": [
      "Permutation test for Dll1|Notch2: 0.29901725985109806s\n"
     ]
    },
    {
     "name": "stderr",
     "output_type": "stream",
     "text": [
      "Generating gene pairs and permutation testing each LR pair...:   1%|▏         [ time left: 05:52 ]"
     ]
    },
    {
     "name": "stdout",
     "output_type": "stream",
     "text": [
      "Permutation test for Jag1|Notch2: 0.36722582019865513s\n"
     ]
    },
    {
     "name": "stderr",
     "output_type": "stream",
     "text": [
      "Generating gene pairs and permutation testing each LR pair...:   2%|▏         [ time left: 04:55 ]"
     ]
    },
    {
     "name": "stdout",
     "output_type": "stream",
     "text": [
      "Permutation test for Dll4|Notch2: 0.24924971628934145s\n"
     ]
    },
    {
     "name": "stderr",
     "output_type": "stream",
     "text": [
      "Generating gene pairs and permutation testing each LR pair...:   2%|▏         [ time left: 04:41 ]"
     ]
    },
    {
     "name": "stdout",
     "output_type": "stream",
     "text": [
      "Permutation test for Dll3|Notch2: 0.366947116330266s\n"
     ]
    },
    {
     "name": "stderr",
     "output_type": "stream",
     "text": [
      "Generating gene pairs and permutation testing each LR pair...:   2%|▏         [ time left: 04:32 ]"
     ]
    },
    {
     "name": "stdout",
     "output_type": "stream",
     "text": [
      "Permutation test for Dlk1|Notch2: 0.37203025352209806s\n"
     ]
    },
    {
     "name": "stderr",
     "output_type": "stream",
     "text": [
      "Generating gene pairs and permutation testing each LR pair...:   2%|▏         [ time left: 04:53 ]"
     ]
    },
    {
     "name": "stdout",
     "output_type": "stream",
     "text": [
      "Permutation test for Jag2|Notch3: 0.5093090115115047s\n"
     ]
    },
    {
     "name": "stderr",
     "output_type": "stream",
     "text": [
      "Generating gene pairs and permutation testing each LR pair...:   2%|▏         [ time left: 04:23 ]"
     ]
    },
    {
     "name": "stdout",
     "output_type": "stream",
     "text": [
      "Permutation test for Dll1|Notch3: 0.2854059739038348s\n"
     ]
    },
    {
     "name": "stderr",
     "output_type": "stream",
     "text": [
      "Generating gene pairs and permutation testing each LR pair...:   2%|▏         [ time left: 04:08 ]"
     ]
    },
    {
     "name": "stdout",
     "output_type": "stream",
     "text": [
      "Permutation test for Jag1|Notch3: 0.3182920655235648s\n"
     ]
    },
    {
     "name": "stderr",
     "output_type": "stream",
     "text": [
      "Generating gene pairs and permutation testing each LR pair...:   2%|▏         [ time left: 03:42 ]"
     ]
    },
    {
     "name": "stdout",
     "output_type": "stream",
     "text": [
      "Permutation test for Dll4|Notch3: 0.24252819269895554s\n"
     ]
    },
    {
     "name": "stderr",
     "output_type": "stream",
     "text": [
      "Generating gene pairs and permutation testing each LR pair...:   3%|▏         [ time left: 03:45 ]"
     ]
    },
    {
     "name": "stdout",
     "output_type": "stream",
     "text": [
      "Permutation test for Dll3|Notch3: 0.34647569339722395s\n"
     ]
    },
    {
     "name": "stderr",
     "output_type": "stream",
     "text": [
      "Generating gene pairs and permutation testing each LR pair...:   3%|▏         [ time left: 03:49 ]"
     ]
    },
    {
     "name": "stdout",
     "output_type": "stream",
     "text": [
      "Permutation test for Dlk1|Notch3: 0.35720094200223684s\n"
     ]
    },
    {
     "name": "stderr",
     "output_type": "stream",
     "text": [
      "Generating gene pairs and permutation testing each LR pair...:   3%|▎         [ time left: 03:29 ]"
     ]
    },
    {
     "name": "stdout",
     "output_type": "stream",
     "text": [
      "Permutation test for Scgb3a1|Notch3: 0.24510318040847778s\n"
     ]
    },
    {
     "name": "stderr",
     "output_type": "stream",
     "text": [
      "Generating gene pairs and permutation testing each LR pair...:   3%|▎         [ time left: 03:34 ]"
     ]
    },
    {
     "name": "stdout",
     "output_type": "stream",
     "text": [
      "Permutation test for Jag2|Notch4: 0.5152370221912861s\n",
      "Permutation test for Dll1|Notch4: 0.1988257821649313s\n"
     ]
    },
    {
     "name": "stderr",
     "output_type": "stream",
     "text": [
      "Generating gene pairs and permutation testing each LR pair...:   3%|▎         [ time left: 03:24 ]"
     ]
    },
    {
     "name": "stdout",
     "output_type": "stream",
     "text": [
      "Permutation test for Jag1|Notch4: 0.2692203437909484s\n"
     ]
    },
    {
     "name": "stderr",
     "output_type": "stream",
     "text": [
      "Generating gene pairs and permutation testing each LR pair...:   3%|▎         [ time left: 03:07 ]"
     ]
    },
    {
     "name": "stdout",
     "output_type": "stream",
     "text": [
      "Permutation test for Dll4|Notch4: 0.2256138026714325s\n"
     ]
    },
    {
     "name": "stderr",
     "output_type": "stream",
     "text": [
      "Generating gene pairs and permutation testing each LR pair...:   4%|▎         [ time left: 03:06 ]"
     ]
    },
    {
     "name": "stdout",
     "output_type": "stream",
     "text": [
      "Permutation test for Dll3|Notch4: 0.2742802929133177s\n"
     ]
    },
    {
     "name": "stderr",
     "output_type": "stream",
     "text": [
      "Generating gene pairs and permutation testing each LR pair...:   4%|▎         [ time left: 03:10 ]"
     ]
    },
    {
     "name": "stdout",
     "output_type": "stream",
     "text": [
      "Permutation test for Dlk1|Notch4: 0.30476626474410295s\n"
     ]
    },
    {
     "name": "stderr",
     "output_type": "stream",
     "text": [
      "Generating gene pairs and permutation testing each LR pair...:   4%|▎         [ time left: 05:11 ]"
     ]
    },
    {
     "name": "stdout",
     "output_type": "stream",
     "text": [
      "Permutation test for Igf1|Igf1r: 0.8935608034953475s\n"
     ]
    },
    {
     "name": "stderr",
     "output_type": "stream",
     "text": [
      "Generating gene pairs and permutation testing each LR pair...:   4%|▎         [ time left: 06:27 ]"
     ]
    },
    {
     "name": "stdout",
     "output_type": "stream",
     "text": [
      "Permutation test for Igf2|Igf1r: 0.8572218995541334s\n"
     ]
    },
    {
     "name": "stderr",
     "output_type": "stream",
     "text": [
      "Generating gene pairs and permutation testing each LR pair...:   4%|▍         [ time left: 05:59 ]"
     ]
    },
    {
     "name": "stdout",
     "output_type": "stream",
     "text": [
      "Permutation test for Igf1|Itgb4: 0.4458490237593651s\n"
     ]
    },
    {
     "name": "stderr",
     "output_type": "stream",
     "text": [
      "Generating gene pairs and permutation testing each LR pair...:   4%|▍         [ time left: 06:06 ]"
     ]
    },
    {
     "name": "stdout",
     "output_type": "stream",
     "text": [
      "Permutation test for Jag1|Cd46: 0.5817566635087132s\n"
     ]
    },
    {
     "name": "stderr",
     "output_type": "stream",
     "text": [
      "Generating gene pairs and permutation testing each LR pair...:   4%|▍         [ time left: 05:42 ]"
     ]
    },
    {
     "name": "stdout",
     "output_type": "stream",
     "text": [
      "Permutation test for Wnt5a|Fzd2: 0.4350206470116973s\n"
     ]
    },
    {
     "name": "stderr",
     "output_type": "stream",
     "text": [
      "Generating gene pairs and permutation testing each LR pair...:   5%|▍         [ time left: 04:56 ]"
     ]
    },
    {
     "name": "stdout",
     "output_type": "stream",
     "text": [
      "Permutation test for Wnt3a|Fzd2: 0.28988595586270094s\n"
     ]
    },
    {
     "name": "stderr",
     "output_type": "stream",
     "text": [
      "Generating gene pairs and permutation testing each LR pair...:   5%|▍         [ time left: 04:39 ]"
     ]
    },
    {
     "name": "stdout",
     "output_type": "stream",
     "text": [
      "Permutation test for Wnt2|Fzd2: 0.36610486451536417s\n"
     ]
    },
    {
     "name": "stderr",
     "output_type": "stream",
     "text": [
      "Generating gene pairs and permutation testing each LR pair...:   5%|▍         [ time left: 04:07 ]"
     ]
    },
    {
     "name": "stdout",
     "output_type": "stream",
     "text": [
      "Permutation test for Wnt5a|Fzd5: 0.264316538348794s\n"
     ]
    },
    {
     "name": "stderr",
     "output_type": "stream",
     "text": [
      "Generating gene pairs and permutation testing each LR pair...:   5%|▍         [ time left: 03:53 ]"
     ]
    },
    {
     "name": "stdout",
     "output_type": "stream",
     "text": [
      "Permutation test for Wnt7a|Fzd5: 0.30661911610513926s\n"
     ]
    },
    {
     "name": "stderr",
     "output_type": "stream",
     "text": [
      "Generating gene pairs and permutation testing each LR pair...:   5%|▍         [ time left: 03:45 ]"
     ]
    },
    {
     "name": "stdout",
     "output_type": "stream",
     "text": [
      "Permutation test for Wnt5a|Ror2: 0.31761773210018873s\n"
     ]
    },
    {
     "name": "stderr",
     "output_type": "stream",
     "text": [
      "Generating gene pairs and permutation testing each LR pair...:   5%|▍         [ time left: 03:30 ]"
     ]
    },
    {
     "name": "stdout",
     "output_type": "stream",
     "text": [
      "Permutation test for Wnt1|Ror2: 0.26807914208620787s\n"
     ]
    },
    {
     "name": "stderr",
     "output_type": "stream",
     "text": [
      "Generating gene pairs and permutation testing each LR pair...:   6%|▍         [ time left: 03:58 ]"
     ]
    },
    {
     "name": "stdout",
     "output_type": "stream",
     "text": [
      "Permutation test for Wnt5a|Ror1: 0.4659894648939371s\n"
     ]
    },
    {
     "name": "stderr",
     "output_type": "stream",
     "text": [
      "Generating gene pairs and permutation testing each LR pair...:   6%|▌         [ time left: 03:47 ]"
     ]
    },
    {
     "name": "stdout",
     "output_type": "stream",
     "text": [
      "Permutation test for Wnt5a|Fzd6: 0.31368331145495176s\n"
     ]
    },
    {
     "name": "stderr",
     "output_type": "stream",
     "text": [
      "Generating gene pairs and permutation testing each LR pair...:   6%|▌         [ time left: 04:11 ]"
     ]
    },
    {
     "name": "stdout",
     "output_type": "stream",
     "text": [
      "Permutation test for Wnt4|Fzd6: 0.470417283475399s\n"
     ]
    },
    {
     "name": "stderr",
     "output_type": "stream",
     "text": [
      "Generating gene pairs and permutation testing each LR pair...:   6%|▌         [ time left: 05:15 ]"
     ]
    },
    {
     "name": "stdout",
     "output_type": "stream",
     "text": [
      "Permutation test for Wnt5a|Fzd3: 0.7216741433367133s\n"
     ]
    },
    {
     "name": "stderr",
     "output_type": "stream",
     "text": [
      "Generating gene pairs and permutation testing each LR pair...:   6%|▌         [ time left: 05:25 ]"
     ]
    },
    {
     "name": "stdout",
     "output_type": "stream",
     "text": [
      "Permutation test for Wnt2|Fzd3: 0.5406807428225875s\n"
     ]
    },
    {
     "name": "stderr",
     "output_type": "stream",
     "text": [
      "Generating gene pairs and permutation testing each LR pair...:   6%|▌         [ time left: 05:45 ]"
     ]
    },
    {
     "name": "stdout",
     "output_type": "stream",
     "text": [
      "Permutation test for Wnt1|Fzd3: 0.6083818776533008s\n"
     ]
    },
    {
     "name": "stderr",
     "output_type": "stream",
     "text": [
      "Generating gene pairs and permutation testing each LR pair...:   6%|▌         [ time left: 06:12 ]"
     ]
    },
    {
     "name": "stdout",
     "output_type": "stream",
     "text": [
      "Permutation test for Wnt5a|Epha7: 0.6760689513757825s\n"
     ]
    },
    {
     "name": "stderr",
     "output_type": "stream",
     "text": [
      "Generating gene pairs and permutation testing each LR pair...:   7%|▌         [ time left: 06:35 ]"
     ]
    },
    {
     "name": "stdout",
     "output_type": "stream",
     "text": [
      "Permutation test for Efna1|Epha7: 0.6961889266967773s\n"
     ]
    },
    {
     "name": "stderr",
     "output_type": "stream",
     "text": [
      "Generating gene pairs and permutation testing each LR pair...:   7%|▌         [ time left: 06:57 ]"
     ]
    },
    {
     "name": "stdout",
     "output_type": "stream",
     "text": [
      "Permutation test for Efna2|Epha7: 0.7312354762107134s\n"
     ]
    },
    {
     "name": "stderr",
     "output_type": "stream",
     "text": [
      "Generating gene pairs and permutation testing each LR pair...:   7%|▌         [ time left: 07:51 ]"
     ]
    },
    {
     "name": "stdout",
     "output_type": "stream",
     "text": [
      "Permutation test for Efna5|Epha7: 0.9332346990704536s\n"
     ]
    },
    {
     "name": "stderr",
     "output_type": "stream",
     "text": [
      "Generating gene pairs and permutation testing each LR pair...:   7%|▋         [ time left: 08:08 ]"
     ]
    },
    {
     "name": "stdout",
     "output_type": "stream",
     "text": [
      "Permutation test for Efna3|Epha7: 0.8268675999715924s\n"
     ]
    },
    {
     "name": "stderr",
     "output_type": "stream",
     "text": [
      "Generating gene pairs and permutation testing each LR pair...:   7%|▋         [ time left: 06:39 ]"
     ]
    },
    {
     "name": "stdout",
     "output_type": "stream",
     "text": [
      "Permutation test for Efna4|Epha7: 0.2979419520124793s\n"
     ]
    },
    {
     "name": "stderr",
     "output_type": "stream",
     "text": [
      "Generating gene pairs and permutation testing each LR pair...:   7%|▋         [ time left: 06:50 ]"
     ]
    },
    {
     "name": "stdout",
     "output_type": "stream",
     "text": [
      "Permutation test for Wnt5a|Ptprk: 0.6870284369215369s\n"
     ]
    },
    {
     "name": "stderr",
     "output_type": "stream",
     "text": [
      "Generating gene pairs and permutation testing each LR pair...:   7%|▋         [ time left: 06:49 ]"
     ]
    },
    {
     "name": "stdout",
     "output_type": "stream",
     "text": [
      "Permutation test for Bmp7|Ptprk: 0.640537554398179s\n"
     ]
    },
    {
     "name": "stderr",
     "output_type": "stream",
     "text": [
      "Generating gene pairs and permutation testing each LR pair...:   8%|▋         [ time left: 06:55 ]"
     ]
    },
    {
     "name": "stdout",
     "output_type": "stream",
     "text": [
      "Permutation test for Lgals9|Ptprk: 0.6735575087368488s\n"
     ]
    },
    {
     "name": "stderr",
     "output_type": "stream",
     "text": [
      "Generating gene pairs and permutation testing each LR pair...:   8%|▋         [ time left: 04:49 ]"
     ]
    },
    {
     "name": "stdout",
     "output_type": "stream",
     "text": [
      "Permutation test for Wnt5a|Fzd1: 0.3693190719932318s\n",
      "Permutation test for Wnt3a|Fzd1: 0.19279125332832336s\n"
     ]
    },
    {
     "name": "stderr",
     "output_type": "stream",
     "text": [
      "Generating gene pairs and permutation testing each LR pair...:   8%|▋         [ time left: 04:18 ]"
     ]
    },
    {
     "name": "stdout",
     "output_type": "stream",
     "text": [
      "Permutation test for Wnt2|Fzd1: 0.29430867824703455s\n"
     ]
    },
    {
     "name": "stderr",
     "output_type": "stream",
     "text": [
      "Generating gene pairs and permutation testing each LR pair...:   8%|▋         [ time left: 04:05 ]"
     ]
    },
    {
     "name": "stdout",
     "output_type": "stream",
     "text": [
      "Permutation test for Wnt1|Fzd1: 0.3422089219093323s\n"
     ]
    },
    {
     "name": "stderr",
     "output_type": "stream",
     "text": [
      "Generating gene pairs and permutation testing each LR pair...:   8%|▋         [ time left: 04:14 ]"
     ]
    },
    {
     "name": "stdout",
     "output_type": "stream",
     "text": [
      "Permutation test for Wnt4|Fzd1: 0.4378045415505767s\n"
     ]
    },
    {
     "name": "stderr",
     "output_type": "stream",
     "text": [
      "Generating gene pairs and permutation testing each LR pair...:   8%|▊         [ time left: 04:36 ]"
     ]
    },
    {
     "name": "stdout",
     "output_type": "stream",
     "text": [
      "Permutation test for Wnt7b|Fzd1: 0.5167562337592244s\n"
     ]
    },
    {
     "name": "stderr",
     "output_type": "stream",
     "text": [
      "Generating gene pairs and permutation testing each LR pair...:   9%|▊         [ time left: 04:22 ]"
     ]
    },
    {
     "name": "stdout",
     "output_type": "stream",
     "text": [
      "Permutation test for Wnt3|Fzd1: 0.36436295229941607s\n"
     ]
    },
    {
     "name": "stderr",
     "output_type": "stream",
     "text": [
      "Generating gene pairs and permutation testing each LR pair...:   9%|▊         [ time left: 04:54 ]"
     ]
    },
    {
     "name": "stdout",
     "output_type": "stream",
     "text": [
      "Permutation test for Wnt5a|Antxr1: 0.5910276006907225s\n"
     ]
    },
    {
     "name": "stderr",
     "output_type": "stream",
     "text": [
      "Generating gene pairs and permutation testing each LR pair...:   9%|▊         [ time left: 05:32 ]"
     ]
    },
    {
     "name": "stdout",
     "output_type": "stream",
     "text": [
      "Permutation test for Gdf11|Antxr1: 0.6712199505418539s\n"
     ]
    },
    {
     "name": "stderr",
     "output_type": "stream",
     "text": [
      "Generating gene pairs and permutation testing each LR pair...:   9%|▊         [ time left: 04:52 ]"
     ]
    },
    {
     "name": "stdout",
     "output_type": "stream",
     "text": [
      "Permutation test for Epo|Epor: 0.3171518836170435s\n"
     ]
    },
    {
     "name": "stderr",
     "output_type": "stream",
     "text": [
      "Generating gene pairs and permutation testing each LR pair...:   9%|▊         [ time left: 04:25 ]"
     ]
    },
    {
     "name": "stdout",
     "output_type": "stream",
     "text": [
      "Permutation test for Epo|Ephb4: 0.3218169054016471s\n"
     ]
    },
    {
     "name": "stderr",
     "output_type": "stream",
     "text": [
      "Generating gene pairs and permutation testing each LR pair...:   9%|▊         [ time left: 05:27 ]"
     ]
    },
    {
     "name": "stdout",
     "output_type": "stream",
     "text": [
      "Permutation test for Efnb3|Ephb4: 0.7586471997201443s\n"
     ]
    },
    {
     "name": "stderr",
     "output_type": "stream",
     "text": [
      "Generating gene pairs and permutation testing each LR pair...:   9%|▊         [ time left: 05:24 ]"
     ]
    },
    {
     "name": "stdout",
     "output_type": "stream",
     "text": [
      "Permutation test for Efnb2|Ephb4: 0.5088643813505769s\n"
     ]
    },
    {
     "name": "stderr",
     "output_type": "stream",
     "text": [
      "Generating gene pairs and permutation testing each LR pair...:  10%|▊         [ time left: 05:02 ]"
     ]
    },
    {
     "name": "stdout",
     "output_type": "stream",
     "text": [
      "Permutation test for Efnb1|Ephb4: 0.40440878458321095s\n"
     ]
    },
    {
     "name": "stderr",
     "output_type": "stream",
     "text": [
      "Generating gene pairs and permutation testing each LR pair...:  10%|▉         [ time left: 04:15 ]"
     ]
    },
    {
     "name": "stdout",
     "output_type": "stream",
     "text": [
      "Permutation test for Epor|Epo: 0.23249591700732708s\n"
     ]
    },
    {
     "name": "stderr",
     "output_type": "stream",
     "text": [
      "Generating gene pairs and permutation testing each LR pair...:  10%|▉         [ time left: 03:56 ]"
     ]
    },
    {
     "name": "stdout",
     "output_type": "stream",
     "text": [
      "Permutation test for Tnfsf10|Tnfrsf11b: 0.3109326222911477s\n"
     ]
    },
    {
     "name": "stderr",
     "output_type": "stream",
     "text": [
      "Generating gene pairs and permutation testing each LR pair...:  10%|▉         [ time left: 03:32 ]"
     ]
    },
    {
     "name": "stdout",
     "output_type": "stream",
     "text": [
      "Permutation test for Tnfsf11|Tnfrsf11b: 0.255689206533134s\n"
     ]
    },
    {
     "name": "stderr",
     "output_type": "stream",
     "text": [
      "Generating gene pairs and permutation testing each LR pair...:  10%|▉         [ time left: 03:20 ]"
     ]
    },
    {
     "name": "stdout",
     "output_type": "stream",
     "text": [
      "Permutation test for Tnfsf10|Ripk1: 0.2786827338859439s\n"
     ]
    },
    {
     "name": "stderr",
     "output_type": "stream",
     "text": [
      "Generating gene pairs and permutation testing each LR pair...:  10%|▉         [ time left: 03:07 ]"
     ]
    },
    {
     "name": "stdout",
     "output_type": "stream",
     "text": [
      "Permutation test for Lta|Ripk1: 0.25252412632107735s\n"
     ]
    },
    {
     "name": "stderr",
     "output_type": "stream",
     "text": [
      "Generating gene pairs and permutation testing each LR pair...:  10%|▉         [ time left: 03:59 ]"
     ]
    },
    {
     "name": "stdout",
     "output_type": "stream",
     "text": [
      "Permutation test for Igf2|Igf2r: 0.5860155262053013s\n"
     ]
    },
    {
     "name": "stderr",
     "output_type": "stream",
     "text": [
      "Generating gene pairs and permutation testing each LR pair...:  11%|▉         [ time left: 03:30 ]"
     ]
    },
    {
     "name": "stdout",
     "output_type": "stream",
     "text": [
      "Permutation test for Igf2|Gpr152: 0.23333719931542873s\n"
     ]
    },
    {
     "name": "stderr",
     "output_type": "stream",
     "text": [
      "Generating gene pairs and permutation testing each LR pair...:  11%|▉         [ time left: 03:16 ]"
     ]
    },
    {
     "name": "stdout",
     "output_type": "stream",
     "text": [
      "Permutation test for Bdnf|Gpr152: 0.2666560607030988s\n"
     ]
    },
    {
     "name": "stderr",
     "output_type": "stream",
     "text": [
      "Generating gene pairs and permutation testing each LR pair...:  11%|▉         [ time left: 03:12 ]"
     ]
    },
    {
     "name": "stdout",
     "output_type": "stream",
     "text": [
      "Permutation test for Cxcl10|Dpp4: 0.2978974487632513s\n"
     ]
    },
    {
     "name": "stderr",
     "output_type": "stream",
     "text": [
      "Generating gene pairs and permutation testing each LR pair...:  11%|▉         [ time left: 03:57 ]"
     ]
    },
    {
     "name": "stdout",
     "output_type": "stream",
     "text": [
      "Permutation test for Cxcl12|Dpp4: 0.5598293747752905s\n"
     ]
    },
    {
     "name": "stderr",
     "output_type": "stream",
     "text": [
      "Generating gene pairs and permutation testing each LR pair...:  11%|█         [ time left: 03:28 ]"
     ]
    },
    {
     "name": "stdout",
     "output_type": "stream",
     "text": [
      "Permutation test for Ccl22|Dpp4: 0.23202124051749706s\n"
     ]
    },
    {
     "name": "stderr",
     "output_type": "stream",
     "text": [
      "Generating gene pairs and permutation testing each LR pair...:  11%|█         [ time left: 03:12 ]"
     ]
    },
    {
     "name": "stdout",
     "output_type": "stream",
     "text": [
      "Permutation test for Gcg|Dpp4: 0.2530852919444442s\n"
     ]
    },
    {
     "name": "stderr",
     "output_type": "stream",
     "text": [
      "Generating gene pairs and permutation testing each LR pair...:  11%|█         [ time left: 03:26 ]"
     ]
    },
    {
     "name": "stdout",
     "output_type": "stream",
     "text": [
      "Permutation test for Adcyap1|Dpp4: 0.3927794396877289s\n"
     ]
    },
    {
     "name": "stderr",
     "output_type": "stream",
     "text": [
      "Generating gene pairs and permutation testing each LR pair...:  12%|█         [ time left: 03:52 ]"
     ]
    },
    {
     "name": "stdout",
     "output_type": "stream",
     "text": [
      "Permutation test for Vip|Dpp4: 0.4815474608913064s\n"
     ]
    },
    {
     "name": "stderr",
     "output_type": "stream",
     "text": [
      "Generating gene pairs and permutation testing each LR pair...:  12%|█         [ time left: 03:34 ]"
     ]
    },
    {
     "name": "stdout",
     "output_type": "stream",
     "text": [
      "Permutation test for Gip|Dpp4: 0.2842732444405556s\n"
     ]
    },
    {
     "name": "stderr",
     "output_type": "stream",
     "text": [
      "Generating gene pairs and permutation testing each LR pair...:  12%|█         [ time left: 03:25 ]"
     ]
    },
    {
     "name": "stdout",
     "output_type": "stream",
     "text": [
      "Permutation test for Ccl5|Ccr5: 0.3065221095457673s\n"
     ]
    },
    {
     "name": "stderr",
     "output_type": "stream",
     "text": [
      "Generating gene pairs and permutation testing each LR pair...:  12%|█         [ time left: 03:10 ]"
     ]
    },
    {
     "name": "stdout",
     "output_type": "stream",
     "text": [
      "Permutation test for Ccl4|Ccr5: 0.2538303881883621s\n"
     ]
    },
    {
     "name": "stderr",
     "output_type": "stream",
     "text": [
      "Generating gene pairs and permutation testing each LR pair...:  12%|█         [ time left: 02:59 ]"
     ]
    },
    {
     "name": "stdout",
     "output_type": "stream",
     "text": [
      "Permutation test for Ccl3|Ccr5: 0.2547888895496726s\n"
     ]
    },
    {
     "name": "stderr",
     "output_type": "stream",
     "text": [
      "Generating gene pairs and permutation testing each LR pair...:  12%|█         [ time left: 02:51 ]"
     ]
    },
    {
     "name": "stdout",
     "output_type": "stream",
     "text": [
      "Permutation test for Ccl5|Ccr1: 0.2529560988768935s\n"
     ]
    },
    {
     "name": "stderr",
     "output_type": "stream",
     "text": [
      "Generating gene pairs and permutation testing each LR pair...:  12%|█         [ time left: 02:37 ]"
     ]
    },
    {
     "name": "stdout",
     "output_type": "stream",
     "text": [
      "Permutation test for Ccl3|Ccr1: 0.20718053821474314s\n"
     ]
    },
    {
     "name": "stderr",
     "output_type": "stream",
     "text": [
      "Generating gene pairs and permutation testing each LR pair...:  13%|█▏        [ time left: 02:38 ]"
     ]
    },
    {
     "name": "stdout",
     "output_type": "stream",
     "text": [
      "Permutation test for Ccl5|Gpr75: 0.2687098849564791s\n"
     ]
    },
    {
     "name": "stderr",
     "output_type": "stream",
     "text": [
      "Generating gene pairs and permutation testing each LR pair...:  13%|█▏        [ time left: 02:43 ]"
     ]
    },
    {
     "name": "stdout",
     "output_type": "stream",
     "text": [
      "Permutation test for Ccl5|Ackr1: 0.2911358745768666s\n"
     ]
    },
    {
     "name": "stderr",
     "output_type": "stream",
     "text": [
      "Generating gene pairs and permutation testing each LR pair...:  13%|█▏        [ time left: 02:40 ]"
     ]
    },
    {
     "name": "stdout",
     "output_type": "stream",
     "text": [
      "Permutation test for Ccl2|Ackr1: 0.2556881532073021s\n"
     ]
    },
    {
     "name": "stderr",
     "output_type": "stream",
     "text": [
      "Generating gene pairs and permutation testing each LR pair...:  13%|█▏        [ time left: 03:11 ]"
     ]
    },
    {
     "name": "stdout",
     "output_type": "stream",
     "text": [
      "Permutation test for Ccl17|Ackr1: 0.44090755097568035s\n"
     ]
    },
    {
     "name": "stderr",
     "output_type": "stream",
     "text": [
      "Generating gene pairs and permutation testing each LR pair...:  13%|█▏        [ time left: 02:58 ]"
     ]
    },
    {
     "name": "stdout",
     "output_type": "stream",
     "text": [
      "Permutation test for Cxcl5|Ackr1: 0.2457478465512395s\n"
     ]
    },
    {
     "name": "stderr",
     "output_type": "stream",
     "text": [
      "Generating gene pairs and permutation testing each LR pair...:  13%|█▏        [ time left: 03:24 ]"
     ]
    },
    {
     "name": "stdout",
     "output_type": "stream",
     "text": [
      "Permutation test for Pf4|Ackr1: 0.4474919345229864s\n"
     ]
    },
    {
     "name": "stderr",
     "output_type": "stream",
     "text": [
      "Generating gene pairs and permutation testing each LR pair...:  13%|█▏        [ time left: 03:05 ]"
     ]
    },
    {
     "name": "stdout",
     "output_type": "stream",
     "text": [
      "Permutation test for Ccl5|Ackr2: 0.23396074399352074s\n"
     ]
    },
    {
     "name": "stderr",
     "output_type": "stream",
     "text": [
      "Generating gene pairs and permutation testing each LR pair...:  14%|█▏        [ time left: 02:46 ]"
     ]
    },
    {
     "name": "stdout",
     "output_type": "stream",
     "text": [
      "Permutation test for Ccl4|Ackr2: 0.20816950034350157s\n"
     ]
    },
    {
     "name": "stderr",
     "output_type": "stream",
     "text": [
      "Generating gene pairs and permutation testing each LR pair...:  14%|█▏        [ time left: 02:34 ]"
     ]
    },
    {
     "name": "stdout",
     "output_type": "stream",
     "text": [
      "Permutation test for Ccl3|Ackr2: 0.21023351419717073s\n"
     ]
    },
    {
     "name": "stderr",
     "output_type": "stream",
     "text": [
      "Generating gene pairs and permutation testing each LR pair...:  14%|█▎        [ time left: 02:37 ]"
     ]
    },
    {
     "name": "stdout",
     "output_type": "stream",
     "text": [
      "Permutation test for Ccl28|Ackr2: 0.27876313123852015s\n"
     ]
    },
    {
     "name": "stderr",
     "output_type": "stream",
     "text": [
      "Generating gene pairs and permutation testing each LR pair...:  14%|█▎        [ time left: 02:27 ]"
     ]
    },
    {
     "name": "stdout",
     "output_type": "stream",
     "text": [
      "Permutation test for Ccl2|Ackr2: 0.20814408548176289s\n"
     ]
    },
    {
     "name": "stderr",
     "output_type": "stream",
     "text": [
      "Generating gene pairs and permutation testing each LR pair...:  14%|█▎        [ time left: 02:27 ]"
     ]
    },
    {
     "name": "stdout",
     "output_type": "stream",
     "text": [
      "Permutation test for Ccl5|Ackr4: 0.2530241571366787s\n"
     ]
    },
    {
     "name": "stderr",
     "output_type": "stream",
     "text": [
      "Generating gene pairs and permutation testing each LR pair...:  14%|█▎        [ time left: 02:31 ]"
     ]
    },
    {
     "name": "stdout",
     "output_type": "stream",
     "text": [
      "Permutation test for Ccl25|Ackr4: 0.27109749522060156s\n"
     ]
    },
    {
     "name": "stderr",
     "output_type": "stream",
     "text": [
      "Generating gene pairs and permutation testing each LR pair...:  15%|█▎        [ time left: 02:31 ]"
     ]
    },
    {
     "name": "stdout",
     "output_type": "stream",
     "text": [
      "Permutation test for Ccl5|Ccr4: 0.2568637365475297s\n"
     ]
    },
    {
     "name": "stderr",
     "output_type": "stream",
     "text": [
      "Generating gene pairs and permutation testing each LR pair...:  15%|█▎        [ time left: 02:25 ]"
     ]
    },
    {
     "name": "stdout",
     "output_type": "stream",
     "text": [
      "Permutation test for Ccl17|Ccr4: 0.22405297122895718s\n"
     ]
    },
    {
     "name": "stderr",
     "output_type": "stream",
     "text": [
      "Generating gene pairs and permutation testing each LR pair...:  15%|█▎        [ time left: 02:18 ]"
     ]
    },
    {
     "name": "stdout",
     "output_type": "stream",
     "text": [
      "Permutation test for Ccl22|Ccr4: 0.20862444955855608s\n"
     ]
    },
    {
     "name": "stderr",
     "output_type": "stream",
     "text": [
      "Generating gene pairs and permutation testing each LR pair...:  15%|█▎        [ time left: 02:28 ]"
     ]
    },
    {
     "name": "stdout",
     "output_type": "stream",
     "text": [
      "Permutation test for Ccl24|Ccr2: 0.29369957465678453s\n"
     ]
    },
    {
     "name": "stderr",
     "output_type": "stream",
     "text": [
      "Generating gene pairs and permutation testing each LR pair...:  15%|█▎        [ time left: 02:35 ]"
     ]
    },
    {
     "name": "stdout",
     "output_type": "stream",
     "text": [
      "Permutation test for Ccl1|Ccr8: 0.2944905748590827s\n"
     ]
    },
    {
     "name": "stderr",
     "output_type": "stream",
     "text": [
      "Generating gene pairs and permutation testing each LR pair...:  15%|█▎        [ time left: 02:33 ]"
     ]
    },
    {
     "name": "stdout",
     "output_type": "stream",
     "text": [
      "Permutation test for Spp1|Ccr8: 0.25341768376529217s\n"
     ]
    },
    {
     "name": "stderr",
     "output_type": "stream",
     "text": [
      "Generating gene pairs and permutation testing each LR pair...:  15%|█▍        [ time left: 02:31 ]"
     ]
    },
    {
     "name": "stdout",
     "output_type": "stream",
     "text": [
      "Permutation test for Ccl4|Cnr2: 0.25185812171548605s\n"
     ]
    },
    {
     "name": "stderr",
     "output_type": "stream",
     "text": [
      "Generating gene pairs and permutation testing each LR pair...:  16%|█▍        [ time left: 02:30 ]"
     ]
    },
    {
     "name": "stdout",
     "output_type": "stream",
     "text": [
      "Permutation test for Ccl4|Gprc5d: 0.25271706841886044s\n"
     ]
    },
    {
     "name": "stderr",
     "output_type": "stream",
     "text": [
      "Generating gene pairs and permutation testing each LR pair...:  16%|█▍        [ time left: 02:30 ]"
     ]
    },
    {
     "name": "stdout",
     "output_type": "stream",
     "text": [
      "Permutation test for Ccl4|Slc7a1: 0.2583950739353895s\n"
     ]
    },
    {
     "name": "stderr",
     "output_type": "stream",
     "text": [
      "Generating gene pairs and permutation testing each LR pair...:  16%|█▍        [ time left: 03:24 ]"
     ]
    },
    {
     "name": "stdout",
     "output_type": "stream",
     "text": [
      "Permutation test for Csf1|Slc7a1: 0.5719185611233115s\n"
     ]
    },
    {
     "name": "stderr",
     "output_type": "stream",
     "text": [
      "Generating gene pairs and permutation testing each LR pair...:  16%|█▍        [ time left: 03:41 ]"
     ]
    },
    {
     "name": "stdout",
     "output_type": "stream",
     "text": [
      "Permutation test for Egf|Egfr: 0.448633654974401s\n"
     ]
    },
    {
     "name": "stderr",
     "output_type": "stream",
     "text": [
      "Generating gene pairs and permutation testing each LR pair...:  16%|█▍        [ time left: 04:12 ]"
     ]
    },
    {
     "name": "stdout",
     "output_type": "stream",
     "text": [
      "Permutation test for Tgfa|Egfr: 0.5636989613994956s\n"
     ]
    },
    {
     "name": "stderr",
     "output_type": "stream",
     "text": [
      "Generating gene pairs and permutation testing each LR pair...:  16%|█▍        [ time left: 03:51 ]"
     ]
    },
    {
     "name": "stdout",
     "output_type": "stream",
     "text": [
      "Permutation test for Tgfb1|Egfr: 0.3153880862519145s\n"
     ]
    },
    {
     "name": "stderr",
     "output_type": "stream",
     "text": [
      "Generating gene pairs and permutation testing each LR pair...:  16%|█▍        [ time left: 05:32 ]"
     ]
    },
    {
     "name": "stdout",
     "output_type": "stream",
     "text": [
      "Permutation test for Nrg1|Egfr: 0.9873110465705395s\n"
     ]
    },
    {
     "name": "stderr",
     "output_type": "stream",
     "text": [
      "Generating gene pairs and permutation testing each LR pair...:  17%|█▍        [ time left: 04:36 ]"
     ]
    },
    {
     "name": "stdout",
     "output_type": "stream",
     "text": [
      "Permutation test for Areg|Egfr: 0.2551026064902544s\n"
     ]
    },
    {
     "name": "stderr",
     "output_type": "stream",
     "text": [
      "Generating gene pairs and permutation testing each LR pair...:  17%|█▌        [ time left: 04:38 ]"
     ]
    },
    {
     "name": "stdout",
     "output_type": "stream",
     "text": [
      "Permutation test for Hbegf|Egfr: 0.49596843868494034s\n"
     ]
    },
    {
     "name": "stderr",
     "output_type": "stream",
     "text": [
      "Generating gene pairs and permutation testing each LR pair...:  17%|█▌        [ time left: 04:06 ]"
     ]
    },
    {
     "name": "stdout",
     "output_type": "stream",
     "text": [
      "Permutation test for Btc|Egfr: 0.30223996471613646s\n"
     ]
    },
    {
     "name": "stderr",
     "output_type": "stream",
     "text": [
      "Generating gene pairs and permutation testing each LR pair...:  17%|█▌        [ time left: 05:52 ]"
     ]
    },
    {
     "name": "stdout",
     "output_type": "stream",
     "text": [
      "Permutation test for Mif|Egfr: 1.0451229298487306s\n"
     ]
    },
    {
     "name": "stderr",
     "output_type": "stream",
     "text": [
      "Generating gene pairs and permutation testing each LR pair...:  17%|█▌        [ time left: 06:07 ]"
     ]
    },
    {
     "name": "stdout",
     "output_type": "stream",
     "text": [
      "Permutation test for Grn|Egfr: 0.707680206745863s\n"
     ]
    },
    {
     "name": "stderr",
     "output_type": "stream",
     "text": [
      "Generating gene pairs and permutation testing each LR pair...:  17%|█▌        [ time left: 04:59 ]"
     ]
    },
    {
     "name": "stdout",
     "output_type": "stream",
     "text": [
      "Permutation test for Lta|Ltbr: 0.24749645125120878s\n"
     ]
    },
    {
     "name": "stderr",
     "output_type": "stream",
     "text": [
      "Generating gene pairs and permutation testing each LR pair...:  17%|█▌        [ time left: 04:13 ]"
     ]
    },
    {
     "name": "stdout",
     "output_type": "stream",
     "text": [
      "Permutation test for Ltb|Ltbr: 0.25648248568177223s\n"
     ]
    },
    {
     "name": "stderr",
     "output_type": "stream",
     "text": [
      "Generating gene pairs and permutation testing each LR pair...:  18%|█▌        [ time left: 04:04 ]"
     ]
    },
    {
     "name": "stdout",
     "output_type": "stream",
     "text": [
      "Permutation test for Mif|Tnfrsf14: 0.39472568966448307s\n"
     ]
    },
    {
     "name": "stderr",
     "output_type": "stream",
     "text": [
      "Generating gene pairs and permutation testing each LR pair...:  18%|█▌        [ time left: 03:32 ]"
     ]
    },
    {
     "name": "stdout",
     "output_type": "stream",
     "text": [
      "Permutation test for Cd160|Tnfrsf14: 0.24280469212681055s\n"
     ]
    },
    {
     "name": "stderr",
     "output_type": "stream",
     "text": [
      "Generating gene pairs and permutation testing each LR pair...:  18%|█▌        [ time left: 03:20 ]"
     ]
    },
    {
     "name": "stdout",
     "output_type": "stream",
     "text": [
      "Permutation test for Tnfsf13b|Cd40: 0.30508273281157017s\n"
     ]
    },
    {
     "name": "stderr",
     "output_type": "stream",
     "text": [
      "Generating gene pairs and permutation testing each LR pair...:  18%|█▌        [ time left: 03:13 ]"
     ]
    },
    {
     "name": "stdout",
     "output_type": "stream",
     "text": [
      "Permutation test for Thbs1|Itgb3: 0.3156096702441573s\n"
     ]
    },
    {
     "name": "stderr",
     "output_type": "stream",
     "text": [
      "Generating gene pairs and permutation testing each LR pair...:  18%|█▋        [ time left: 03:41 ]"
     ]
    },
    {
     "name": "stdout",
     "output_type": "stream",
     "text": [
      "Permutation test for Vtn|Itgb3: 0.5095960898324847s\n"
     ]
    },
    {
     "name": "stderr",
     "output_type": "stream",
     "text": [
      "Generating gene pairs and permutation testing each LR pair...:  18%|█▋        [ time left: 04:45 ]"
     ]
    },
    {
     "name": "stdout",
     "output_type": "stream",
     "text": [
      "Permutation test for L1cam|Itga5: 0.7698770351707935s\n"
     ]
    },
    {
     "name": "stderr",
     "output_type": "stream",
     "text": [
      "Generating gene pairs and permutation testing each LR pair...:  18%|█▋        [ time left: 03:59 ]"
     ]
    },
    {
     "name": "stdout",
     "output_type": "stream",
     "text": [
      "Permutation test for Lta|Tnfrsf1a: 0.23547898698598146s\n"
     ]
    },
    {
     "name": "stderr",
     "output_type": "stream",
     "text": [
      "Generating gene pairs and permutation testing each LR pair...:  19%|█▋        [ time left: 04:45 ]"
     ]
    },
    {
     "name": "stdout",
     "output_type": "stream",
     "text": [
      "Permutation test for Grn|Tnfrsf1a: 0.703167243860662s\n"
     ]
    },
    {
     "name": "stderr",
     "output_type": "stream",
     "text": [
      "Generating gene pairs and permutation testing each LR pair...:  19%|█▋        [ time left: 03:58 ]"
     ]
    },
    {
     "name": "stdout",
     "output_type": "stream",
     "text": [
      "Permutation test for Lta|Tnfrsf1b: 0.23285374231636524s\n"
     ]
    },
    {
     "name": "stderr",
     "output_type": "stream",
     "text": [
      "Generating gene pairs and permutation testing each LR pair...:  19%|█▋        [ time left: 04:10 ]"
     ]
    },
    {
     "name": "stdout",
     "output_type": "stream",
     "text": [
      "Permutation test for Grn|Tnfrsf1b: 0.4948055623099208s\n"
     ]
    },
    {
     "name": "stderr",
     "output_type": "stream",
     "text": [
      "Generating gene pairs and permutation testing each LR pair...:  19%|█▋        [ time left: 03:43 ]"
     ]
    },
    {
     "name": "stdout",
     "output_type": "stream",
     "text": [
      "Permutation test for Ngf|Ntrk1: 0.289195173420012s\n"
     ]
    },
    {
     "name": "stderr",
     "output_type": "stream",
     "text": [
      "Generating gene pairs and permutation testing each LR pair...:  19%|█▋        [ time left: 03:22 ]"
     ]
    },
    {
     "name": "stdout",
     "output_type": "stream",
     "text": [
      "Permutation test for Ntf3|Ntrk1: 0.2751022279262543s\n"
     ]
    },
    {
     "name": "stderr",
     "output_type": "stream",
     "text": [
      "Generating gene pairs and permutation testing each LR pair...:  19%|█▋        [ time left: 03:15 ]"
     ]
    },
    {
     "name": "stdout",
     "output_type": "stream",
     "text": [
      "Permutation test for Grn|Ntrk1: 0.32226877100765705s\n"
     ]
    },
    {
     "name": "stderr",
     "output_type": "stream",
     "text": [
      "Generating gene pairs and permutation testing each LR pair...:  19%|█▊        [ time left: 03:13 ]"
     ]
    },
    {
     "name": "stdout",
     "output_type": "stream",
     "text": [
      "Permutation test for Copa|Ntrk1: 0.34151261392980814s\n"
     ]
    },
    {
     "name": "stderr",
     "output_type": "stream",
     "text": [
      "Generating gene pairs and permutation testing each LR pair...:  20%|█▊        [ time left: 03:14 ]"
     ]
    },
    {
     "name": "stdout",
     "output_type": "stream",
     "text": [
      "Permutation test for Vgf|Ntrk1: 0.35381194297224283s\n"
     ]
    },
    {
     "name": "stderr",
     "output_type": "stream",
     "text": [
      "Generating gene pairs and permutation testing each LR pair...:  20%|█▊        [ time left: 03:13 ]"
     ]
    },
    {
     "name": "stdout",
     "output_type": "stream",
     "text": [
      "Permutation test for Aimp1|Ntrk1: 0.34484149795025587s\n"
     ]
    },
    {
     "name": "stderr",
     "output_type": "stream",
     "text": [
      "Generating gene pairs and permutation testing each LR pair...:  20%|█▊        [ time left: 02:58 ]"
     ]
    },
    {
     "name": "stdout",
     "output_type": "stream",
     "text": [
      "Permutation test for Ngf|Ngfr: 0.26502093859016895s\n"
     ]
    },
    {
     "name": "stderr",
     "output_type": "stream",
     "text": [
      "Generating gene pairs and permutation testing each LR pair...:  20%|█▊        [ time left: 03:02 ]"
     ]
    },
    {
     "name": "stdout",
     "output_type": "stream",
     "text": [
      "Permutation test for Bdnf|Ngfr: 0.34603841695934534s\n"
     ]
    },
    {
     "name": "stderr",
     "output_type": "stream",
     "text": [
      "Generating gene pairs and permutation testing each LR pair...:  20%|█▊        [ time left: 02:46 ]"
     ]
    },
    {
     "name": "stdout",
     "output_type": "stream",
     "text": [
      "Permutation test for Ntf3|Ngfr: 0.2366762589663267s\n"
     ]
    },
    {
     "name": "stderr",
     "output_type": "stream",
     "text": [
      "Generating gene pairs and permutation testing each LR pair...:  20%|█▊        [ time left: 02:47 ]"
     ]
    },
    {
     "name": "stdout",
     "output_type": "stream",
     "text": [
      "Permutation test for Il2|Ngfr: 0.30584070179611444s\n"
     ]
    },
    {
     "name": "stderr",
     "output_type": "stream",
     "text": [
      "Generating gene pairs and permutation testing each LR pair...:  20%|█▊        [ time left: 03:25 ]"
     ]
    },
    {
     "name": "stdout",
     "output_type": "stream",
     "text": [
      "Permutation test for Ttr|Ngfr: 0.5396294817328453s\n"
     ]
    },
    {
     "name": "stderr",
     "output_type": "stream",
     "text": [
      "Generating gene pairs and permutation testing each LR pair...:  21%|█▊        [ time left: 04:39 ]"
     ]
    },
    {
     "name": "stdout",
     "output_type": "stream",
     "text": [
      "Permutation test for Csf1|Csf1r: 0.8276920979842544s\n"
     ]
    },
    {
     "name": "stderr",
     "output_type": "stream",
     "text": [
      "Generating gene pairs and permutation testing each LR pair...:  21%|█▊        [ time left: 05:21 ]"
     ]
    },
    {
     "name": "stdout",
     "output_type": "stream",
     "text": [
      "Permutation test for Il34|Csf1r: 0.7716123107820749s\n"
     ]
    },
    {
     "name": "stderr",
     "output_type": "stream",
     "text": [
      "Generating gene pairs and permutation testing each LR pair...:  21%|█▉        [ time left: 06:08 ]"
     ]
    },
    {
     "name": "stdout",
     "output_type": "stream",
     "text": [
      "Permutation test for Csf1|Sirpa: 0.8766820793971419s\n"
     ]
    },
    {
     "name": "stderr",
     "output_type": "stream",
     "text": [
      "Generating gene pairs and permutation testing each LR pair...:  21%|█▉        [ time left: 05:31 ]"
     ]
    },
    {
     "name": "stdout",
     "output_type": "stream",
     "text": [
      "Permutation test for Csf1|Celsr3: 0.4537814985960722s\n"
     ]
    },
    {
     "name": "stderr",
     "output_type": "stream",
     "text": [
      "Generating gene pairs and permutation testing each LR pair...:  21%|█▉        [ time left: 04:54 ]"
     ]
    },
    {
     "name": "stdout",
     "output_type": "stream",
     "text": [
      "Permutation test for Hgf|Met: 0.3836343064904213s\n"
     ]
    },
    {
     "name": "stderr",
     "output_type": "stream",
     "text": [
      "Generating gene pairs and permutation testing each LR pair...:  21%|█▉        [ time left: 04:15 ]"
     ]
    },
    {
     "name": "stdout",
     "output_type": "stream",
     "text": [
      "Permutation test for Lgals9|Met: 0.30470145400613546s\n"
     ]
    },
    {
     "name": "stderr",
     "output_type": "stream",
     "text": [
      "Generating gene pairs and permutation testing each LR pair...:  21%|█▉        [ time left: 03:55 ]"
     ]
    },
    {
     "name": "stdout",
     "output_type": "stream",
     "text": [
      "Permutation test for Hgf|Cd44: 0.3520603207871318s\n"
     ]
    },
    {
     "name": "stderr",
     "output_type": "stream",
     "text": [
      "Generating gene pairs and permutation testing each LR pair...:  22%|█▉        [ time left: 03:44 ]"
     ]
    },
    {
     "name": "stdout",
     "output_type": "stream",
     "text": [
      "Permutation test for Hbegf|Cd44: 0.36874123103916645s\n"
     ]
    },
    {
     "name": "stderr",
     "output_type": "stream",
     "text": [
      "Generating gene pairs and permutation testing each LR pair...:  22%|█▉        [ time left: 03:43 ]"
     ]
    },
    {
     "name": "stdout",
     "output_type": "stream",
     "text": [
      "Permutation test for Fgf2|Cd44: 0.40689869225025177s\n"
     ]
    },
    {
     "name": "stderr",
     "output_type": "stream",
     "text": [
      "Generating gene pairs and permutation testing each LR pair...:  22%|█▉        [ time left: 03:37 ]"
     ]
    },
    {
     "name": "stdout",
     "output_type": "stream",
     "text": [
      "Permutation test for Spp1|Cd44: 0.378333349712193s\n"
     ]
    },
    {
     "name": "stderr",
     "output_type": "stream",
     "text": [
      "Generating gene pairs and permutation testing each LR pair...:  22%|█▉        [ time left: 03:25 ]"
     ]
    },
    {
     "name": "stdout",
     "output_type": "stream",
     "text": [
      "Permutation test for Lgals9|Cd44: 0.33227493334561586s\n"
     ]
    },
    {
     "name": "stderr",
     "output_type": "stream",
     "text": [
      "Generating gene pairs and permutation testing each LR pair...:  22%|█▉        [ time left: 03:12 ]"
     ]
    },
    {
     "name": "stdout",
     "output_type": "stream",
     "text": [
      "Permutation test for Fam3c|Ffar2: 0.306493790820241s\n"
     ]
    },
    {
     "name": "stderr",
     "output_type": "stream",
     "text": [
      "Generating gene pairs and permutation testing each LR pair...:  22%|██        [ time left: 03:20 ]"
     ]
    },
    {
     "name": "stdout",
     "output_type": "stream",
     "text": [
      "Permutation test for Pdgfc|Flt4: 0.4068722492083907s\n"
     ]
    },
    {
     "name": "stderr",
     "output_type": "stream",
     "text": [
      "Generating gene pairs and permutation testing each LR pair...:  22%|██        [ time left: 03:01 ]"
     ]
    },
    {
     "name": "stdout",
     "output_type": "stream",
     "text": [
      "Permutation test for Vegfc|Flt4: 0.25920279789716005s\n"
     ]
    },
    {
     "name": "stderr",
     "output_type": "stream",
     "text": [
      "Generating gene pairs and permutation testing each LR pair...:  23%|██        [ time left: 02:56 ]"
     ]
    },
    {
     "name": "stdout",
     "output_type": "stream",
     "text": [
      "Permutation test for Vegfd|Flt4: 0.30920521542429924s\n"
     ]
    },
    {
     "name": "stderr",
     "output_type": "stream",
     "text": [
      "Generating gene pairs and permutation testing each LR pair...:  23%|██        [ time left: 05:09 ]"
     ]
    },
    {
     "name": "stdout",
     "output_type": "stream",
     "text": [
      "Permutation test for Ptn|Ptprs: 1.1624868288636208s\n"
     ]
    },
    {
     "name": "stderr",
     "output_type": "stream",
     "text": [
      "Generating gene pairs and permutation testing each LR pair...:  23%|██        [ time left: 04:20 ]"
     ]
    },
    {
     "name": "stdout",
     "output_type": "stream",
     "text": [
      "Permutation test for Tnfsf9|Tnfrsf9: 0.27756870444864035s\n"
     ]
    },
    {
     "name": "stderr",
     "output_type": "stream",
     "text": [
      "Generating gene pairs and permutation testing each LR pair...:  23%|██        [ time left: 03:42 ]"
     ]
    },
    {
     "name": "stdout",
     "output_type": "stream",
     "text": [
      "Permutation test for Tnfsf9|Pvr: 0.25709875859320164s\n"
     ]
    },
    {
     "name": "stderr",
     "output_type": "stream",
     "text": [
      "Generating gene pairs and permutation testing each LR pair...:  23%|██        [ time left: 04:17 ]"
     ]
    },
    {
     "name": "stdout",
     "output_type": "stream",
     "text": [
      "Permutation test for Nectin3|Pvr: 0.6430334709584713s\n"
     ]
    },
    {
     "name": "stderr",
     "output_type": "stream",
     "text": [
      "Generating gene pairs and permutation testing each LR pair...:  23%|██        [ time left: 03:41 ]"
     ]
    },
    {
     "name": "stdout",
     "output_type": "stream",
     "text": [
      "Permutation test for Tnfsf9|Il13ra2: 0.25672483816742897s\n"
     ]
    },
    {
     "name": "stderr",
     "output_type": "stream",
     "text": [
      "Generating gene pairs and permutation testing each LR pair...:  24%|██        [ time left: 03:45 ]"
     ]
    },
    {
     "name": "stdout",
     "output_type": "stream",
     "text": [
      "Permutation test for Il4|Il13ra2: 0.44148318376392126s\n"
     ]
    },
    {
     "name": "stderr",
     "output_type": "stream",
     "text": [
      "Generating gene pairs and permutation testing each LR pair...:  24%|██▏       [ time left: 03:25 ]"
     ]
    },
    {
     "name": "stdout",
     "output_type": "stream",
     "text": [
      "Permutation test for Fam3c|Adgrg5: 0.3046364737674594s\n"
     ]
    },
    {
     "name": "stderr",
     "output_type": "stream",
     "text": [
      "Generating gene pairs and permutation testing each LR pair...:  24%|██▏       [ time left: 03:11 ]"
     ]
    },
    {
     "name": "stdout",
     "output_type": "stream",
     "text": [
      "Permutation test for Wnt11|Klrg2: 0.3043917743489146s\n"
     ]
    },
    {
     "name": "stderr",
     "output_type": "stream",
     "text": [
      "Generating gene pairs and permutation testing each LR pair...:  24%|██▏       [ time left: 02:59 ]"
     ]
    },
    {
     "name": "stdout",
     "output_type": "stream",
     "text": [
      "Permutation test for Wnt5b|Klrg2: 0.2918609231710434s\n"
     ]
    },
    {
     "name": "stderr",
     "output_type": "stream",
     "text": [
      "Generating gene pairs and permutation testing each LR pair...:  24%|██▏       [ time left: 02:51 ]"
     ]
    },
    {
     "name": "stdout",
     "output_type": "stream",
     "text": [
      "Permutation test for Cd70|Cd27: 0.2908974578604102s\n"
     ]
    },
    {
     "name": "stderr",
     "output_type": "stream",
     "text": [
      "Generating gene pairs and permutation testing each LR pair...:  24%|██▏       [ time left: 02:39 ]"
     ]
    },
    {
     "name": "stdout",
     "output_type": "stream",
     "text": [
      "Permutation test for Cd70|Tnfrsf13b: 0.2536596106365323s\n"
     ]
    },
    {
     "name": "stderr",
     "output_type": "stream",
     "text": [
      "Generating gene pairs and permutation testing each LR pair...:  24%|██▏       [ time left: 02:26 ]"
     ]
    },
    {
     "name": "stdout",
     "output_type": "stream",
     "text": [
      "Permutation test for Tnfsf13b|Tnfrsf13b: 0.22292166389524937s\n"
     ]
    },
    {
     "name": "stderr",
     "output_type": "stream",
     "text": [
      "Generating gene pairs and permutation testing each LR pair...:  25%|██▏       [ time left: 02:22 ]"
     ]
    },
    {
     "name": "stdout",
     "output_type": "stream",
     "text": [
      "Permutation test for Tnfsf13b|Tnfrsf17: 0.2552043115720153s\n"
     ]
    },
    {
     "name": "stderr",
     "output_type": "stream",
     "text": [
      "Generating gene pairs and permutation testing each LR pair...:  25%|██▏       [ time left: 02:21 ]"
     ]
    },
    {
     "name": "stdout",
     "output_type": "stream",
     "text": [
      "Permutation test for Cd70|Gprc5b: 0.2667046897113323s\n"
     ]
    },
    {
     "name": "stderr",
     "output_type": "stream",
     "text": [
      "Generating gene pairs and permutation testing each LR pair...:  25%|██▏       [ time left: 03:10 ]"
     ]
    },
    {
     "name": "stdout",
     "output_type": "stream",
     "text": [
      "Permutation test for Cxcl12|Ackr3: 0.5918040974065661s\n"
     ]
    },
    {
     "name": "stderr",
     "output_type": "stream",
     "text": [
      "Generating gene pairs and permutation testing each LR pair...:  25%|██▏       [ time left: 03:19 ]"
     ]
    },
    {
     "name": "stdout",
     "output_type": "stream",
     "text": [
      "Permutation test for Tgfb1|Tgfbr3: 0.4263452244922519s\n"
     ]
    },
    {
     "name": "stderr",
     "output_type": "stream",
     "text": [
      "Generating gene pairs and permutation testing each LR pair...:  25%|██▎       [ time left: 04:17 ]"
     ]
    },
    {
     "name": "stdout",
     "output_type": "stream",
     "text": [
      "Permutation test for Fgf1|Tgfbr3: 0.7630572393536568s\n"
     ]
    },
    {
     "name": "stderr",
     "output_type": "stream",
     "text": [
      "Generating gene pairs and permutation testing each LR pair...:  25%|██▎       [ time left: 04:27 ]"
     ]
    },
    {
     "name": "stdout",
     "output_type": "stream",
     "text": [
      "Permutation test for Tgfb2|Tgfbr3: 0.564225398004055s\n"
     ]
    },
    {
     "name": "stderr",
     "output_type": "stream",
     "text": [
      "Generating gene pairs and permutation testing each LR pair...:  25%|██▎       [ time left: 04:31 ]"
     ]
    },
    {
     "name": "stdout",
     "output_type": "stream",
     "text": [
      "Permutation test for Tgfb3|Tgfbr3: 0.5493718767538667s\n"
     ]
    },
    {
     "name": "stderr",
     "output_type": "stream",
     "text": [
      "Generating gene pairs and permutation testing each LR pair...:  26%|██▎       [ time left: 04:38 ]"
     ]
    },
    {
     "name": "stdout",
     "output_type": "stream",
     "text": [
      "Permutation test for Inha|Tgfbr3: 0.5737356143072248s\n"
     ]
    },
    {
     "name": "stderr",
     "output_type": "stream",
     "text": [
      "Generating gene pairs and permutation testing each LR pair...:  26%|██▎       [ time left: 04:09 ]"
     ]
    },
    {
     "name": "stdout",
     "output_type": "stream",
     "text": [
      "Permutation test for Tgfb1|Tgfbr2: 0.35755741130560637s\n"
     ]
    },
    {
     "name": "stderr",
     "output_type": "stream",
     "text": [
      "Generating gene pairs and permutation testing each LR pair...:  26%|██▎       [ time left: 04:00 ]"
     ]
    },
    {
     "name": "stdout",
     "output_type": "stream",
     "text": [
      "Permutation test for Tgfb2|Tgfbr2: 0.42730212677270174s\n"
     ]
    },
    {
     "name": "stderr",
     "output_type": "stream",
     "text": [
      "Generating gene pairs and permutation testing each LR pair...:  26%|██▎       [ time left: 03:40 ]"
     ]
    },
    {
     "name": "stdout",
     "output_type": "stream",
     "text": [
      "Permutation test for Tgfb3|Tgfbr2: 0.3467132654041052s\n"
     ]
    },
    {
     "name": "stderr",
     "output_type": "stream",
     "text": [
      "Generating gene pairs and permutation testing each LR pair...:  26%|██▎       [ time left: 03:12 ]"
     ]
    },
    {
     "name": "stdout",
     "output_type": "stream",
     "text": [
      "Permutation test for Tgfb1|Itgb6: 0.2463416801765561s\n"
     ]
    },
    {
     "name": "stderr",
     "output_type": "stream",
     "text": [
      "Generating gene pairs and permutation testing each LR pair...:  26%|██▎       [ time left: 04:09 ]"
     ]
    },
    {
     "name": "stdout",
     "output_type": "stream",
     "text": [
      "Permutation test for Tnc|Itgb6: 0.4152965694665909s\n"
     ]
    },
    {
     "name": "stderr",
     "output_type": "stream",
     "text": [
      "Generating gene pairs and permutation testing each LR pair...:  26%|██▍       [ time left: 04:06 ]"
     ]
    },
    {
     "name": "stdout",
     "output_type": "stream",
     "text": [
      "Permutation test for Tgfbr3|Tgfb1: 0.472898599691689s\n"
     ]
    },
    {
     "name": "stderr",
     "output_type": "stream",
     "text": [
      "Generating gene pairs and permutation testing each LR pair...:  27%|██▍       [ time left: 04:16 ]"
     ]
    },
    {
     "name": "stdout",
     "output_type": "stream",
     "text": [
      "Permutation test for Il4|Il13ra1: 0.5536269163712859s\n"
     ]
    },
    {
     "name": "stderr",
     "output_type": "stream",
     "text": [
      "Generating gene pairs and permutation testing each LR pair...:  27%|██▍       [ time left: 03:57 ]"
     ]
    },
    {
     "name": "stdout",
     "output_type": "stream",
     "text": [
      "Permutation test for Prl|Prlr: 0.3832498034462333s\n"
     ]
    },
    {
     "name": "stderr",
     "output_type": "stream",
     "text": [
      "Generating gene pairs and permutation testing each LR pair...:  27%|██▍       [ time left: 03:39 ]"
     ]
    },
    {
     "name": "stdout",
     "output_type": "stream",
     "text": [
      "Permutation test for Il15|Il15ra: 0.35483039636164904s\n"
     ]
    },
    {
     "name": "stderr",
     "output_type": "stream",
     "text": [
      "Generating gene pairs and permutation testing each LR pair...:  27%|██▍       [ time left: 03:14 ]"
     ]
    },
    {
     "name": "stdout",
     "output_type": "stream",
     "text": [
      "Permutation test for Il15|Il2rb: 0.2696407297626138s\n"
     ]
    },
    {
     "name": "stderr",
     "output_type": "stream",
     "text": [
      "Generating gene pairs and permutation testing each LR pair...:  27%|██▍       [ time left: 05:13 ]"
     ]
    },
    {
     "name": "stdout",
     "output_type": "stream",
     "text": [
      "Permutation test for Nrg3|Erbb4: 1.1791754318401217s\n"
     ]
    },
    {
     "name": "stderr",
     "output_type": "stream",
     "text": [
      "Generating gene pairs and permutation testing each LR pair...:  27%|██▍       [ time left: 06:04 ]"
     ]
    },
    {
     "name": "stdout",
     "output_type": "stream",
     "text": [
      "Permutation test for Nrg1|Erbb4: 0.9656520327553153s\n"
     ]
    },
    {
     "name": "stderr",
     "output_type": "stream",
     "text": [
      "Generating gene pairs and permutation testing each LR pair...:  27%|██▍       [ time left: 06:07 ]"
     ]
    },
    {
     "name": "stdout",
     "output_type": "stream",
     "text": [
      "Permutation test for Hbegf|Erbb4: 0.7551360810175538s\n"
     ]
    },
    {
     "name": "stderr",
     "output_type": "stream",
     "text": [
      "Generating gene pairs and permutation testing each LR pair...:  28%|██▍       [ time left: 06:13 ]"
     ]
    },
    {
     "name": "stdout",
     "output_type": "stream",
     "text": [
      "Permutation test for Nrg4|Erbb4: 0.7737223729491234s\n"
     ]
    },
    {
     "name": "stderr",
     "output_type": "stream",
     "text": [
      "Generating gene pairs and permutation testing each LR pair...:  28%|██▍       [ time left: 06:51 ]"
     ]
    },
    {
     "name": "stdout",
     "output_type": "stream",
     "text": [
      "Permutation test for Nrg2|Erbb4: 1.0071959681808949s\n"
     ]
    },
    {
     "name": "stderr",
     "output_type": "stream",
     "text": [
      "Generating gene pairs and permutation testing each LR pair...:  28%|██▌       [ time left: 05:40 ]"
     ]
    },
    {
     "name": "stdout",
     "output_type": "stream",
     "text": [
      "Permutation test for Btc|Erbb4: 0.3571685003116727s\n"
     ]
    },
    {
     "name": "stderr",
     "output_type": "stream",
     "text": [
      "Generating gene pairs and permutation testing each LR pair...:  28%|██▌       [ time left: 06:25 ]"
     ]
    },
    {
     "name": "stdout",
     "output_type": "stream",
     "text": [
      "Permutation test for Nrg1|Erbb3: 0.9913220470771194s\n"
     ]
    },
    {
     "name": "stderr",
     "output_type": "stream",
     "text": [
      "Generating gene pairs and permutation testing each LR pair...:  28%|██▌       [ time left: 04:27 ]"
     ]
    },
    {
     "name": "stdout",
     "output_type": "stream",
     "text": [
      "Permutation test for Nrg2|Erbb3: 0.4825034262612462s\n",
      "Permutation test for Btc|Erbb3: 0.19516074564307928s\n"
     ]
    },
    {
     "name": "stderr",
     "output_type": "stream",
     "text": [
      "Generating gene pairs and permutation testing each LR pair...:  28%|██▌       [ time left: 05:54 ]"
     ]
    },
    {
     "name": "stdout",
     "output_type": "stream",
     "text": [
      "Permutation test for Nrg1|Adgrl1: 1.1324680401012301s\n"
     ]
    },
    {
     "name": "stderr",
     "output_type": "stream",
     "text": [
      "Generating gene pairs and permutation testing each LR pair...:  29%|██▌       [ time left: 06:27 ]"
     ]
    },
    {
     "name": "stdout",
     "output_type": "stream",
     "text": [
      "Permutation test for Nrg1|Lgr4: 0.9447050495073199s\n"
     ]
    },
    {
     "name": "stderr",
     "output_type": "stream",
     "text": [
      "Generating gene pairs and permutation testing each LR pair...:  29%|██▌       [ time left: 05:41 ]"
     ]
    },
    {
     "name": "stdout",
     "output_type": "stream",
     "text": [
      "Permutation test for Rspo1|Lgr4: 0.48355954699218273s\n"
     ]
    },
    {
     "name": "stderr",
     "output_type": "stream",
     "text": [
      "Generating gene pairs and permutation testing each LR pair...:  29%|██▌       [ time left: 05:27 ]"
     ]
    },
    {
     "name": "stdout",
     "output_type": "stream",
     "text": [
      "Permutation test for Rspo2|Lgr4: 0.6008590012788773s\n"
     ]
    },
    {
     "name": "stderr",
     "output_type": "stream",
     "text": [
      "Generating gene pairs and permutation testing each LR pair...:  29%|██▌       [ time left: 05:06 ]"
     ]
    },
    {
     "name": "stdout",
     "output_type": "stream",
     "text": [
      "Permutation test for Rspo3|Lgr4: 0.5303866090252995s\n"
     ]
    },
    {
     "name": "stderr",
     "output_type": "stream",
     "text": [
      "Generating gene pairs and permutation testing each LR pair...:  29%|██▋       [ time left: 04:12 ]"
     ]
    },
    {
     "name": "stdout",
     "output_type": "stream",
     "text": [
      "Permutation test for Rspo4|Lgr4: 0.2570915864780545s\n"
     ]
    },
    {
     "name": "stderr",
     "output_type": "stream",
     "text": [
      "Generating gene pairs and permutation testing each LR pair...:  29%|██▋       [ time left: 05:09 ]"
     ]
    },
    {
     "name": "stdout",
     "output_type": "stream",
     "text": [
      "Permutation test for Nrg1|Lsr: 0.9119602451100945s\n"
     ]
    },
    {
     "name": "stderr",
     "output_type": "stream",
     "text": [
      "Generating gene pairs and permutation testing each LR pair...:  29%|██▋       [ time left: 05:55 ]"
     ]
    },
    {
     "name": "stdout",
     "output_type": "stream",
     "text": [
      "Permutation test for Nrg1|Neto2: 0.9544514147564769s\n"
     ]
    },
    {
     "name": "stderr",
     "output_type": "stream",
     "text": [
      "Generating gene pairs and permutation testing each LR pair...:  30%|██▋       [ time left: 05:16 ]"
     ]
    },
    {
     "name": "stdout",
     "output_type": "stream",
     "text": [
      "Permutation test for Pdgfc|Pdgfra: 0.4641085881739855s\n"
     ]
    },
    {
     "name": "stderr",
     "output_type": "stream",
     "text": [
      "Generating gene pairs and permutation testing each LR pair...:  30%|██▋       [ time left: 05:34 ]"
     ]
    },
    {
     "name": "stdout",
     "output_type": "stream",
     "text": [
      "Permutation test for Pdgfa|Pdgfra: 0.7837437018752098s\n"
     ]
    },
    {
     "name": "stderr",
     "output_type": "stream",
     "text": [
      "Generating gene pairs and permutation testing each LR pair...:  30%|██▋       [ time left: 05:05 ]"
     ]
    },
    {
     "name": "stdout",
     "output_type": "stream",
     "text": [
      "Permutation test for Pdgfb|Pdgfra: 0.49344930425286293s\n"
     ]
    },
    {
     "name": "stderr",
     "output_type": "stream",
     "text": [
      "Generating gene pairs and permutation testing each LR pair...:  30%|██▋       [ time left: 04:28 ]"
     ]
    },
    {
     "name": "stdout",
     "output_type": "stream",
     "text": [
      "Permutation test for Pdgfb|Pdgfrb: 0.3819573214277625s\n"
     ]
    },
    {
     "name": "stderr",
     "output_type": "stream",
     "text": [
      "Generating gene pairs and permutation testing each LR pair...:  30%|██▋       [ time left: 04:16 ]"
     ]
    },
    {
     "name": "stdout",
     "output_type": "stream",
     "text": [
      "Permutation test for Pdgfd|Pdgfrb: 0.47429736889898777s\n"
     ]
    },
    {
     "name": "stderr",
     "output_type": "stream",
     "text": [
      "Generating gene pairs and permutation testing each LR pair...:  30%|██▋       [ time left: 05:13 ]"
     ]
    },
    {
     "name": "stdout",
     "output_type": "stream",
     "text": [
      "Permutation test for Pdgfb|Lrp1: 0.9337005624547601s\n"
     ]
    },
    {
     "name": "stderr",
     "output_type": "stream",
     "text": [
      "Generating gene pairs and permutation testing each LR pair...:  30%|██▋       [ time left: 04:13 ]"
     ]
    },
    {
     "name": "stdout",
     "output_type": "stream",
     "text": [
      "Permutation test for Wnt3a|Lrp1: 0.23496379610151052s\n"
     ]
    },
    {
     "name": "stderr",
     "output_type": "stream",
     "text": [
      "Generating gene pairs and permutation testing each LR pair...:  31%|██▊       [ time left: 05:29 ]"
     ]
    },
    {
     "name": "stdout",
     "output_type": "stream",
     "text": [
      "Permutation test for Mdk|Lrp1: 1.0650909319519997s\n"
     ]
    },
    {
     "name": "stderr",
     "output_type": "stream",
     "text": [
      "Generating gene pairs and permutation testing each LR pair...:  31%|██▊       [ time left: 05:56 ]"
     ]
    },
    {
     "name": "stdout",
     "output_type": "stream",
     "text": [
      "Permutation test for Lgals9|Lrp1: 0.8807468013837934s\n"
     ]
    },
    {
     "name": "stderr",
     "output_type": "stream",
     "text": [
      "Generating gene pairs and permutation testing each LR pair...:  31%|██▊       [ time left: 05:24 ]"
     ]
    },
    {
     "name": "stdout",
     "output_type": "stream",
     "text": [
      "Permutation test for Erfe|Lrp1: 0.5312149608507752s\n"
     ]
    },
    {
     "name": "stderr",
     "output_type": "stream",
     "text": [
      "Generating gene pairs and permutation testing each LR pair...:  31%|██▊       [ time left: 05:02 ]"
     ]
    },
    {
     "name": "stdout",
     "output_type": "stream",
     "text": [
      "Permutation test for Pdgfb|Adgrv1: 0.5276970220729709s\n"
     ]
    },
    {
     "name": "stderr",
     "output_type": "stream",
     "text": [
      "Generating gene pairs and permutation testing each LR pair...:  31%|██▊       [ time left: 04:06 ]"
     ]
    },
    {
     "name": "stdout",
     "output_type": "stream",
     "text": [
      "Permutation test for Xcl1|Adgrv1: 0.24622358661144972s\n"
     ]
    },
    {
     "name": "stderr",
     "output_type": "stream",
     "text": [
      "Generating gene pairs and permutation testing each LR pair...:  31%|██▊       [ time left: 05:01 ]"
     ]
    },
    {
     "name": "stdout",
     "output_type": "stream",
     "text": [
      "Permutation test for Fgf1|Fgfr1: 0.9121081065386534s\n"
     ]
    },
    {
     "name": "stderr",
     "output_type": "stream",
     "text": [
      "Generating gene pairs and permutation testing each LR pair...:  31%|██▊       [ time left: 04:58 ]"
     ]
    },
    {
     "name": "stdout",
     "output_type": "stream",
     "text": [
      "Permutation test for Fgf2|Fgfr1: 0.6157198548316956s\n"
     ]
    },
    {
     "name": "stderr",
     "output_type": "stream",
     "text": [
      "Generating gene pairs and permutation testing each LR pair...:  32%|██▊       [ time left: 04:11 ]"
     ]
    },
    {
     "name": "stdout",
     "output_type": "stream",
     "text": [
      "Permutation test for Fgf3|Fgfr1: 0.3021565657109022s\n"
     ]
    },
    {
     "name": "stderr",
     "output_type": "stream",
     "text": [
      "Generating gene pairs and permutation testing each LR pair...:  32%|██▊       [ time left: 03:34 ]"
     ]
    },
    {
     "name": "stdout",
     "output_type": "stream",
     "text": [
      "Permutation test for Fgf4|Fgfr1: 0.2738240398466587s\n"
     ]
    },
    {
     "name": "stderr",
     "output_type": "stream",
     "text": [
      "Generating gene pairs and permutation testing each LR pair...:  32%|██▊       [ time left: 03:16 ]"
     ]
    },
    {
     "name": "stdout",
     "output_type": "stream",
     "text": [
      "Permutation test for Fgf7|Fgfr1: 0.32942743226885796s\n"
     ]
    },
    {
     "name": "stderr",
     "output_type": "stream",
     "text": [
      "Generating gene pairs and permutation testing each LR pair...:  32%|██▉       [ time left: 03:58 ]"
     ]
    },
    {
     "name": "stdout",
     "output_type": "stream",
     "text": [
      "Permutation test for Fgf10|Fgfr1: 0.7205690816044807s\n"
     ]
    },
    {
     "name": "stderr",
     "output_type": "stream",
     "text": [
      "Generating gene pairs and permutation testing each LR pair...:  32%|██▉       [ time left: 03:35 ]"
     ]
    },
    {
     "name": "stdout",
     "output_type": "stream",
     "text": [
      "Permutation test for Fgf17|Fgfr1: 0.3478167178109288s\n"
     ]
    },
    {
     "name": "stderr",
     "output_type": "stream",
     "text": [
      "Generating gene pairs and permutation testing each LR pair...:  32%|██▉       [ time left: 03:15 ]"
     ]
    },
    {
     "name": "stdout",
     "output_type": "stream",
     "text": [
      "Permutation test for Fgf18|Fgfr1: 0.32310791593044996s\n"
     ]
    },
    {
     "name": "stderr",
     "output_type": "stream",
     "text": [
      "Generating gene pairs and permutation testing each LR pair...:  33%|██▉       [ time left: 04:15 ]"
     ]
    },
    {
     "name": "stdout",
     "output_type": "stream",
     "text": [
      "Permutation test for Fgf9|Fgfr1: 0.8535227030515671s\n"
     ]
    },
    {
     "name": "stderr",
     "output_type": "stream",
     "text": [
      "Generating gene pairs and permutation testing each LR pair...:  33%|██▉       [ time left: 04:12 ]"
     ]
    },
    {
     "name": "stdout",
     "output_type": "stream",
     "text": [
      "Permutation test for Fgf5|Fgfr1: 0.5263687977567315s\n"
     ]
    },
    {
     "name": "stderr",
     "output_type": "stream",
     "text": [
      "Generating gene pairs and permutation testing each LR pair...:  33%|██▉       [ time left: 03:56 ]"
     ]
    },
    {
     "name": "stdout",
     "output_type": "stream",
     "text": [
      "Permutation test for Fgf23|Fgfr1: 0.4348365608602762s\n"
     ]
    },
    {
     "name": "stderr",
     "output_type": "stream",
     "text": [
      "Generating gene pairs and permutation testing each LR pair...:  33%|██▉       [ time left: 04:10 ]"
     ]
    },
    {
     "name": "stdout",
     "output_type": "stream",
     "text": [
      "Permutation test for Kl|Fgfr1: 0.6144710946828127s\n"
     ]
    },
    {
     "name": "stderr",
     "output_type": "stream",
     "text": [
      "Generating gene pairs and permutation testing each LR pair...:  33%|██▉       [ time left: 05:17 ]"
     ]
    },
    {
     "name": "stdout",
     "output_type": "stream",
     "text": [
      "Permutation test for Fgf1|Fgfr2: 1.030291368253529s\n"
     ]
    },
    {
     "name": "stderr",
     "output_type": "stream",
     "text": [
      "Generating gene pairs and permutation testing each LR pair...:  33%|██▉       [ time left: 05:51 ]"
     ]
    },
    {
     "name": "stdout",
     "output_type": "stream",
     "text": [
      "Permutation test for Fgf2|Fgfr2: 0.9364147800952196s\n"
     ]
    },
    {
     "name": "stderr",
     "output_type": "stream",
     "text": [
      "Generating gene pairs and permutation testing each LR pair...:  33%|███       [ time left: 04:48 ]"
     ]
    },
    {
     "name": "stdout",
     "output_type": "stream",
     "text": [
      "Permutation test for Fgf3|Fgfr2: 0.31412780098617077s\n"
     ]
    },
    {
     "name": "stderr",
     "output_type": "stream",
     "text": [
      "Generating gene pairs and permutation testing each LR pair...:  34%|███       [ time left: 03:51 ]"
     ]
    },
    {
     "name": "stdout",
     "output_type": "stream",
     "text": [
      "Permutation test for Fgf4|Fgfr2: 0.21849975548684597s\n"
     ]
    },
    {
     "name": "stderr",
     "output_type": "stream",
     "text": [
      "Generating gene pairs and permutation testing each LR pair...:  34%|███       [ time left: 03:30 ]"
     ]
    },
    {
     "name": "stdout",
     "output_type": "stream",
     "text": [
      "Permutation test for Fgf7|Fgfr2: 0.3565476918593049s\n"
     ]
    },
    {
     "name": "stderr",
     "output_type": "stream",
     "text": [
      "Generating gene pairs and permutation testing each LR pair...:  34%|███       [ time left: 04:32 ]"
     ]
    },
    {
     "name": "stdout",
     "output_type": "stream",
     "text": [
      "Permutation test for Fgf10|Fgfr2: 0.9110832456499338s\n"
     ]
    },
    {
     "name": "stderr",
     "output_type": "stream",
     "text": [
      "Generating gene pairs and permutation testing each LR pair...:  34%|███       [ time left: 03:58 ]"
     ]
    },
    {
     "name": "stdout",
     "output_type": "stream",
     "text": [
      "Permutation test for Fgf17|Fgfr2: 0.35240356158465147s\n"
     ]
    },
    {
     "name": "stderr",
     "output_type": "stream",
     "text": [
      "Generating gene pairs and permutation testing each LR pair...:  34%|███       [ time left: 03:35 ]"
     ]
    },
    {
     "name": "stdout",
     "output_type": "stream",
     "text": [
      "Permutation test for Fgf18|Fgfr2: 0.35627899691462517s\n"
     ]
    },
    {
     "name": "stderr",
     "output_type": "stream",
     "text": [
      "Generating gene pairs and permutation testing each LR pair...:  34%|███       [ time left: 04:43 ]"
     ]
    },
    {
     "name": "stdout",
     "output_type": "stream",
     "text": [
      "Permutation test for Fgf9|Fgfr2: 0.9778089812025428s\n"
     ]
    },
    {
     "name": "stderr",
     "output_type": "stream",
     "text": [
      "Generating gene pairs and permutation testing each LR pair...:  34%|███       [ time left: 04:41 ]"
     ]
    },
    {
     "name": "stdout",
     "output_type": "stream",
     "text": [
      "Permutation test for Fgf5|Fgfr2: 0.6123286373913288s\n"
     ]
    },
    {
     "name": "stderr",
     "output_type": "stream",
     "text": [
      "Generating gene pairs and permutation testing each LR pair...:  35%|███       [ time left: 04:29 ]"
     ]
    },
    {
     "name": "stdout",
     "output_type": "stream",
     "text": [
      "Permutation test for Fgf23|Fgfr2: 0.5398493940010667s\n"
     ]
    },
    {
     "name": "stderr",
     "output_type": "stream",
     "text": [
      "Generating gene pairs and permutation testing each LR pair...:  35%|███       [ time left: 04:04 ]"
     ]
    },
    {
     "name": "stdout",
     "output_type": "stream",
     "text": [
      "Permutation test for Fgf1|Fgfr4: 0.41406524647027254s\n"
     ]
    },
    {
     "name": "stderr",
     "output_type": "stream",
     "text": [
      "Generating gene pairs and permutation testing each LR pair...:  35%|███▏      [ time left: 03:23 ]"
     ]
    },
    {
     "name": "stdout",
     "output_type": "stream",
     "text": [
      "Permutation test for Fgf2|Fgfr4: 0.24337081797420979s\n"
     ]
    },
    {
     "name": "stderr",
     "output_type": "stream",
     "text": [
      "Generating gene pairs and permutation testing each LR pair...:  35%|███▏      [ time left: 02:51 ]"
     ]
    },
    {
     "name": "stdout",
     "output_type": "stream",
     "text": [
      "Permutation test for Fgf3|Fgfr4: 0.22069069929420948s\n"
     ]
    },
    {
     "name": "stderr",
     "output_type": "stream",
     "text": [
      "Generating gene pairs and permutation testing each LR pair...:  35%|███▏      [ time left: 02:28 ]"
     ]
    },
    {
     "name": "stdout",
     "output_type": "stream",
     "text": [
      "Permutation test for Fgf4|Fgfr4: 0.21247662417590618s\n"
     ]
    },
    {
     "name": "stderr",
     "output_type": "stream",
     "text": [
      "Generating gene pairs and permutation testing each LR pair...:  35%|███▏      [ time left: 02:12 ]"
     ]
    },
    {
     "name": "stdout",
     "output_type": "stream",
     "text": [
      "Permutation test for Fgf7|Fgfr4: 0.21408220939338207s\n"
     ]
    },
    {
     "name": "stderr",
     "output_type": "stream",
     "text": [
      "Generating gene pairs and permutation testing each LR pair...:  35%|███▏      [ time left: 02:01 ]"
     ]
    },
    {
     "name": "stdout",
     "output_type": "stream",
     "text": [
      "Permutation test for Fgf17|Fgfr4: 0.21692894957959652s\n"
     ]
    },
    {
     "name": "stderr",
     "output_type": "stream",
     "text": [
      "Generating gene pairs and permutation testing each LR pair...:  36%|███▏      [ time left: 01:59 ]"
     ]
    },
    {
     "name": "stdout",
     "output_type": "stream",
     "text": [
      "Permutation test for Fgf18|Fgfr4: 0.2581160832196474s\n"
     ]
    },
    {
     "name": "stderr",
     "output_type": "stream",
     "text": [
      "Generating gene pairs and permutation testing each LR pair...:  36%|███▏      [ time left: 02:19 ]"
     ]
    },
    {
     "name": "stdout",
     "output_type": "stream",
     "text": [
      "Permutation test for Fgf9|Fgfr4: 0.41963277757167816s\n"
     ]
    },
    {
     "name": "stderr",
     "output_type": "stream",
     "text": [
      "Generating gene pairs and permutation testing each LR pair...:  36%|███▏      [ time left: 02:05 ]"
     ]
    },
    {
     "name": "stdout",
     "output_type": "stream",
     "text": [
      "Permutation test for Fgf5|Fgfr4: 0.21278455946594477s\n"
     ]
    },
    {
     "name": "stderr",
     "output_type": "stream",
     "text": [
      "Generating gene pairs and permutation testing each LR pair...:  36%|███▏      [ time left: 03:36 ]"
     ]
    },
    {
     "name": "stdout",
     "output_type": "stream",
     "text": [
      "Permutation test for Fgf1|Fgfr3: 0.9723480073735118s\n"
     ]
    },
    {
     "name": "stderr",
     "output_type": "stream",
     "text": [
      "Generating gene pairs and permutation testing each LR pair...:  36%|███▎      [ time left: 04:04 ]"
     ]
    },
    {
     "name": "stdout",
     "output_type": "stream",
     "text": [
      "Permutation test for Fgf2|Fgfr3: 0.7040909975767136s\n"
     ]
    },
    {
     "name": "stderr",
     "output_type": "stream",
     "text": [
      "Generating gene pairs and permutation testing each LR pair...:  36%|███▎      [ time left: 03:27 ]"
     ]
    },
    {
     "name": "stdout",
     "output_type": "stream",
     "text": [
      "Permutation test for Fgf3|Fgfr3: 0.27680109441280365s\n"
     ]
    },
    {
     "name": "stderr",
     "output_type": "stream",
     "text": [
      "Generating gene pairs and permutation testing each LR pair...:  36%|███▎      [ time left: 02:54 ]"
     ]
    },
    {
     "name": "stdout",
     "output_type": "stream",
     "text": [
      "Permutation test for Fgf4|Fgfr3: 0.22226056642830372s\n"
     ]
    },
    {
     "name": "stderr",
     "output_type": "stream",
     "text": [
      "Generating gene pairs and permutation testing each LR pair...:  37%|███▎      [ time left: 02:43 ]"
     ]
    },
    {
     "name": "stdout",
     "output_type": "stream",
     "text": [
      "Permutation test for Fgf7|Fgfr3: 0.3150524189695716s\n"
     ]
    },
    {
     "name": "stderr",
     "output_type": "stream",
     "text": [
      "Generating gene pairs and permutation testing each LR pair...:  37%|███▎      [ time left: 02:35 ]"
     ]
    },
    {
     "name": "stdout",
     "output_type": "stream",
     "text": [
      "Permutation test for Fgf17|Fgfr3: 0.3184534450992942s\n"
     ]
    },
    {
     "name": "stderr",
     "output_type": "stream",
     "text": [
      "Generating gene pairs and permutation testing each LR pair...:  37%|███▎      [ time left: 02:29 ]"
     ]
    },
    {
     "name": "stdout",
     "output_type": "stream",
     "text": [
      "Permutation test for Fgf18|Fgfr3: 0.31128827948123217s\n"
     ]
    },
    {
     "name": "stderr",
     "output_type": "stream",
     "text": [
      "Generating gene pairs and permutation testing each LR pair...:  37%|███▎      [ time left: 03:19 ]"
     ]
    },
    {
     "name": "stdout",
     "output_type": "stream",
     "text": [
      "Permutation test for Fgf9|Fgfr3: 0.7317105373367667s\n"
     ]
    },
    {
     "name": "stderr",
     "output_type": "stream",
     "text": [
      "Generating gene pairs and permutation testing each LR pair...:  37%|███▎      [ time left: 03:21 ]"
     ]
    },
    {
     "name": "stdout",
     "output_type": "stream",
     "text": [
      "Permutation test for Fgf5|Fgfr3: 0.4766050027683377s\n"
     ]
    },
    {
     "name": "stderr",
     "output_type": "stream",
     "text": [
      "Generating gene pairs and permutation testing each LR pair...:  37%|███▎      [ time left: 03:16 ]"
     ]
    },
    {
     "name": "stdout",
     "output_type": "stream",
     "text": [
      "Permutation test for Fgf23|Fgfr3: 0.4318919973447919s\n"
     ]
    },
    {
     "name": "stderr",
     "output_type": "stream",
     "text": [
      "Generating gene pairs and permutation testing each LR pair...:  37%|███▎      [ time left: 03:05 ]"
     ]
    },
    {
     "name": "stdout",
     "output_type": "stream",
     "text": [
      "Permutation test for Fgf2|Fgfrl1: 0.3694296460598707s\n"
     ]
    },
    {
     "name": "stderr",
     "output_type": "stream",
     "text": [
      "Generating gene pairs and permutation testing each LR pair...:  38%|███▍      [ time left: 04:05 ]"
     ]
    },
    {
     "name": "stdout",
     "output_type": "stream",
     "text": [
      "Permutation test for Vegfb|Flt1: 0.8960741767659783s\n"
     ]
    },
    {
     "name": "stderr",
     "output_type": "stream",
     "text": [
      "Generating gene pairs and permutation testing each LR pair...:  38%|███▍      [ time left: 04:26 ]"
     ]
    },
    {
     "name": "stdout",
     "output_type": "stream",
     "text": [
      "Permutation test for Vegfa|Flt1: 0.7362826988101006s\n"
     ]
    },
    {
     "name": "stderr",
     "output_type": "stream",
     "text": [
      "Generating gene pairs and permutation testing each LR pair...:  38%|███▍      [ time left: 04:27 ]"
     ]
    },
    {
     "name": "stdout",
     "output_type": "stream",
     "text": [
      "Permutation test for Pgf|Flt1: 0.6317897737026215s\n"
     ]
    },
    {
     "name": "stderr",
     "output_type": "stream",
     "text": [
      "Generating gene pairs and permutation testing each LR pair...:  38%|███▍      [ time left: 04:46 ]"
     ]
    },
    {
     "name": "stdout",
     "output_type": "stream",
     "text": [
      "Permutation test for Vegfb|Kdr: 0.7813898334279656s\n"
     ]
    },
    {
     "name": "stderr",
     "output_type": "stream",
     "text": [
      "Generating gene pairs and permutation testing each LR pair...:  38%|███▍      [ time left: 04:21 ]"
     ]
    },
    {
     "name": "stdout",
     "output_type": "stream",
     "text": [
      "Permutation test for Vegfa|Kdr: 0.48023778572678566s\n"
     ]
    },
    {
     "name": "stderr",
     "output_type": "stream",
     "text": [
      "Generating gene pairs and permutation testing each LR pair...:  38%|███▍      [ time left: 03:44 ]"
     ]
    },
    {
     "name": "stdout",
     "output_type": "stream",
     "text": [
      "Permutation test for Pgf|Kdr: 0.32837128452956676s\n"
     ]
    },
    {
     "name": "stderr",
     "output_type": "stream",
     "text": [
      "Generating gene pairs and permutation testing each LR pair...:  38%|███▍      [ time left: 04:28 ]"
     ]
    },
    {
     "name": "stdout",
     "output_type": "stream",
     "text": [
      "Permutation test for Vegfb|Nrp1: 0.8777492875233293s\n"
     ]
    },
    {
     "name": "stderr",
     "output_type": "stream",
     "text": [
      "Generating gene pairs and permutation testing each LR pair...:  39%|███▍      [ time left: 04:25 ]"
     ]
    },
    {
     "name": "stdout",
     "output_type": "stream",
     "text": [
      "Permutation test for Vegfa|Nrp1: 0.6149106295779347s\n"
     ]
    },
    {
     "name": "stderr",
     "output_type": "stream",
     "text": [
      "Generating gene pairs and permutation testing each LR pair...:  39%|███▍      [ time left: 05:02 ]"
     ]
    },
    {
     "name": "stdout",
     "output_type": "stream",
     "text": [
      "Permutation test for Sema3a|Nrp1: 0.9224330233410001s\n"
     ]
    },
    {
     "name": "stderr",
     "output_type": "stream",
     "text": [
      "Generating gene pairs and permutation testing each LR pair...:  39%|███▌      [ time left: 04:29 ]"
     ]
    },
    {
     "name": "stdout",
     "output_type": "stream",
     "text": [
      "Permutation test for Pgf|Nrp1: 0.45941563975065947s\n"
     ]
    },
    {
     "name": "stderr",
     "output_type": "stream",
     "text": [
      "Generating gene pairs and permutation testing each LR pair...:  39%|███▌      [ time left: 03:54 ]"
     ]
    },
    {
     "name": "stdout",
     "output_type": "stream",
     "text": [
      "Permutation test for Vegfb|Adrb2: 0.3684509741142392s\n"
     ]
    },
    {
     "name": "stderr",
     "output_type": "stream",
     "text": [
      "Generating gene pairs and permutation testing each LR pair...:  39%|███▌      [ time left: 03:13 ]"
     ]
    },
    {
     "name": "stdout",
     "output_type": "stream",
     "text": [
      "Permutation test for Il1b|Adrb2: 0.23301747720688581s\n"
     ]
    },
    {
     "name": "stderr",
     "output_type": "stream",
     "text": [
      "Generating gene pairs and permutation testing each LR pair...:  39%|███▌      [ time left: 02:52 ]"
     ]
    },
    {
     "name": "stdout",
     "output_type": "stream",
     "text": [
      "Permutation test for Efna1|Epha1: 0.2939375275745988s\n"
     ]
    },
    {
     "name": "stderr",
     "output_type": "stream",
     "text": [
      "Generating gene pairs and permutation testing each LR pair...:  39%|███▌      [ time left: 02:29 ]"
     ]
    },
    {
     "name": "stdout",
     "output_type": "stream",
     "text": [
      "Permutation test for Efna2|Epha1: 0.23237222991883755s\n"
     ]
    },
    {
     "name": "stderr",
     "output_type": "stream",
     "text": [
      "Generating gene pairs and permutation testing each LR pair...:  40%|███▌      [ time left: 02:39 ]"
     ]
    },
    {
     "name": "stdout",
     "output_type": "stream",
     "text": [
      "Permutation test for Efna5|Epha1: 0.4444675650447607s\n"
     ]
    },
    {
     "name": "stderr",
     "output_type": "stream",
     "text": [
      "Generating gene pairs and permutation testing each LR pair...:  40%|███▌      [ time left: 02:08 ]"
     ]
    },
    {
     "name": "stdout",
     "output_type": "stream",
     "text": [
      "Permutation test for Efna3|Epha1: 0.3066943408921361s\n",
      "Permutation test for Efna4|Epha1: 0.1864897320047021s\n"
     ]
    },
    {
     "name": "stderr",
     "output_type": "stream",
     "text": [
      "Generating gene pairs and permutation testing each LR pair...:  40%|███▌      [ time left: 02:17 ]"
     ]
    },
    {
     "name": "stdout",
     "output_type": "stream",
     "text": [
      "Permutation test for Efna1|Epha8: 0.3889733636751771s\n"
     ]
    },
    {
     "name": "stderr",
     "output_type": "stream",
     "text": [
      "Generating gene pairs and permutation testing each LR pair...:  40%|███▌      [ time left: 02:13 ]"
     ]
    },
    {
     "name": "stdout",
     "output_type": "stream",
     "text": [
      "Permutation test for Efna2|Epha8: 0.3029937790706754s\n"
     ]
    },
    {
     "name": "stderr",
     "output_type": "stream",
     "text": [
      "Generating gene pairs and permutation testing each LR pair...:  40%|███▋      [ time left: 02:55 ]"
     ]
    },
    {
     "name": "stdout",
     "output_type": "stream",
     "text": [
      "Permutation test for Efna5|Epha8: 0.6625288687646389s\n"
     ]
    },
    {
     "name": "stderr",
     "output_type": "stream",
     "text": [
      "Generating gene pairs and permutation testing each LR pair...:  41%|███▋      [ time left: 02:24 ]"
     ]
    },
    {
     "name": "stdout",
     "output_type": "stream",
     "text": [
      "Permutation test for Efna3|Epha8: 0.4114800812676549s\n",
      "Permutation test for Efna4|Epha8: 0.19513805862516165s\n"
     ]
    },
    {
     "name": "stderr",
     "output_type": "stream",
     "text": [
      "Generating gene pairs and permutation testing each LR pair...:  41%|███▋      [ time left: 03:25 ]"
     ]
    },
    {
     "name": "stdout",
     "output_type": "stream",
     "text": [
      "Permutation test for Efna1|Epha4: 0.8473874405026436s\n"
     ]
    },
    {
     "name": "stderr",
     "output_type": "stream",
     "text": [
      "Generating gene pairs and permutation testing each LR pair...:  41%|███▋      [ time left: 03:56 ]"
     ]
    },
    {
     "name": "stdout",
     "output_type": "stream",
     "text": [
      "Permutation test for Efna2|Epha4: 0.764302484691143s\n"
     ]
    },
    {
     "name": "stderr",
     "output_type": "stream",
     "text": [
      "Generating gene pairs and permutation testing each LR pair...:  41%|███▋      [ time left: 04:38 ]"
     ]
    },
    {
     "name": "stdout",
     "output_type": "stream",
     "text": [
      "Permutation test for Efna5|Epha4: 0.9311778545379639s\n"
     ]
    },
    {
     "name": "stderr",
     "output_type": "stream",
     "text": [
      "Generating gene pairs and permutation testing each LR pair...:  41%|███▋      [ time left: 05:07 ]"
     ]
    },
    {
     "name": "stdout",
     "output_type": "stream",
     "text": [
      "Permutation test for Efnb3|Epha4: 0.9271682137623429s\n"
     ]
    },
    {
     "name": "stderr",
     "output_type": "stream",
     "text": [
      "Generating gene pairs and permutation testing each LR pair...:  41%|███▋      [ time left: 05:18 ]"
     ]
    },
    {
     "name": "stdout",
     "output_type": "stream",
     "text": [
      "Permutation test for Efnb2|Epha4: 0.8519900115206838s\n"
     ]
    },
    {
     "name": "stderr",
     "output_type": "stream",
     "text": [
      "Generating gene pairs and permutation testing each LR pair...:  42%|███▋      [ time left: 05:31 ]"
     ]
    },
    {
     "name": "stdout",
     "output_type": "stream",
     "text": [
      "Permutation test for Fgfr3|Epha4: 0.9033150831237435s\n"
     ]
    },
    {
     "name": "stderr",
     "output_type": "stream",
     "text": [
      "Generating gene pairs and permutation testing each LR pair...:  42%|███▋      [ time left: 05:32 ]"
     ]
    },
    {
     "name": "stdout",
     "output_type": "stream",
     "text": [
      "Permutation test for Efna3|Epha4: 0.8365976484492421s\n"
     ]
    },
    {
     "name": "stderr",
     "output_type": "stream",
     "text": [
      "Generating gene pairs and permutation testing each LR pair...:  42%|███▊      [ time left: 04:27 ]"
     ]
    },
    {
     "name": "stdout",
     "output_type": "stream",
     "text": [
      "Permutation test for Efna4|Epha4: 0.29085013922303915s\n"
     ]
    },
    {
     "name": "stderr",
     "output_type": "stream",
     "text": [
      "Generating gene pairs and permutation testing each LR pair...:  42%|███▊      [ time left: 04:43 ]"
     ]
    },
    {
     "name": "stdout",
     "output_type": "stream",
     "text": [
      "Permutation test for Efnb1|Epha4: 0.8088098941370845s\n"
     ]
    },
    {
     "name": "stderr",
     "output_type": "stream",
     "text": [
      "Generating gene pairs and permutation testing each LR pair...:  42%|███▊      [ time left: 04:10 ]"
     ]
    },
    {
     "name": "stdout",
     "output_type": "stream",
     "text": [
      "Permutation test for Fgfr4|Epha4: 0.4366592885926366s\n"
     ]
    },
    {
     "name": "stderr",
     "output_type": "stream",
     "text": [
      "Generating gene pairs and permutation testing each LR pair...:  42%|███▊      [ time left: 03:26 ]"
     ]
    },
    {
     "name": "stdout",
     "output_type": "stream",
     "text": [
      "Permutation test for Efna1|Epha2: 0.25944072008132935s\n"
     ]
    },
    {
     "name": "stderr",
     "output_type": "stream",
     "text": [
      "Generating gene pairs and permutation testing each LR pair...:  42%|███▊      [ time left: 02:51 ]"
     ]
    },
    {
     "name": "stdout",
     "output_type": "stream",
     "text": [
      "Permutation test for Efna2|Epha2: 0.23057440016418695s\n"
     ]
    },
    {
     "name": "stderr",
     "output_type": "stream",
     "text": [
      "Generating gene pairs and permutation testing each LR pair...:  43%|███▊      [ time left: 02:44 ]"
     ]
    },
    {
     "name": "stdout",
     "output_type": "stream",
     "text": [
      "Permutation test for Efna5|Epha2: 0.37728326395154s\n"
     ]
    },
    {
     "name": "stderr",
     "output_type": "stream",
     "text": [
      "Generating gene pairs and permutation testing each LR pair...:  43%|███▊      [ time left: 02:09 ]"
     ]
    },
    {
     "name": "stdout",
     "output_type": "stream",
     "text": [
      "Permutation test for Efna3|Epha2: 0.31917803827673197s\n",
      "Permutation test for Efna4|Epha2: 0.18830664083361626s\n"
     ]
    },
    {
     "name": "stderr",
     "output_type": "stream",
     "text": [
      "Generating gene pairs and permutation testing each LR pair...:  43%|███▊      [ time left: 02:30 ]"
     ]
    },
    {
     "name": "stdout",
     "output_type": "stream",
     "text": [
      "Permutation test for Efna1|Epha3: 0.5115864388644695s\n"
     ]
    },
    {
     "name": "stderr",
     "output_type": "stream",
     "text": [
      "Generating gene pairs and permutation testing each LR pair...:  43%|███▉      [ time left: 02:37 ]"
     ]
    },
    {
     "name": "stdout",
     "output_type": "stream",
     "text": [
      "Permutation test for Efna2|Epha3: 0.4427429772913456s\n"
     ]
    },
    {
     "name": "stderr",
     "output_type": "stream",
     "text": [
      "Generating gene pairs and permutation testing each LR pair...:  43%|███▉      [ time left: 03:24 ]"
     ]
    },
    {
     "name": "stdout",
     "output_type": "stream",
     "text": [
      "Permutation test for Efna5|Epha3: 0.8060073340311646s\n"
     ]
    },
    {
     "name": "stderr",
     "output_type": "stream",
     "text": [
      "Generating gene pairs and permutation testing each LR pair...:  43%|███▉      [ time left: 03:24 ]"
     ]
    },
    {
     "name": "stdout",
     "output_type": "stream",
     "text": [
      "Permutation test for Efna3|Epha3: 0.529280518181622s\n"
     ]
    },
    {
     "name": "stderr",
     "output_type": "stream",
     "text": [
      "Generating gene pairs and permutation testing each LR pair...:  44%|███▉      [ time left: 02:48 ]"
     ]
    },
    {
     "name": "stdout",
     "output_type": "stream",
     "text": [
      "Permutation test for Efna4|Epha3: 0.2143132947385311s\n"
     ]
    },
    {
     "name": "stderr",
     "output_type": "stream",
     "text": [
      "Generating gene pairs and permutation testing each LR pair...:  44%|███▉      [ time left: 03:25 ]"
     ]
    },
    {
     "name": "stdout",
     "output_type": "stream",
     "text": [
      "Permutation test for Efna1|Epha5: 0.7586776269599795s\n"
     ]
    },
    {
     "name": "stderr",
     "output_type": "stream",
     "text": [
      "Generating gene pairs and permutation testing each LR pair...:  44%|███▉      [ time left: 03:43 ]"
     ]
    },
    {
     "name": "stdout",
     "output_type": "stream",
     "text": [
      "Permutation test for Efna2|Epha5: 0.6858612690120935s\n"
     ]
    },
    {
     "name": "stderr",
     "output_type": "stream",
     "text": [
      "Generating gene pairs and permutation testing each LR pair...:  44%|███▉      [ time left: 04:19 ]"
     ]
    },
    {
     "name": "stdout",
     "output_type": "stream",
     "text": [
      "Permutation test for Efna5|Epha5: 0.8910858053714037s\n"
     ]
    },
    {
     "name": "stderr",
     "output_type": "stream",
     "text": [
      "Generating gene pairs and permutation testing each LR pair...:  44%|███▉      [ time left: 04:26 ]"
     ]
    },
    {
     "name": "stdout",
     "output_type": "stream",
     "text": [
      "Permutation test for Efna3|Epha5: 0.7428494021296501s\n"
     ]
    },
    {
     "name": "stderr",
     "output_type": "stream",
     "text": [
      "Generating gene pairs and permutation testing each LR pair...:  44%|███▉      [ time left: 03:35 ]"
     ]
    },
    {
     "name": "stdout",
     "output_type": "stream",
     "text": [
      "Permutation test for Efna4|Epha5: 0.24981807451695204s\n"
     ]
    },
    {
     "name": "stderr",
     "output_type": "stream",
     "text": [
      "Generating gene pairs and permutation testing each LR pair...:  44%|███▉      [ time left: 04:22 ]"
     ]
    },
    {
     "name": "stdout",
     "output_type": "stream",
     "text": [
      "Permutation test for Efna5|Ephb2: 0.9792629852890968s\n"
     ]
    },
    {
     "name": "stderr",
     "output_type": "stream",
     "text": [
      "Generating gene pairs and permutation testing each LR pair...:  45%|████      [ time left: 04:37 ]"
     ]
    },
    {
     "name": "stdout",
     "output_type": "stream",
     "text": [
      "Permutation test for Efnb3|Ephb2: 0.8190464116632938s\n"
     ]
    },
    {
     "name": "stderr",
     "output_type": "stream",
     "text": [
      "Generating gene pairs and permutation testing each LR pair...:  45%|████      [ time left: 04:29 ]"
     ]
    },
    {
     "name": "stdout",
     "output_type": "stream",
     "text": [
      "Permutation test for Efnb2|Ephb2: 0.6580184064805508s\n"
     ]
    },
    {
     "name": "stderr",
     "output_type": "stream",
     "text": [
      "Generating gene pairs and permutation testing each LR pair...:  45%|████      [ time left: 04:11 ]"
     ]
    },
    {
     "name": "stdout",
     "output_type": "stream",
     "text": [
      "Permutation test for Efnb1|Ephb2: 0.5533254044130445s\n"
     ]
    },
    {
     "name": "stderr",
     "output_type": "stream",
     "text": [
      "Generating gene pairs and permutation testing each LR pair...:  45%|████      [ time left: 04:08 ]"
     ]
    },
    {
     "name": "stdout",
     "output_type": "stream",
     "text": [
      "Permutation test for Vegfa|Ephb2: 0.641589492559433s\n"
     ]
    },
    {
     "name": "stderr",
     "output_type": "stream",
     "text": [
      "Generating gene pairs and permutation testing each LR pair...:  45%|████      [ time left: 04:18 ]"
     ]
    },
    {
     "name": "stdout",
     "output_type": "stream",
     "text": [
      "Permutation test for Efnb3|Ephb3: 0.7520580943673849s\n"
     ]
    },
    {
     "name": "stderr",
     "output_type": "stream",
     "text": [
      "Generating gene pairs and permutation testing each LR pair...:  45%|████      [ time left: 03:57 ]"
     ]
    },
    {
     "name": "stdout",
     "output_type": "stream",
     "text": [
      "Permutation test for Efnb2|Ephb3: 0.5049118641763926s\n"
     ]
    },
    {
     "name": "stderr",
     "output_type": "stream",
     "text": [
      "Generating gene pairs and permutation testing each LR pair...:  45%|████      [ time left: 03:30 ]"
     ]
    },
    {
     "name": "stdout",
     "output_type": "stream",
     "text": [
      "Permutation test for Efnb1|Ephb3: 0.3890107674524188s\n"
     ]
    },
    {
     "name": "stderr",
     "output_type": "stream",
     "text": [
      "Generating gene pairs and permutation testing each LR pair...:  46%|████      [ time left: 04:03 ]"
     ]
    },
    {
     "name": "stdout",
     "output_type": "stream",
     "text": [
      "Permutation test for Efnb3|Ephb1: 0.8616993725299835s\n"
     ]
    },
    {
     "name": "stderr",
     "output_type": "stream",
     "text": [
      "Generating gene pairs and permutation testing each LR pair...:  46%|████      [ time left: 04:06 ]"
     ]
    },
    {
     "name": "stdout",
     "output_type": "stream",
     "text": [
      "Permutation test for Efnb2|Ephb1: 0.6817759117111564s\n"
     ]
    },
    {
     "name": "stderr",
     "output_type": "stream",
     "text": [
      "Generating gene pairs and permutation testing each LR pair...:  46%|████▏     [ time left: 03:58 ]"
     ]
    },
    {
     "name": "stdout",
     "output_type": "stream",
     "text": [
      "Permutation test for Efnb1|Ephb1: 0.586478516459465s\n"
     ]
    },
    {
     "name": "stderr",
     "output_type": "stream",
     "text": [
      "Generating gene pairs and permutation testing each LR pair...:  46%|████▏     [ time left: 03:26 ]"
     ]
    },
    {
     "name": "stdout",
     "output_type": "stream",
     "text": [
      "Permutation test for Angpt2|Tek: 0.3596870629116893s\n"
     ]
    },
    {
     "name": "stderr",
     "output_type": "stream",
     "text": [
      "Generating gene pairs and permutation testing each LR pair...:  46%|████▏     [ time left: 03:11 ]"
     ]
    },
    {
     "name": "stdout",
     "output_type": "stream",
     "text": [
      "Permutation test for Angpt1|Tek: 0.4281261255964637s\n"
     ]
    },
    {
     "name": "stderr",
     "output_type": "stream",
     "text": [
      "Generating gene pairs and permutation testing each LR pair...:  46%|████▏     [ time left: 02:40 ]"
     ]
    },
    {
     "name": "stdout",
     "output_type": "stream",
     "text": [
      "Permutation test for Angpt4|Tek: 0.23780980799347162s\n"
     ]
    },
    {
     "name": "stderr",
     "output_type": "stream",
     "text": [
      "Generating gene pairs and permutation testing each LR pair...:  46%|████▏     [ time left: 02:21 ]"
     ]
    },
    {
     "name": "stdout",
     "output_type": "stream",
     "text": [
      "Permutation test for Wnt3a|Ryk: 0.26533271837979555s\n"
     ]
    },
    {
     "name": "stderr",
     "output_type": "stream",
     "text": [
      "Generating gene pairs and permutation testing each LR pair...:  47%|████▏     [ time left: 02:20 ]"
     ]
    },
    {
     "name": "stdout",
     "output_type": "stream",
     "text": [
      "Permutation test for Wnt1|Ryk: 0.3775413194671273s\n"
     ]
    },
    {
     "name": "stderr",
     "output_type": "stream",
     "text": [
      "Generating gene pairs and permutation testing each LR pair...:  47%|████▏     [ time left: 02:05 ]"
     ]
    },
    {
     "name": "stdout",
     "output_type": "stream",
     "text": [
      "Permutation test for Wnt3a|Fzd8: 0.24308783560991287s\n"
     ]
    },
    {
     "name": "stderr",
     "output_type": "stream",
     "text": [
      "Generating gene pairs and permutation testing each LR pair...:  47%|████▏     [ time left: 01:54 ]"
     ]
    },
    {
     "name": "stdout",
     "output_type": "stream",
     "text": [
      "Permutation test for Wnt1|Fzd8: 0.24947821721434593s\n"
     ]
    },
    {
     "name": "stderr",
     "output_type": "stream",
     "text": [
      "Generating gene pairs and permutation testing each LR pair...:  47%|████▏     [ time left: 02:03 ]"
     ]
    },
    {
     "name": "stdout",
     "output_type": "stream",
     "text": [
      "Permutation test for Wnt4|Fzd8: 0.3956816615536809s\n"
     ]
    },
    {
     "name": "stderr",
     "output_type": "stream",
     "text": [
      "Generating gene pairs and permutation testing each LR pair...:  47%|████▏     [ time left: 02:59 ]"
     ]
    },
    {
     "name": "stdout",
     "output_type": "stream",
     "text": [
      "Permutation test for Gas6|Axl: 0.8544132867828012s\n"
     ]
    },
    {
     "name": "stderr",
     "output_type": "stream",
     "text": [
      "Generating gene pairs and permutation testing each LR pair...:  47%|████▎     [ time left: 02:40 ]"
     ]
    },
    {
     "name": "stdout",
     "output_type": "stream",
     "text": [
      "Permutation test for Il15ra|Axl: 0.32156036980450153s\n"
     ]
    },
    {
     "name": "stderr",
     "output_type": "stream",
     "text": [
      "Generating gene pairs and permutation testing each LR pair...:  47%|████▎     [ time left: 03:21 ]"
     ]
    },
    {
     "name": "stdout",
     "output_type": "stream",
     "text": [
      "Permutation test for Gas6|Mertk: 0.8262859974056482s\n"
     ]
    },
    {
     "name": "stderr",
     "output_type": "stream",
     "text": [
      "Generating gene pairs and permutation testing each LR pair...:  48%|████▎     [ time left: 03:59 ]"
     ]
    },
    {
     "name": "stdout",
     "output_type": "stream",
     "text": [
      "Permutation test for Gas6|Tyro3: 0.9066456742584705s\n"
     ]
    },
    {
     "name": "stderr",
     "output_type": "stream",
     "text": [
      "Generating gene pairs and permutation testing each LR pair...:  48%|████▎     [ time left: 03:21 ]"
     ]
    },
    {
     "name": "stdout",
     "output_type": "stream",
     "text": [
      "Permutation test for Thpo|Mpl: 0.3178139878436923s\n"
     ]
    },
    {
     "name": "stderr",
     "output_type": "stream",
     "text": [
      "Generating gene pairs and permutation testing each LR pair...:  48%|████▎     [ time left: 02:52 ]"
     ]
    },
    {
     "name": "stdout",
     "output_type": "stream",
     "text": [
      "Permutation test for Lep|Lepr: 0.2943520490080118s\n"
     ]
    },
    {
     "name": "stderr",
     "output_type": "stream",
     "text": [
      "Generating gene pairs and permutation testing each LR pair...:  48%|████▎     [ time left: 02:34 ]"
     ]
    },
    {
     "name": "stdout",
     "output_type": "stream",
     "text": [
      "Permutation test for Wnt2|Fzd9: 0.3187053455039859s\n"
     ]
    },
    {
     "name": "stderr",
     "output_type": "stream",
     "text": [
      "Generating gene pairs and permutation testing each LR pair...:  48%|████▎     [ time left: 02:26 ]"
     ]
    },
    {
     "name": "stdout",
     "output_type": "stream",
     "text": [
      "Permutation test for Wnt7a|Fzd9: 0.35913087520748377s\n"
     ]
    },
    {
     "name": "stderr",
     "output_type": "stream",
     "text": [
      "Generating gene pairs and permutation testing each LR pair...:  48%|████▎     [ time left: 02:11 ]"
     ]
    },
    {
     "name": "stdout",
     "output_type": "stream",
     "text": [
      "Permutation test for Wnt1|Fzd9: 0.2747136214748025s\n"
     ]
    },
    {
     "name": "stderr",
     "output_type": "stream",
     "text": [
      "Generating gene pairs and permutation testing each LR pair...:  48%|████▎     [ time left: 02:06 ]"
     ]
    },
    {
     "name": "stdout",
     "output_type": "stream",
     "text": [
      "Permutation test for Wnt2|Fzd4: 0.3225402468815446s\n"
     ]
    },
    {
     "name": "stderr",
     "output_type": "stream",
     "text": [
      "Generating gene pairs and permutation testing each LR pair...:  49%|████▍     [ time left: 02:14 ]"
     ]
    },
    {
     "name": "stdout",
     "output_type": "stream",
     "text": [
      "Permutation test for Wnt7b|Fzd4: 0.42985146399587393s\n"
     ]
    },
    {
     "name": "stderr",
     "output_type": "stream",
     "text": [
      "Generating gene pairs and permutation testing each LR pair...:  49%|████▍     [ time left: 02:07 ]"
     ]
    },
    {
     "name": "stdout",
     "output_type": "stream",
     "text": [
      "Permutation test for Wnt2b|Fzd4: 0.3147760136052966s\n"
     ]
    },
    {
     "name": "stderr",
     "output_type": "stream",
     "text": [
      "Generating gene pairs and permutation testing each LR pair...:  49%|████▍     [ time left: 02:22 ]"
     ]
    },
    {
     "name": "stdout",
     "output_type": "stream",
     "text": [
      "Permutation test for Wnt7a|Ldlr: 0.5082446681335568s\n"
     ]
    },
    {
     "name": "stderr",
     "output_type": "stream",
     "text": [
      "Generating gene pairs and permutation testing each LR pair...:  49%|████▍     [ time left: 02:54 ]"
     ]
    },
    {
     "name": "stdout",
     "output_type": "stream",
     "text": [
      "Permutation test for Fgfr3|Fgf9: 0.7144335666671395s\n"
     ]
    },
    {
     "name": "stderr",
     "output_type": "stream",
     "text": [
      "Generating gene pairs and permutation testing each LR pair...:  49%|████▍     [ time left: 02:40 ]"
     ]
    },
    {
     "name": "stdout",
     "output_type": "stream",
     "text": [
      "Permutation test for Fgfr4|Fgf9: 0.3616336630657315s\n"
     ]
    },
    {
     "name": "stderr",
     "output_type": "stream",
     "text": [
      "Generating gene pairs and permutation testing each LR pair...:  49%|████▍     [ time left: 03:36 ]"
     ]
    },
    {
     "name": "stdout",
     "output_type": "stream",
     "text": [
      "Permutation test for Bdnf|Ntrk2: 0.9994043055921793s\n"
     ]
    },
    {
     "name": "stderr",
     "output_type": "stream",
     "text": [
      "Generating gene pairs and permutation testing each LR pair...:  49%|████▍     [ time left: 03:37 ]"
     ]
    },
    {
     "name": "stdout",
     "output_type": "stream",
     "text": [
      "Permutation test for Ntf3|Ntrk2: 0.6346144480630755s\n"
     ]
    },
    {
     "name": "stderr",
     "output_type": "stream",
     "text": [
      "Generating gene pairs and permutation testing each LR pair...:  50%|████▍     [ time left: 03:35 ]"
     ]
    },
    {
     "name": "stdout",
     "output_type": "stream",
     "text": [
      "Permutation test for Ntf3|Ntrk3: 0.6072530401870608s\n"
     ]
    },
    {
     "name": "stderr",
     "output_type": "stream",
     "text": [
      "Generating gene pairs and permutation testing each LR pair...:  50%|████▍     [ time left: 03:27 ]"
     ]
    },
    {
     "name": "stdout",
     "output_type": "stream",
     "text": [
      "Permutation test for Efnb1|Ephb6: 0.5474785780534148s\n"
     ]
    },
    {
     "name": "stderr",
     "output_type": "stream",
     "text": [
      "Generating gene pairs and permutation testing each LR pair...:  50%|████▍     [ time left: 04:08 ]"
     ]
    },
    {
     "name": "stdout",
     "output_type": "stream",
     "text": [
      "Permutation test for Ptn|Alk: 0.999281550757587s\n"
     ]
    },
    {
     "name": "stderr",
     "output_type": "stream",
     "text": [
      "Generating gene pairs and permutation testing each LR pair...:  50%|████▌     [ time left: 03:58 ]"
     ]
    },
    {
     "name": "stdout",
     "output_type": "stream",
     "text": [
      "Permutation test for Mdk|Alk: 0.6309823002666235s\n"
     ]
    },
    {
     "name": "stderr",
     "output_type": "stream",
     "text": [
      "Generating gene pairs and permutation testing each LR pair...:  50%|████▌     [ time left: 04:32 ]"
     ]
    },
    {
     "name": "stdout",
     "output_type": "stream",
     "text": [
      "Permutation test for Ptn|Ptprz1: 1.0292226681485772s\n"
     ]
    },
    {
     "name": "stderr",
     "output_type": "stream",
     "text": [
      "Generating gene pairs and permutation testing each LR pair...:  50%|████▌     [ time left: 04:40 ]"
     ]
    },
    {
     "name": "stdout",
     "output_type": "stream",
     "text": [
      "Permutation test for Mdk|Ptprz1: 0.8825906412675977s\n"
     ]
    },
    {
     "name": "stderr",
     "output_type": "stream",
     "text": [
      "Generating gene pairs and permutation testing each LR pair...:  51%|████▌     [ time left: 04:56 ]"
     ]
    },
    {
     "name": "stdout",
     "output_type": "stream",
     "text": [
      "Permutation test for Ptn|Plxnb2: 0.9798222808167338s\n"
     ]
    },
    {
     "name": "stderr",
     "output_type": "stream",
     "text": [
      "Generating gene pairs and permutation testing each LR pair...:  51%|████▌     [ time left: 03:53 ]"
     ]
    },
    {
     "name": "stdout",
     "output_type": "stream",
     "text": [
      "Permutation test for Wnt1|Cd36: 0.25952350813895464s\n"
     ]
    },
    {
     "name": "stderr",
     "output_type": "stream",
     "text": [
      "Generating gene pairs and permutation testing each LR pair...:  51%|████▌     [ time left: 03:13 ]"
     ]
    },
    {
     "name": "stdout",
     "output_type": "stream",
     "text": [
      "Permutation test for Cxcl12|Cxcr4: 0.295171158388257s\n"
     ]
    },
    {
     "name": "stderr",
     "output_type": "stream",
     "text": [
      "Generating gene pairs and permutation testing each LR pair...:  51%|████▌     [ time left: 02:49 ]"
     ]
    },
    {
     "name": "stdout",
     "output_type": "stream",
     "text": [
      "Permutation test for Ccl25|Ccr9: 0.3429151764139533s\n"
     ]
    },
    {
     "name": "stderr",
     "output_type": "stream",
     "text": [
      "Generating gene pairs and permutation testing each LR pair...:  51%|████▌     [ time left: 02:29 ]"
     ]
    },
    {
     "name": "stdout",
     "output_type": "stream",
     "text": [
      "Permutation test for Adm|Calcr: 0.3036686386913061s\n"
     ]
    },
    {
     "name": "stderr",
     "output_type": "stream",
     "text": [
      "Generating gene pairs and permutation testing each LR pair...:  51%|████▌     [ time left: 02:13 ]"
     ]
    },
    {
     "name": "stdout",
     "output_type": "stream",
     "text": [
      "Permutation test for Calca|Calcr: 0.2943749949336052s\n"
     ]
    },
    {
     "name": "stderr",
     "output_type": "stream",
     "text": [
      "Generating gene pairs and permutation testing each LR pair...:  51%|████▌     [ time left: 01:59 ]"
     ]
    },
    {
     "name": "stdout",
     "output_type": "stream",
     "text": [
      "Permutation test for Calcb|Calcr: 0.2598788132891059s\n"
     ]
    },
    {
     "name": "stderr",
     "output_type": "stream",
     "text": [
      "Generating gene pairs and permutation testing each LR pair...:  52%|████▋     [ time left: 01:53 ]"
     ]
    },
    {
     "name": "stdout",
     "output_type": "stream",
     "text": [
      "Permutation test for Apln|Aplnr: 0.29396673385053873s\n"
     ]
    },
    {
     "name": "stderr",
     "output_type": "stream",
     "text": [
      "Generating gene pairs and permutation testing each LR pair...:  52%|████▋     [ time left: 01:44 ]"
     ]
    },
    {
     "name": "stdout",
     "output_type": "stream",
     "text": [
      "Permutation test for Apela|Aplnr: 0.2531341575086117s\n"
     ]
    },
    {
     "name": "stderr",
     "output_type": "stream",
     "text": [
      "Generating gene pairs and permutation testing each LR pair...:  52%|████▋     [ time left: 01:51 ]"
     ]
    },
    {
     "name": "stdout",
     "output_type": "stream",
     "text": [
      "Permutation test for Agt|Agtr2: 0.38619790505617857s\n"
     ]
    },
    {
     "name": "stderr",
     "output_type": "stream",
     "text": [
      "Generating gene pairs and permutation testing each LR pair...:  52%|████▋     [ time left: 01:40 ]"
     ]
    },
    {
     "name": "stdout",
     "output_type": "stream",
     "text": [
      "Permutation test for Tnfsf13b|Tnfrsf13c: 0.23053673841059208s\n"
     ]
    },
    {
     "name": "stderr",
     "output_type": "stream",
     "text": [
      "Generating gene pairs and permutation testing each LR pair...:  52%|████▋     [ time left: 02:03 ]"
     ]
    },
    {
     "name": "stdout",
     "output_type": "stream",
     "text": [
      "Permutation test for Tnfsf13b|Tfrc: 0.5314548760652542s\n"
     ]
    },
    {
     "name": "stderr",
     "output_type": "stream",
     "text": [
      "Generating gene pairs and permutation testing each LR pair...:  52%|████▋     [ time left: 01:53 ]"
     ]
    },
    {
     "name": "stdout",
     "output_type": "stream",
     "text": [
      "Permutation test for Grp|Grpr: 0.281164038926363s\n"
     ]
    },
    {
     "name": "stderr",
     "output_type": "stream",
     "text": [
      "Generating gene pairs and permutation testing each LR pair...:  52%|████▋     [ time left: 02:13 ]"
     ]
    },
    {
     "name": "stdout",
     "output_type": "stream",
     "text": [
      "Permutation test for Cck|Cckar: 0.5458608400076628s\n"
     ]
    },
    {
     "name": "stderr",
     "output_type": "stream",
     "text": [
      "Generating gene pairs and permutation testing each LR pair...:  53%|████▋     [ time left: 03:13 ]"
     ]
    },
    {
     "name": "stdout",
     "output_type": "stream",
     "text": [
      "Permutation test for Cck|Cckbr: 1.0290697682648897s\n"
     ]
    },
    {
     "name": "stderr",
     "output_type": "stream",
     "text": [
      "Generating gene pairs and permutation testing each LR pair...:  53%|████▋     [ time left: 02:42 ]"
     ]
    },
    {
     "name": "stdout",
     "output_type": "stream",
     "text": [
      "Permutation test for Gast|Cckbr: 0.27532021328806877s\n"
     ]
    },
    {
     "name": "stderr",
     "output_type": "stream",
     "text": [
      "Generating gene pairs and permutation testing each LR pair...:  53%|████▊     [ time left: 02:18 ]"
     ]
    },
    {
     "name": "stdout",
     "output_type": "stream",
     "text": [
      "Permutation test for Ccl28|Ccr10: 0.25900910049676895s\n"
     ]
    },
    {
     "name": "stderr",
     "output_type": "stream",
     "text": [
      "Generating gene pairs and permutation testing each LR pair...:  53%|████▊     [ time left: 01:57 ]"
     ]
    },
    {
     "name": "stdout",
     "output_type": "stream",
     "text": [
      "Permutation test for Ccl2|Ccr10: 0.20734344609081745s\n"
     ]
    },
    {
     "name": "stderr",
     "output_type": "stream",
     "text": [
      "Generating gene pairs and permutation testing each LR pair...:  53%|████▊     [ time left: 02:02 ]"
     ]
    },
    {
     "name": "stdout",
     "output_type": "stream",
     "text": [
      "Permutation test for Tnfsf8|Tnfrsf8: 0.4238803591579199s\n"
     ]
    },
    {
     "name": "stderr",
     "output_type": "stream",
     "text": [
      "Generating gene pairs and permutation testing each LR pair...:  53%|████▊     [ time left: 01:56 ]"
     ]
    },
    {
     "name": "stdout",
     "output_type": "stream",
     "text": [
      "Permutation test for Rarres2|Cmklr1: 0.3166396636515856s\n"
     ]
    },
    {
     "name": "stderr",
     "output_type": "stream",
     "text": [
      "Generating gene pairs and permutation testing each LR pair...:  53%|████▊     [ time left: 02:04 ]"
     ]
    },
    {
     "name": "stdout",
     "output_type": "stream",
     "text": [
      "Permutation test for Crh|Crhr2: 0.45205429289489985s\n"
     ]
    },
    {
     "name": "stderr",
     "output_type": "stream",
     "text": [
      "Generating gene pairs and permutation testing each LR pair...:  54%|████▊     [ time left: 01:52 ]"
     ]
    },
    {
     "name": "stdout",
     "output_type": "stream",
     "text": [
      "Permutation test for Ucn|Crhr2: 0.2620506575331092s\n"
     ]
    },
    {
     "name": "stderr",
     "output_type": "stream",
     "text": [
      "Generating gene pairs and permutation testing each LR pair...:  54%|████▊     [ time left: 01:45 ]"
     ]
    },
    {
     "name": "stdout",
     "output_type": "stream",
     "text": [
      "Permutation test for Ucn3|Crhr2: 0.2790125273168087s\n"
     ]
    },
    {
     "name": "stderr",
     "output_type": "stream",
     "text": [
      "Generating gene pairs and permutation testing each LR pair...:  54%|████▊     [ time left: 01:37 ]"
     ]
    },
    {
     "name": "stdout",
     "output_type": "stream",
     "text": [
      "Permutation test for Cxcl5|Cxcr2: 0.2513403370976448s\n"
     ]
    },
    {
     "name": "stderr",
     "output_type": "stream",
     "text": [
      "Generating gene pairs and permutation testing each LR pair...:  54%|████▊     [ time left: 01:36 ]"
     ]
    },
    {
     "name": "stdout",
     "output_type": "stream",
     "text": [
      "Permutation test for Cxcl13|Cxcr5: 0.29356085881590843s\n"
     ]
    },
    {
     "name": "stderr",
     "output_type": "stream",
     "text": [
      "Generating gene pairs and permutation testing each LR pair...:  54%|████▊     [ time left: 02:52 ]"
     ]
    },
    {
     "name": "stdout",
     "output_type": "stream",
     "text": [
      "Permutation test for Cx3cl1|Cx3cr1: 1.1082430742681026s\n"
     ]
    },
    {
     "name": "stderr",
     "output_type": "stream",
     "text": [
      "Generating gene pairs and permutation testing each LR pair...:  54%|████▉     [ time left: 02:30 ]"
     ]
    },
    {
     "name": "stdout",
     "output_type": "stream",
     "text": [
      "Permutation test for Tnfsf15|Tnfrsf25: 0.3154861703515053s\n"
     ]
    },
    {
     "name": "stderr",
     "output_type": "stream",
     "text": [
      "Generating gene pairs and permutation testing each LR pair...:  54%|████▉     [ time left: 02:26 ]"
     ]
    },
    {
     "name": "stdout",
     "output_type": "stream",
     "text": [
      "Permutation test for Tnfsf12|Tnfrsf25: 0.44147586822509766s\n"
     ]
    },
    {
     "name": "stderr",
     "output_type": "stream",
     "text": [
      "Generating gene pairs and permutation testing each LR pair...:  55%|████▉     [ time left: 02:18 ]"
     ]
    },
    {
     "name": "stdout",
     "output_type": "stream",
     "text": [
      "Permutation test for Eda|Edar: 0.3833283046260476s\n"
     ]
    },
    {
     "name": "stderr",
     "output_type": "stream",
     "text": [
      "Generating gene pairs and permutation testing each LR pair...:  55%|████▉     [ time left: 02:03 ]"
     ]
    },
    {
     "name": "stdout",
     "output_type": "stream",
     "text": [
      "Permutation test for Eda|Eda2r: 0.284183481708169s\n"
     ]
    },
    {
     "name": "stderr",
     "output_type": "stream",
     "text": [
      "Generating gene pairs and permutation testing each LR pair...:  55%|████▉     [ time left: 01:56 ]"
     ]
    },
    {
     "name": "stdout",
     "output_type": "stream",
     "text": [
      "Permutation test for Edn2|Ednra: 0.322731900960207s\n"
     ]
    },
    {
     "name": "stderr",
     "output_type": "stream",
     "text": [
      "Generating gene pairs and permutation testing each LR pair...:  55%|████▉     [ time left: 01:58 ]"
     ]
    },
    {
     "name": "stdout",
     "output_type": "stream",
     "text": [
      "Permutation test for Fgfr4|Ptprr: 0.4047211855649948s\n"
     ]
    },
    {
     "name": "stderr",
     "output_type": "stream",
     "text": [
      "Generating gene pairs and permutation testing each LR pair...:  55%|████▉     [ time left: 01:52 ]"
     ]
    },
    {
     "name": "stdout",
     "output_type": "stream",
     "text": [
      "Permutation test for Vegfc|Kdr: 0.3171784970909357s\n"
     ]
    },
    {
     "name": "stderr",
     "output_type": "stream",
     "text": [
      "Generating gene pairs and permutation testing each LR pair...:  55%|████▉     [ time left: 01:50 ]"
     ]
    },
    {
     "name": "stdout",
     "output_type": "stream",
     "text": [
      "Permutation test for Vegfd|Kdr: 0.3414524607360363s\n"
     ]
    },
    {
     "name": "stderr",
     "output_type": "stream",
     "text": [
      "Generating gene pairs and permutation testing each LR pair...:  55%|████▉     [ time left: 02:21 ]"
     ]
    },
    {
     "name": "stdout",
     "output_type": "stream",
     "text": [
      "Permutation test for Vegfa|Nrp2: 0.702856338582933s\n"
     ]
    },
    {
     "name": "stderr",
     "output_type": "stream",
     "text": [
      "Generating gene pairs and permutation testing each LR pair...:  56%|█████     [ time left: 02:45 ]"
     ]
    },
    {
     "name": "stdout",
     "output_type": "stream",
     "text": [
      "Permutation test for Sema3c|Nrp2: 0.7263723155483603s\n"
     ]
    },
    {
     "name": "stderr",
     "output_type": "stream",
     "text": [
      "Generating gene pairs and permutation testing each LR pair...:  56%|█████     [ time left: 02:50 ]"
     ]
    },
    {
     "name": "stdout",
     "output_type": "stream",
     "text": [
      "Permutation test for Sema3f|Nrp2: 0.6019730977714062s\n"
     ]
    },
    {
     "name": "stderr",
     "output_type": "stream",
     "text": [
      "Generating gene pairs and permutation testing each LR pair...:  56%|█████     [ time left: 02:51 ]"
     ]
    },
    {
     "name": "stdout",
     "output_type": "stream",
     "text": [
      "Permutation test for Pgf|Nrp2: 0.5708911335095763s\n"
     ]
    },
    {
     "name": "stderr",
     "output_type": "stream",
     "text": [
      "Generating gene pairs and permutation testing each LR pair...:  56%|█████     [ time left: 03:34 ]"
     ]
    },
    {
     "name": "stdout",
     "output_type": "stream",
     "text": [
      "Permutation test for Vegfa|Grin2b: 1.0457403166219592s\n"
     ]
    },
    {
     "name": "stderr",
     "output_type": "stream",
     "text": [
      "Generating gene pairs and permutation testing each LR pair...:  56%|█████     [ time left: 03:52 ]"
     ]
    },
    {
     "name": "stdout",
     "output_type": "stream",
     "text": [
      "Permutation test for Il16|Grin2b: 0.9120923187583685s\n"
     ]
    },
    {
     "name": "stderr",
     "output_type": "stream",
     "text": [
      "Generating gene pairs and permutation testing each LR pair...:  56%|█████     [ time left: 03:10 ]"
     ]
    },
    {
     "name": "stdout",
     "output_type": "stream",
     "text": [
      "Permutation test for Saa1|Fpr2: 0.30724698957055807s\n"
     ]
    },
    {
     "name": "stderr",
     "output_type": "stream",
     "text": [
      "Generating gene pairs and permutation testing each LR pair...:  56%|█████     [ time left: 03:07 ]"
     ]
    },
    {
     "name": "stdout",
     "output_type": "stream",
     "text": [
      "Permutation test for Anxa1|Fpr3: 0.6054060803726315s\n"
     ]
    },
    {
     "name": "stderr",
     "output_type": "stream",
     "text": [
      "Generating gene pairs and permutation testing each LR pair...:  57%|█████     [ time left: 02:31 ]"
     ]
    },
    {
     "name": "stdout",
     "output_type": "stream",
     "text": [
      "Permutation test for Anxa1|Fpr1: 0.23149917740374804s\n"
     ]
    },
    {
     "name": "stderr",
     "output_type": "stream",
     "text": [
      "Generating gene pairs and permutation testing each LR pair...:  57%|█████     [ time left: 02:14 ]"
     ]
    },
    {
     "name": "stdout",
     "output_type": "stream",
     "text": [
      "Permutation test for Cga|Fshr: 0.3248651586472988s\n"
     ]
    },
    {
     "name": "stderr",
     "output_type": "stream",
     "text": [
      "Generating gene pairs and permutation testing each LR pair...:  57%|█████     [ time left: 02:01 ]"
     ]
    },
    {
     "name": "stdout",
     "output_type": "stream",
     "text": [
      "Permutation test for Cga|Lhcgr: 0.31044849660247564s\n"
     ]
    },
    {
     "name": "stderr",
     "output_type": "stream",
     "text": [
      "Generating gene pairs and permutation testing each LR pair...:  57%|█████▏    [ time left: 01:52 ]"
     ]
    },
    {
     "name": "stdout",
     "output_type": "stream",
     "text": [
      "Permutation test for Lhb|Lhcgr: 0.30818150844424963s\n"
     ]
    },
    {
     "name": "stderr",
     "output_type": "stream",
     "text": [
      "Generating gene pairs and permutation testing each LR pair...:  57%|█████▏    [ time left: 02:08 ]"
     ]
    },
    {
     "name": "stdout",
     "output_type": "stream",
     "text": [
      "Permutation test for Wnt4|Smo: 0.5643915180116892s\n"
     ]
    },
    {
     "name": "stderr",
     "output_type": "stream",
     "text": [
      "Generating gene pairs and permutation testing each LR pair...:  57%|█████▏    [ time left: 01:59 ]"
     ]
    },
    {
     "name": "stdout",
     "output_type": "stream",
     "text": [
      "Permutation test for Bmp2|Smo: 0.3430938459932804s\n"
     ]
    },
    {
     "name": "stderr",
     "output_type": "stream",
     "text": [
      "Generating gene pairs and permutation testing each LR pair...:  57%|█████▏    [ time left: 01:49 ]"
     ]
    },
    {
     "name": "stdout",
     "output_type": "stream",
     "text": [
      "Permutation test for Gal|Galr1: 0.29222662933170795s\n"
     ]
    },
    {
     "name": "stderr",
     "output_type": "stream",
     "text": [
      "Generating gene pairs and permutation testing each LR pair...:  58%|█████▏    [ time left: 01:39 ]"
     ]
    },
    {
     "name": "stdout",
     "output_type": "stream",
     "text": [
      "Permutation test for Galp|Galr1: 0.26432716101408005s\n"
     ]
    },
    {
     "name": "stderr",
     "output_type": "stream",
     "text": [
      "Generating gene pairs and permutation testing each LR pair...:  58%|█████▏    [ time left: 01:35 ]"
     ]
    },
    {
     "name": "stdout",
     "output_type": "stream",
     "text": [
      "Permutation test for Gal|Galr3: 0.3010808965191245s\n"
     ]
    },
    {
     "name": "stderr",
     "output_type": "stream",
     "text": [
      "Generating gene pairs and permutation testing each LR pair...:  58%|█████▏    [ time left: 01:25 ]"
     ]
    },
    {
     "name": "stdout",
     "output_type": "stream",
     "text": [
      "Permutation test for Galp|Galr3: 0.21625101193785667s\n"
     ]
    },
    {
     "name": "stderr",
     "output_type": "stream",
     "text": [
      "Generating gene pairs and permutation testing each LR pair...:  58%|█████▏    [ time left: 01:27 ]"
     ]
    },
    {
     "name": "stdout",
     "output_type": "stream",
     "text": [
      "Permutation test for Gal|Gpr151: 0.31974212266504765s\n"
     ]
    },
    {
     "name": "stderr",
     "output_type": "stream",
     "text": [
      "Generating gene pairs and permutation testing each LR pair...:  58%|█████▏    [ time left: 01:29 ]"
     ]
    },
    {
     "name": "stdout",
     "output_type": "stream",
     "text": [
      "Permutation test for Cort|Ghsr: 0.3209208222106099s\n"
     ]
    },
    {
     "name": "stderr",
     "output_type": "stream",
     "text": [
      "Generating gene pairs and permutation testing each LR pair...:  58%|█████▎    [ time left: 01:28 ]"
     ]
    },
    {
     "name": "stdout",
     "output_type": "stream",
     "text": [
      "Permutation test for Ghrl|Ptger3: 0.30391380563378334s\n"
     ]
    },
    {
     "name": "stderr",
     "output_type": "stream",
     "text": [
      "Generating gene pairs and permutation testing each LR pair...:  58%|█████▎    [ time left: 01:23 ]"
     ]
    },
    {
     "name": "stdout",
     "output_type": "stream",
     "text": [
      "Permutation test for Ghrl|Tbxa2r: 0.25712461303919554s\n"
     ]
    },
    {
     "name": "stderr",
     "output_type": "stream",
     "text": [
      "Generating gene pairs and permutation testing each LR pair...:  59%|█████▎    [ time left: 01:29 ]"
     ]
    },
    {
     "name": "stdout",
     "output_type": "stream",
     "text": [
      "Permutation test for Ghrh|Vipr1: 0.3656787034124136s\n"
     ]
    },
    {
     "name": "stderr",
     "output_type": "stream",
     "text": [
      "Generating gene pairs and permutation testing each LR pair...:  59%|█████▎    [ time left: 01:37 ]"
     ]
    },
    {
     "name": "stdout",
     "output_type": "stream",
     "text": [
      "Permutation test for Adcyap1|Vipr1: 0.4024970540776849s\n"
     ]
    },
    {
     "name": "stderr",
     "output_type": "stream",
     "text": [
      "Generating gene pairs and permutation testing each LR pair...:  59%|█████▎    [ time left: 01:27 ]"
     ]
    },
    {
     "name": "stdout",
     "output_type": "stream",
     "text": [
      "Permutation test for Sct|Vipr1: 0.2350058788433671s\n"
     ]
    },
    {
     "name": "stderr",
     "output_type": "stream",
     "text": [
      "Generating gene pairs and permutation testing each LR pair...:  59%|█████▎    [ time left: 01:41 ]"
     ]
    },
    {
     "name": "stdout",
     "output_type": "stream",
     "text": [
      "Permutation test for Vip|Vipr1: 0.4802511613816023s\n"
     ]
    },
    {
     "name": "stderr",
     "output_type": "stream",
     "text": [
      "Generating gene pairs and permutation testing each LR pair...:  59%|█████▎    [ time left: 01:30 ]"
     ]
    },
    {
     "name": "stdout",
     "output_type": "stream",
     "text": [
      "Permutation test for Gcg|Glp2r: 0.2305483464151621s\n"
     ]
    },
    {
     "name": "stderr",
     "output_type": "stream",
     "text": [
      "Generating gene pairs and permutation testing each LR pair...:  59%|█████▎    [ time left: 01:27 ]"
     ]
    },
    {
     "name": "stdout",
     "output_type": "stream",
     "text": [
      "Permutation test for Tnfsf18|Tnfrsf18: 0.2897588275372982s\n"
     ]
    },
    {
     "name": "stderr",
     "output_type": "stream",
     "text": [
      "Generating gene pairs and permutation testing each LR pair...:  60%|█████▎    [ time left: 01:30 ]"
     ]
    },
    {
     "name": "stdout",
     "output_type": "stream",
     "text": [
      "Permutation test for Nppa|Npr1: 0.3496908573433757s\n"
     ]
    },
    {
     "name": "stderr",
     "output_type": "stream",
     "text": [
      "Generating gene pairs and permutation testing each LR pair...:  60%|█████▎    [ time left: 01:41 ]"
     ]
    },
    {
     "name": "stdout",
     "output_type": "stream",
     "text": [
      "Permutation test for Nppc|Npr1: 0.461988459341228s\n"
     ]
    },
    {
     "name": "stderr",
     "output_type": "stream",
     "text": [
      "Generating gene pairs and permutation testing each LR pair...:  60%|█████▍    [ time left: 01:34 ]"
     ]
    },
    {
     "name": "stdout",
     "output_type": "stream",
     "text": [
      "Permutation test for Nppa|Npr3: 0.28570632729679346s\n"
     ]
    },
    {
     "name": "stderr",
     "output_type": "stream",
     "text": [
      "Generating gene pairs and permutation testing each LR pair...:  60%|█████▍    [ time left: 01:35 ]"
     ]
    },
    {
     "name": "stdout",
     "output_type": "stream",
     "text": [
      "Permutation test for Nppc|Npr3: 0.35610878746956587s\n"
     ]
    },
    {
     "name": "stderr",
     "output_type": "stream",
     "text": [
      "Generating gene pairs and permutation testing each LR pair...:  60%|█████▍    [ time left: 01:28 ]"
     ]
    },
    {
     "name": "stdout",
     "output_type": "stream",
     "text": [
      "Permutation test for Ostn|Npr3: 0.2629307424649596s\n"
     ]
    },
    {
     "name": "stderr",
     "output_type": "stream",
     "text": [
      "Generating gene pairs and permutation testing each LR pair...:  60%|█████▍    [ time left: 01:36 ]"
     ]
    },
    {
     "name": "stdout",
     "output_type": "stream",
     "text": [
      "Permutation test for Nppa|Npr2: 0.42385782580822706s\n"
     ]
    },
    {
     "name": "stderr",
     "output_type": "stream",
     "text": [
      "Generating gene pairs and permutation testing each LR pair...:  60%|█████▍    [ time left: 01:44 ]"
     ]
    },
    {
     "name": "stdout",
     "output_type": "stream",
     "text": [
      "Permutation test for Nppc|Npr2: 0.44696163199841976s\n"
     ]
    },
    {
     "name": "stderr",
     "output_type": "stream",
     "text": [
      "Generating gene pairs and permutation testing each LR pair...:  61%|█████▍    [ time left: 01:44 ]"
     ]
    },
    {
     "name": "stdout",
     "output_type": "stream",
     "text": [
      "Permutation test for Rspo1|Lgr5: 0.39184102043509483s\n"
     ]
    },
    {
     "name": "stderr",
     "output_type": "stream",
     "text": [
      "Generating gene pairs and permutation testing each LR pair...:  61%|█████▍    [ time left: 01:49 ]"
     ]
    },
    {
     "name": "stdout",
     "output_type": "stream",
     "text": [
      "Permutation test for Rspo2|Lgr5: 0.45182396192103624s\n"
     ]
    },
    {
     "name": "stderr",
     "output_type": "stream",
     "text": [
      "Generating gene pairs and permutation testing each LR pair...:  61%|█████▍    [ time left: 01:46 ]"
     ]
    },
    {
     "name": "stdout",
     "output_type": "stream",
     "text": [
      "Permutation test for Rspo3|Lgr5: 0.37140343710780144s\n"
     ]
    },
    {
     "name": "stderr",
     "output_type": "stream",
     "text": [
      "Generating gene pairs and permutation testing each LR pair...:  61%|█████▍    [ time left: 01:32 ]"
     ]
    },
    {
     "name": "stdout",
     "output_type": "stream",
     "text": [
      "Permutation test for Rspo4|Lgr5: 0.21669326908886433s\n"
     ]
    },
    {
     "name": "stderr",
     "output_type": "stream",
     "text": [
      "Generating gene pairs and permutation testing each LR pair...:  61%|█████▍    [ time left: 01:36 ]"
     ]
    },
    {
     "name": "stdout",
     "output_type": "stream",
     "text": [
      "Permutation test for Rspo1|Lgr6: 0.3977468563243747s\n"
     ]
    },
    {
     "name": "stderr",
     "output_type": "stream",
     "text": [
      "Generating gene pairs and permutation testing each LR pair...:  61%|█████▌    [ time left: 01:41 ]"
     ]
    },
    {
     "name": "stdout",
     "output_type": "stream",
     "text": [
      "Permutation test for Rspo2|Lgr6: 0.421686053276062s\n"
     ]
    },
    {
     "name": "stderr",
     "output_type": "stream",
     "text": [
      "Generating gene pairs and permutation testing each LR pair...:  61%|█████▌    [ time left: 01:39 ]"
     ]
    },
    {
     "name": "stdout",
     "output_type": "stream",
     "text": [
      "Permutation test for Rspo3|Lgr6: 0.3667331049218774s\n"
     ]
    },
    {
     "name": "stderr",
     "output_type": "stream",
     "text": [
      "Generating gene pairs and permutation testing each LR pair...:  62%|█████▌    [ time left: 01:30 ]"
     ]
    },
    {
     "name": "stdout",
     "output_type": "stream",
     "text": [
      "Permutation test for Rspo4|Lgr6: 0.25954585149884224s\n"
     ]
    },
    {
     "name": "stderr",
     "output_type": "stream",
     "text": [
      "Generating gene pairs and permutation testing each LR pair...:  62%|█████▌    [ time left: 01:46 ]"
     ]
    },
    {
     "name": "stdout",
     "output_type": "stream",
     "text": [
      "Permutation test for Kdr|Vegfa: 0.5526741100475192s\n"
     ]
    },
    {
     "name": "stderr",
     "output_type": "stream",
     "text": [
      "Generating gene pairs and permutation testing each LR pair...:  62%|█████▌    [ time left: 01:48 ]"
     ]
    },
    {
     "name": "stdout",
     "output_type": "stream",
     "text": [
      "Permutation test for Pmch|Mchr1: 0.43385361414402723s\n"
     ]
    },
    {
     "name": "stderr",
     "output_type": "stream",
     "text": [
      "Generating gene pairs and permutation testing each LR pair...:  62%|█████▌    [ time left: 01:50 ]"
     ]
    },
    {
     "name": "stdout",
     "output_type": "stream",
     "text": [
      "Permutation test for Pomc|Mc1r: 0.4355851672589779s\n"
     ]
    },
    {
     "name": "stderr",
     "output_type": "stream",
     "text": [
      "Generating gene pairs and permutation testing each LR pair...:  62%|█████▌    [ time left: 01:36 ]"
     ]
    },
    {
     "name": "stdout",
     "output_type": "stream",
     "text": [
      "Permutation test for Pomc|Mc3r: 0.2523340033367276s\n"
     ]
    },
    {
     "name": "stderr",
     "output_type": "stream",
     "text": [
      "Generating gene pairs and permutation testing each LR pair...:  62%|█████▌    [ time left: 01:30 ]"
     ]
    },
    {
     "name": "stdout",
     "output_type": "stream",
     "text": [
      "Permutation test for Agrp|Mc3r: 0.29022561199963093s\n"
     ]
    },
    {
     "name": "stderr",
     "output_type": "stream",
     "text": [
      "Generating gene pairs and permutation testing each LR pair...:  62%|█████▌    [ time left: 01:28 ]"
     ]
    },
    {
     "name": "stdout",
     "output_type": "stream",
     "text": [
      "Permutation test for Pomc|Mc4r: 0.3302655043080449s\n"
     ]
    },
    {
     "name": "stderr",
     "output_type": "stream",
     "text": [
      "Generating gene pairs and permutation testing each LR pair...:  63%|█████▋    [ time left: 01:23 ]"
     ]
    },
    {
     "name": "stdout",
     "output_type": "stream",
     "text": [
      "Permutation test for Agrp|Mc4r: 0.27808626368641853s\n"
     ]
    },
    {
     "name": "stderr",
     "output_type": "stream",
     "text": [
      "Generating gene pairs and permutation testing each LR pair...:  63%|█████▋    [ time left: 01:18 ]"
     ]
    },
    {
     "name": "stdout",
     "output_type": "stream",
     "text": [
      "Permutation test for Nms|Nmur1: 0.2674533249810338s\n"
     ]
    },
    {
     "name": "stderr",
     "output_type": "stream",
     "text": [
      "Generating gene pairs and permutation testing each LR pair...:  63%|█████▋    [ time left: 01:13 ]"
     ]
    },
    {
     "name": "stdout",
     "output_type": "stream",
     "text": [
      "Permutation test for Nmu|Nmur1: 0.24213757179677486s\n"
     ]
    },
    {
     "name": "stderr",
     "output_type": "stream",
     "text": [
      "Generating gene pairs and permutation testing each LR pair...:  63%|█████▋    [ time left: 01:11 ]"
     ]
    },
    {
     "name": "stdout",
     "output_type": "stream",
     "text": [
      "Permutation test for Nmu|Nmur2: 0.2600876362994313s\n"
     ]
    },
    {
     "name": "stderr",
     "output_type": "stream",
     "text": [
      "Generating gene pairs and permutation testing each LR pair...:  63%|█████▋    [ time left: 01:12 ]"
     ]
    },
    {
     "name": "stdout",
     "output_type": "stream",
     "text": [
      "Permutation test for Npb|Npbwr1: 0.2988522909581661s\n"
     ]
    },
    {
     "name": "stderr",
     "output_type": "stream",
     "text": [
      "Generating gene pairs and permutation testing each LR pair...:  63%|█████▋    [ time left: 01:10 ]"
     ]
    },
    {
     "name": "stdout",
     "output_type": "stream",
     "text": [
      "Permutation test for Npw|Npbwr1: 0.25533209182322025s\n"
     ]
    },
    {
     "name": "stderr",
     "output_type": "stream",
     "text": [
      "Generating gene pairs and permutation testing each LR pair...:  63%|█████▋    [ time left: 01:16 ]"
     ]
    },
    {
     "name": "stdout",
     "output_type": "stream",
     "text": [
      "Permutation test for Nps|Npsr1: 0.3613447993993759s\n"
     ]
    },
    {
     "name": "stderr",
     "output_type": "stream",
     "text": [
      "Generating gene pairs and permutation testing each LR pair...:  64%|█████▋    [ time left: 01:20 ]"
     ]
    },
    {
     "name": "stdout",
     "output_type": "stream",
     "text": [
      "Permutation test for Nts|Ntsr1: 0.36498784460127354s\n"
     ]
    },
    {
     "name": "stderr",
     "output_type": "stream",
     "text": [
      "Generating gene pairs and permutation testing each LR pair...:  64%|█████▋    [ time left: 01:38 ]"
     ]
    },
    {
     "name": "stdout",
     "output_type": "stream",
     "text": [
      "Permutation test for Oxt|Oxtr: 0.5595136387273669s\n"
     ]
    },
    {
     "name": "stderr",
     "output_type": "stream",
     "text": [
      "Generating gene pairs and permutation testing each LR pair...:  64%|█████▋    [ time left: 01:54 ]"
     ]
    },
    {
     "name": "stdout",
     "output_type": "stream",
     "text": [
      "Permutation test for Avp|Oxtr: 0.6144586661830544s\n"
     ]
    },
    {
     "name": "stderr",
     "output_type": "stream",
     "text": [
      "Generating gene pairs and permutation testing each LR pair...:  64%|█████▊    [ time left: 01:41 ]"
     ]
    },
    {
     "name": "stdout",
     "output_type": "stream",
     "text": [
      "Permutation test for Avp|Avpr1a: 0.2925226781517267s\n"
     ]
    },
    {
     "name": "stderr",
     "output_type": "stream",
     "text": [
      "Generating gene pairs and permutation testing each LR pair...:  64%|█████▊    [ time left: 01:26 ]"
     ]
    },
    {
     "name": "stdout",
     "output_type": "stream",
     "text": [
      "Permutation test for Vip|Avpr1a: 0.21296696737408638s\n"
     ]
    },
    {
     "name": "stderr",
     "output_type": "stream",
     "text": [
      "Generating gene pairs and permutation testing each LR pair...:  64%|█████▊    [ time left: 01:19 ]"
     ]
    },
    {
     "name": "stdout",
     "output_type": "stream",
     "text": [
      "Permutation test for Avp|Avpr1b: 0.2622081860899925s\n"
     ]
    },
    {
     "name": "stderr",
     "output_type": "stream",
     "text": [
      "Generating gene pairs and permutation testing each LR pair...:  64%|█████▊    [ time left: 01:17 ]"
     ]
    },
    {
     "name": "stdout",
     "output_type": "stream",
     "text": [
      "Permutation test for Tnfsf4|Tnfrsf4: 0.2938748775050044s\n"
     ]
    },
    {
     "name": "stderr",
     "output_type": "stream",
     "text": [
      "Generating gene pairs and permutation testing each LR pair...:  65%|█████▊    [ time left: 01:17 ]"
     ]
    },
    {
     "name": "stdout",
     "output_type": "stream",
     "text": [
      "Permutation test for Hcrt|Hcrtr1: 0.3248204477131367s\n"
     ]
    },
    {
     "name": "stderr",
     "output_type": "stream",
     "text": [
      "Generating gene pairs and permutation testing each LR pair...:  65%|█████▊    [ time left: 01:14 ]"
     ]
    },
    {
     "name": "stdout",
     "output_type": "stream",
     "text": [
      "Permutation test for Hcrt|Hcrtr2: 0.2768002999946475s\n"
     ]
    },
    {
     "name": "stderr",
     "output_type": "stream",
     "text": [
      "Generating gene pairs and permutation testing each LR pair...:  65%|█████▊    [ time left: 01:47 ]"
     ]
    },
    {
     "name": "stdout",
     "output_type": "stream",
     "text": [
      "Permutation test for Adcyap1|Adcyap1r1: 0.7592009138315916s\n"
     ]
    },
    {
     "name": "stderr",
     "output_type": "stream",
     "text": [
      "Generating gene pairs and permutation testing each LR pair...:  65%|█████▊    [ time left: 01:38 ]"
     ]
    },
    {
     "name": "stdout",
     "output_type": "stream",
     "text": [
      "Permutation test for Adcyap1|Vipr2: 0.3292260868474841s\n"
     ]
    },
    {
     "name": "stderr",
     "output_type": "stream",
     "text": [
      "Generating gene pairs and permutation testing each LR pair...:  65%|█████▊    [ time left: 01:34 ]"
     ]
    },
    {
     "name": "stdout",
     "output_type": "stream",
     "text": [
      "Permutation test for Vip|Vipr2: 0.35079592000693083s\n"
     ]
    },
    {
     "name": "stderr",
     "output_type": "stream",
     "text": [
      "Generating gene pairs and permutation testing each LR pair...:  65%|█████▉    [ time left: 01:25 ]"
     ]
    },
    {
     "name": "stdout",
     "output_type": "stream",
     "text": [
      "Permutation test for Adcyap1|Sctr: 0.27920350804924965s\n"
     ]
    },
    {
     "name": "stderr",
     "output_type": "stream",
     "text": [
      "Generating gene pairs and permutation testing each LR pair...:  65%|█████▉    [ time left: 01:14 ]"
     ]
    },
    {
     "name": "stdout",
     "output_type": "stream",
     "text": [
      "Permutation test for Sct|Sctr: 0.20929011888802052s\n"
     ]
    },
    {
     "name": "stderr",
     "output_type": "stream",
     "text": [
      "Generating gene pairs and permutation testing each LR pair...:  66%|█████▉    [ time left: 01:12 ]"
     ]
    },
    {
     "name": "stdout",
     "output_type": "stream",
     "text": [
      "Permutation test for Prok2|Prokr1: 0.2919458495453s\n"
     ]
    },
    {
     "name": "stderr",
     "output_type": "stream",
     "text": [
      "Generating gene pairs and permutation testing each LR pair...:  66%|█████▉    [ time left: 01:10 ]"
     ]
    },
    {
     "name": "stdout",
     "output_type": "stream",
     "text": [
      "Permutation test for Prok2|Prokr2: 0.279320633970201s\n"
     ]
    },
    {
     "name": "stderr",
     "output_type": "stream",
     "text": [
      "Generating gene pairs and permutation testing each LR pair...:  66%|█████▉    [ time left: 01:09 ]"
     ]
    },
    {
     "name": "stdout",
     "output_type": "stream",
     "text": [
      "Permutation test for Cd274|Pdcd1: 0.2930369647219777s\n"
     ]
    },
    {
     "name": "stderr",
     "output_type": "stream",
     "text": [
      "Generating gene pairs and permutation testing each LR pair...:  66%|█████▉    [ time left: 01:06 ]"
     ]
    },
    {
     "name": "stdout",
     "output_type": "stream",
     "text": [
      "Permutation test for Pdcd1lg2|Pdcd1: 0.2521241968497634s\n"
     ]
    },
    {
     "name": "stderr",
     "output_type": "stream",
     "text": [
      "Generating gene pairs and permutation testing each LR pair...:  66%|█████▉    [ time left: 01:03 ]"
     ]
    },
    {
     "name": "stdout",
     "output_type": "stream",
     "text": [
      "Permutation test for Fam3c|Pdcd1: 0.2364916717633605s\n"
     ]
    },
    {
     "name": "stderr",
     "output_type": "stream",
     "text": [
      "Generating gene pairs and permutation testing each LR pair...:  66%|█████▉    [ time left: 01:24 ]"
     ]
    },
    {
     "name": "stdout",
     "output_type": "stream",
     "text": [
      "Permutation test for Cd274|Cd80: 0.5791047532111406s\n"
     ]
    },
    {
     "name": "stderr",
     "output_type": "stream",
     "text": [
      "Generating gene pairs and permutation testing each LR pair...:  66%|█████▉    [ time left: 01:24 ]"
     ]
    },
    {
     "name": "stdout",
     "output_type": "stream",
     "text": [
      "Permutation test for Pthlh|Pth1r: 0.3640048112720251s\n"
     ]
    },
    {
     "name": "stderr",
     "output_type": "stream",
     "text": [
      "Generating gene pairs and permutation testing each LR pair...:  67%|█████▉    [ time left: 01:16 ]"
     ]
    },
    {
     "name": "stdout",
     "output_type": "stream",
     "text": [
      "Permutation test for Pthlh|Pth2r: 0.2588922567665577s\n"
     ]
    },
    {
     "name": "stderr",
     "output_type": "stream",
     "text": [
      "Generating gene pairs and permutation testing each LR pair...:  67%|██████    [ time left: 01:15 ]"
     ]
    },
    {
     "name": "stdout",
     "output_type": "stream",
     "text": [
      "Permutation test for Qrfp|Qrfpr: 0.3193401824682951s\n"
     ]
    },
    {
     "name": "stderr",
     "output_type": "stream",
     "text": [
      "Generating gene pairs and permutation testing each LR pair...:  67%|██████    [ time left: 01:10 ]"
     ]
    },
    {
     "name": "stdout",
     "output_type": "stream",
     "text": [
      "Permutation test for Tnfsf11|Tnfrsf11a: 0.2636761562898755s\n"
     ]
    },
    {
     "name": "stderr",
     "output_type": "stream",
     "text": [
      "Generating gene pairs and permutation testing each LR pair...:  67%|██████    [ time left: 01:11 ]"
     ]
    },
    {
     "name": "stdout",
     "output_type": "stream",
     "text": [
      "Permutation test for Rln1|Rxfp1: 0.3318582847714424s\n"
     ]
    },
    {
     "name": "stderr",
     "output_type": "stream",
     "text": [
      "Generating gene pairs and permutation testing each LR pair...:  67%|██████    [ time left: 01:07 ]"
     ]
    },
    {
     "name": "stdout",
     "output_type": "stream",
     "text": [
      "Permutation test for Rln3|Rxfp1: 0.257557462900877s\n"
     ]
    },
    {
     "name": "stderr",
     "output_type": "stream",
     "text": [
      "Generating gene pairs and permutation testing each LR pair...:  67%|██████    [ time left: 01:05 ]"
     ]
    },
    {
     "name": "stdout",
     "output_type": "stream",
     "text": [
      "Permutation test for Rln1|Rxfp2: 0.26387153659015894s\n"
     ]
    },
    {
     "name": "stderr",
     "output_type": "stream",
     "text": [
      "Generating gene pairs and permutation testing each LR pair...:  67%|██████    [ time left: 00:59 ]"
     ]
    },
    {
     "name": "stdout",
     "output_type": "stream",
     "text": [
      "Permutation test for Rln3|Rxfp2: 0.207678628154099s\n"
     ]
    },
    {
     "name": "stderr",
     "output_type": "stream",
     "text": [
      "Generating gene pairs and permutation testing each LR pair...:  68%|██████    [ time left: 00:58 ]"
     ]
    },
    {
     "name": "stdout",
     "output_type": "stream",
     "text": [
      "Permutation test for Rln3|Rxfp3: 0.251576192677021s\n"
     ]
    },
    {
     "name": "stderr",
     "output_type": "stream",
     "text": [
      "Generating gene pairs and permutation testing each LR pair...:  68%|██████    [ time left: 00:57 ]"
     ]
    },
    {
     "name": "stdout",
     "output_type": "stream",
     "text": [
      "Permutation test for Insl5|Rxfp3: 0.2528343927115202s\n"
     ]
    },
    {
     "name": "stderr",
     "output_type": "stream",
     "text": [
      "Generating gene pairs and permutation testing each LR pair...:  68%|██████    [ time left: 01:04 ]"
     ]
    },
    {
     "name": "stdout",
     "output_type": "stream",
     "text": [
      "Permutation test for Cort|Sstr1: 0.3672166783362627s\n"
     ]
    },
    {
     "name": "stderr",
     "output_type": "stream",
     "text": [
      "Generating gene pairs and permutation testing each LR pair...:  68%|██████▏   [ time left: 01:18 ]"
     ]
    },
    {
     "name": "stdout",
     "output_type": "stream",
     "text": [
      "Permutation test for Sst|Sstr1: 0.506915326230228s\n"
     ]
    },
    {
     "name": "stderr",
     "output_type": "stream",
     "text": [
      "Generating gene pairs and permutation testing each LR pair...:  68%|██████▏   [ time left: 01:12 ]"
     ]
    },
    {
     "name": "stdout",
     "output_type": "stream",
     "text": [
      "Permutation test for Cort|Sstr4: 0.26793414540588856s\n"
     ]
    },
    {
     "name": "stderr",
     "output_type": "stream",
     "text": [
      "Generating gene pairs and permutation testing each LR pair...:  68%|██████▏   [ time left: 01:07 ]"
     ]
    },
    {
     "name": "stdout",
     "output_type": "stream",
     "text": [
      "Permutation test for Sst|Sstr4: 0.266739129088819s\n"
     ]
    },
    {
     "name": "stderr",
     "output_type": "stream",
     "text": [
      "Generating gene pairs and permutation testing each LR pair...:  69%|██████▏   [ time left: 01:15 ]"
     ]
    },
    {
     "name": "stdout",
     "output_type": "stream",
     "text": [
      "Permutation test for Tshb|Tshr: 0.42851109337061644s\n"
     ]
    },
    {
     "name": "stderr",
     "output_type": "stream",
     "text": [
      "Generating gene pairs and permutation testing each LR pair...:  69%|██████▏   [ time left: 01:25 ]"
     ]
    },
    {
     "name": "stdout",
     "output_type": "stream",
     "text": [
      "Permutation test for Tnfsf12|Tnfrsf12a: 0.509148258715868s\n"
     ]
    },
    {
     "name": "stderr",
     "output_type": "stream",
     "text": [
      "Generating gene pairs and permutation testing each LR pair...:  69%|██████▏   [ time left: 01:19 ]"
     ]
    },
    {
     "name": "stdout",
     "output_type": "stream",
     "text": [
      "Permutation test for Il17f|Il17rc: 0.3062236597761512s\n"
     ]
    },
    {
     "name": "stderr",
     "output_type": "stream",
     "text": [
      "Generating gene pairs and permutation testing each LR pair...:  69%|██████▏   [ time left: 01:28 ]"
     ]
    },
    {
     "name": "stdout",
     "output_type": "stream",
     "text": [
      "Permutation test for Nectin2|Cd226: 0.5100507428869605s\n"
     ]
    },
    {
     "name": "stderr",
     "output_type": "stream",
     "text": [
      "Generating gene pairs and permutation testing each LR pair...:  69%|██████▏   [ time left: 01:28 ]"
     ]
    },
    {
     "name": "stdout",
     "output_type": "stream",
     "text": [
      "Permutation test for Vcam1|Itgb2: 0.4253917718306184s\n"
     ]
    },
    {
     "name": "stderr",
     "output_type": "stream",
     "text": [
      "Generating gene pairs and permutation testing each LR pair...:  69%|██████▏   [ time left: 01:29 ]"
     ]
    },
    {
     "name": "stdout",
     "output_type": "stream",
     "text": [
      "Permutation test for Vcam1|Itga4: 0.4403181876987219s\n"
     ]
    },
    {
     "name": "stderr",
     "output_type": "stream",
     "text": [
      "Generating gene pairs and permutation testing each LR pair...:  69%|██████▏   [ time left: 01:25 ]"
     ]
    },
    {
     "name": "stdout",
     "output_type": "stream",
     "text": [
      "Permutation test for Spp1|Itga4: 0.3616696186363697s\n"
     ]
    },
    {
     "name": "stderr",
     "output_type": "stream",
     "text": [
      "Generating gene pairs and permutation testing each LR pair...:  70%|██████▎   [ time left: 01:29 ]"
     ]
    },
    {
     "name": "stdout",
     "output_type": "stream",
     "text": [
      "Permutation test for Jam2|Itga4: 0.47628470230847597s\n"
     ]
    },
    {
     "name": "stderr",
     "output_type": "stream",
     "text": [
      "Generating gene pairs and permutation testing each LR pair...:  70%|██████▎   [ time left: 01:38 ]"
     ]
    },
    {
     "name": "stdout",
     "output_type": "stream",
     "text": [
      "Permutation test for Vcam1|Itga9: 0.5715507436543703s\n"
     ]
    },
    {
     "name": "stderr",
     "output_type": "stream",
     "text": [
      "Generating gene pairs and permutation testing each LR pair...:  70%|██████▎   [ time left: 01:39 ]"
     ]
    },
    {
     "name": "stdout",
     "output_type": "stream",
     "text": [
      "Permutation test for Spp1|Itga9: 0.4948754506185651s\n"
     ]
    },
    {
     "name": "stderr",
     "output_type": "stream",
     "text": [
      "Generating gene pairs and permutation testing each LR pair...:  70%|██████▎   [ time left: 01:33 ]"
     ]
    },
    {
     "name": "stdout",
     "output_type": "stream",
     "text": [
      "Permutation test for Tnc|Itga9: 0.3941438989713788s\n"
     ]
    },
    {
     "name": "stderr",
     "output_type": "stream",
     "text": [
      "Generating gene pairs and permutation testing each LR pair...:  70%|██████▎   [ time left: 01:25 ]"
     ]
    },
    {
     "name": "stdout",
     "output_type": "stream",
     "text": [
      "Permutation test for Vcam1|Itgb7: 0.3174040913581848s\n"
     ]
    },
    {
     "name": "stderr",
     "output_type": "stream",
     "text": [
      "Generating gene pairs and permutation testing each LR pair...:  70%|██████▎   [ time left: 01:20 ]"
     ]
    },
    {
     "name": "stdout",
     "output_type": "stream",
     "text": [
      "Permutation test for Trh|Trhr: 0.34890373703092337s\n"
     ]
    },
    {
     "name": "stderr",
     "output_type": "stream",
     "text": [
      "Generating gene pairs and permutation testing each LR pair...:  70%|██████▎   [ time left: 01:46 ]"
     ]
    },
    {
     "name": "stdout",
     "output_type": "stream",
     "text": [
      "Permutation test for Sema7a|Itga1: 0.8271691808477044s\n"
     ]
    },
    {
     "name": "stderr",
     "output_type": "stream",
     "text": [
      "Generating gene pairs and permutation testing each LR pair...:  71%|██████▎   [ time left: 01:39 ]"
     ]
    },
    {
     "name": "stdout",
     "output_type": "stream",
     "text": [
      "Permutation test for Col8a2|Itga1: 0.41499342396855354s\n"
     ]
    },
    {
     "name": "stderr",
     "output_type": "stream",
     "text": [
      "Generating gene pairs and permutation testing each LR pair...:  71%|██████▎   [ time left: 01:34 ]"
     ]
    },
    {
     "name": "stdout",
     "output_type": "stream",
     "text": [
      "Permutation test for Col6a6|Itga1: 0.4115319475531578s\n"
     ]
    },
    {
     "name": "stderr",
     "output_type": "stream",
     "text": [
      "Generating gene pairs and permutation testing each LR pair...:  71%|██████▎   [ time left: 01:25 ]"
     ]
    },
    {
     "name": "stdout",
     "output_type": "stream",
     "text": [
      "Permutation test for Col6a5|Itga1: 0.32149074878543615s\n"
     ]
    },
    {
     "name": "stderr",
     "output_type": "stream",
     "text": [
      "Generating gene pairs and permutation testing each LR pair...:  71%|██████▍   [ time left: 01:15 ]"
     ]
    },
    {
     "name": "stdout",
     "output_type": "stream",
     "text": [
      "Permutation test for Col6a3|Itga1: 0.2616553222760558s\n"
     ]
    },
    {
     "name": "stderr",
     "output_type": "stream",
     "text": [
      "Generating gene pairs and permutation testing each LR pair...:  71%|██████▍   [ time left: 01:18 ]"
     ]
    },
    {
     "name": "stdout",
     "output_type": "stream",
     "text": [
      "Permutation test for Col28a1|Itga1: 0.4303010916337371s\n"
     ]
    },
    {
     "name": "stderr",
     "output_type": "stream",
     "text": [
      "Generating gene pairs and permutation testing each LR pair...:  71%|██████▍   [ time left: 01:15 ]"
     ]
    },
    {
     "name": "stdout",
     "output_type": "stream",
     "text": [
      "Permutation test for Col27a1|Itga1: 0.34997075609862804s\n"
     ]
    },
    {
     "name": "stderr",
     "output_type": "stream",
     "text": [
      "Generating gene pairs and permutation testing each LR pair...:  71%|██████▍   [ time left: 01:22 ]"
     ]
    },
    {
     "name": "stdout",
     "output_type": "stream",
     "text": [
      "Permutation test for Col26a1|Itga1: 0.5126937478780746s\n"
     ]
    },
    {
     "name": "stderr",
     "output_type": "stream",
     "text": [
      "Generating gene pairs and permutation testing each LR pair...:  72%|██████▍   [ time left: 01:19 ]"
     ]
    },
    {
     "name": "stdout",
     "output_type": "stream",
     "text": [
      "Permutation test for Col24a1|Itga1: 0.36643460113555193s\n"
     ]
    },
    {
     "name": "stderr",
     "output_type": "stream",
     "text": [
      "Generating gene pairs and permutation testing each LR pair...:  72%|██████▍   [ time left: 01:12 ]"
     ]
    },
    {
     "name": "stdout",
     "output_type": "stream",
     "text": [
      "Permutation test for Col22a1|Itga1: 0.2948345812037587s\n"
     ]
    },
    {
     "name": "stderr",
     "output_type": "stream",
     "text": [
      "Generating gene pairs and permutation testing each LR pair...:  72%|██████▍   [ time left: 01:15 ]"
     ]
    },
    {
     "name": "stdout",
     "output_type": "stream",
     "text": [
      "Permutation test for Col20a1|Itga1: 0.42207321245223284s\n"
     ]
    },
    {
     "name": "stderr",
     "output_type": "stream",
     "text": [
      "Generating gene pairs and permutation testing each LR pair...:  72%|██████▍   [ time left: 01:50 ]"
     ]
    },
    {
     "name": "stdout",
     "output_type": "stream",
     "text": [
      "Permutation test for Col19a1|Itga1: 1.0103641236200929s\n"
     ]
    },
    {
     "name": "stderr",
     "output_type": "stream",
     "text": [
      "Generating gene pairs and permutation testing each LR pair...:  72%|██████▍   [ time left: 01:44 ]"
     ]
    },
    {
     "name": "stdout",
     "output_type": "stream",
     "text": [
      "Permutation test for Col17a1|Itga1: 0.47097747679799795s\n"
     ]
    },
    {
     "name": "stderr",
     "output_type": "stream",
     "text": [
      "Generating gene pairs and permutation testing each LR pair...:  72%|██████▌   [ time left: 01:36 ]"
     ]
    },
    {
     "name": "stdout",
     "output_type": "stream",
     "text": [
      "Permutation test for Col16a1|Itga1: 0.4224230293184519s\n"
     ]
    },
    {
     "name": "stderr",
     "output_type": "stream",
     "text": [
      "Generating gene pairs and permutation testing each LR pair...:  72%|██████▌   [ time left: 01:24 ]"
     ]
    },
    {
     "name": "stdout",
     "output_type": "stream",
     "text": [
      "Permutation test for Col15a1|Itga1: 0.299133294261992s\n"
     ]
    },
    {
     "name": "stderr",
     "output_type": "stream",
     "text": [
      "Generating gene pairs and permutation testing each LR pair...:  73%|██████▌   [ time left: 01:15 ]"
     ]
    },
    {
     "name": "stdout",
     "output_type": "stream",
     "text": [
      "Permutation test for Col13a1|Itga1: 0.28715187031775713s\n"
     ]
    },
    {
     "name": "stderr",
     "output_type": "stream",
     "text": [
      "Generating gene pairs and permutation testing each LR pair...:  73%|██████▌   [ time left: 01:16 ]"
     ]
    },
    {
     "name": "stdout",
     "output_type": "stream",
     "text": [
      "Permutation test for Col12a1|Itga1: 0.4236385924741626s\n"
     ]
    },
    {
     "name": "stderr",
     "output_type": "stream",
     "text": [
      "Generating gene pairs and permutation testing each LR pair...:  73%|██████▌   [ time left: 01:14 ]"
     ]
    },
    {
     "name": "stdout",
     "output_type": "stream",
     "text": [
      "Permutation test for Col11a2|Itga1: 0.38616515044122934s\n"
     ]
    },
    {
     "name": "stderr",
     "output_type": "stream",
     "text": [
      "Generating gene pairs and permutation testing each LR pair...:  73%|██████▌   [ time left: 01:06 ]"
     ]
    },
    {
     "name": "stdout",
     "output_type": "stream",
     "text": [
      "Permutation test for Col10a1|Itga1: 0.2583711165934801s\n"
     ]
    },
    {
     "name": "stderr",
     "output_type": "stream",
     "text": [
      "Generating gene pairs and permutation testing each LR pair...:  73%|██████▌   [ time left: 01:38 ]"
     ]
    },
    {
     "name": "stdout",
     "output_type": "stream",
     "text": [
      "Permutation test for Sema7a|Plxnc1: 0.9365536263212562s\n"
     ]
    },
    {
     "name": "stderr",
     "output_type": "stream",
     "text": [
      "Generating gene pairs and permutation testing each LR pair...:  73%|██████▌   [ time left: 01:39 ]"
     ]
    },
    {
     "name": "stdout",
     "output_type": "stream",
     "text": [
      "Permutation test for Pecam1|Cd38: 0.5574267720803618s\n"
     ]
    },
    {
     "name": "stderr",
     "output_type": "stream",
     "text": [
      "Generating gene pairs and permutation testing each LR pair...:  73%|██████▌   [ time left: 01:50 ]"
     ]
    },
    {
     "name": "stdout",
     "output_type": "stream",
     "text": [
      "Permutation test for Mif|Cd74: 0.7601165901869535s\n"
     ]
    },
    {
     "name": "stderr",
     "output_type": "stream",
     "text": [
      "Generating gene pairs and permutation testing each LR pair...:  74%|██████▌   [ time left: 01:46 ]"
     ]
    },
    {
     "name": "stdout",
     "output_type": "stream",
     "text": [
      "Permutation test for Copa|Cd74: 0.5367978289723396s\n"
     ]
    },
    {
     "name": "stderr",
     "output_type": "stream",
     "text": [
      "Generating gene pairs and permutation testing each LR pair...:  74%|██████▋   [ time left: 01:31 ]"
     ]
    },
    {
     "name": "stdout",
     "output_type": "stream",
     "text": [
      "Permutation test for Spp1|Itgb3: 0.31794121488928795s\n"
     ]
    },
    {
     "name": "stderr",
     "output_type": "stream",
     "text": [
      "Generating gene pairs and permutation testing each LR pair...:  74%|██████▋   [ time left: 01:17 ]"
     ]
    },
    {
     "name": "stdout",
     "output_type": "stream",
     "text": [
      "Permutation test for Tnc|Itgb3: 0.25378980953246355s\n"
     ]
    },
    {
     "name": "stderr",
     "output_type": "stream",
     "text": [
      "Generating gene pairs and permutation testing each LR pair...:  74%|██████▋   [ time left: 01:12 ]"
     ]
    },
    {
     "name": "stdout",
     "output_type": "stream",
     "text": [
      "Permutation test for Vwf|Itgb3: 0.3411785811185837s\n"
     ]
    },
    {
     "name": "stderr",
     "output_type": "stream",
     "text": [
      "Generating gene pairs and permutation testing each LR pair...:  74%|██████▋   [ time left: 01:18 ]"
     ]
    },
    {
     "name": "stdout",
     "output_type": "stream",
     "text": [
      "Permutation test for L1cam|Itgb3: 0.5215856470167637s\n"
     ]
    },
    {
     "name": "stderr",
     "output_type": "stream",
     "text": [
      "Generating gene pairs and permutation testing each LR pair...:  74%|██████▋   [ time left: 01:24 ]"
     ]
    },
    {
     "name": "stdout",
     "output_type": "stream",
     "text": [
      "Permutation test for Spp1|Ptger4: 0.5611366154626012s\n"
     ]
    },
    {
     "name": "stderr",
     "output_type": "stream",
     "text": [
      "Generating gene pairs and permutation testing each LR pair...:  74%|██████▋   [ time left: 01:48 ]"
     ]
    },
    {
     "name": "stdout",
     "output_type": "stream",
     "text": [
      "Permutation test for Sema3a|Plxna1: 0.9369870983064175s\n"
     ]
    },
    {
     "name": "stderr",
     "output_type": "stream",
     "text": [
      "Generating gene pairs and permutation testing each LR pair...:  75%|██████▋   [ time left: 02:06 ]"
     ]
    },
    {
     "name": "stdout",
     "output_type": "stream",
     "text": [
      "Permutation test for Sema3a|Plxna3: 0.9728953493759036s\n"
     ]
    },
    {
     "name": "stderr",
     "output_type": "stream",
     "text": [
      "Generating gene pairs and permutation testing each LR pair...:  75%|██████▋   [ time left: 01:52 ]"
     ]
    },
    {
     "name": "stdout",
     "output_type": "stream",
     "text": [
      "Permutation test for Adgre5|Cd55: 0.4699045764282346s\n"
     ]
    },
    {
     "name": "stderr",
     "output_type": "stream",
     "text": [
      "Generating gene pairs and permutation testing each LR pair...:  75%|██████▋   [ time left: 01:45 ]"
     ]
    },
    {
     "name": "stdout",
     "output_type": "stream",
     "text": [
      "Permutation test for Bmp7|Acvr1: 0.5113215101882815s\n"
     ]
    },
    {
     "name": "stderr",
     "output_type": "stream",
     "text": [
      "Generating gene pairs and permutation testing each LR pair...:  75%|██████▊   [ time left: 01:30 ]"
     ]
    },
    {
     "name": "stdout",
     "output_type": "stream",
     "text": [
      "Permutation test for Bmp5|Acvr1: 0.3340227482840419s\n"
     ]
    },
    {
     "name": "stderr",
     "output_type": "stream",
     "text": [
      "Generating gene pairs and permutation testing each LR pair...:  75%|██████▊   [ time left: 01:32 ]"
     ]
    },
    {
     "name": "stdout",
     "output_type": "stream",
     "text": [
      "Permutation test for Bmp6|Acvr1: 0.5676469830796123s\n"
     ]
    },
    {
     "name": "stderr",
     "output_type": "stream",
     "text": [
      "Generating gene pairs and permutation testing each LR pair...:  75%|██████▊   [ time left: 01:19 ]"
     ]
    },
    {
     "name": "stdout",
     "output_type": "stream",
     "text": [
      "Permutation test for Bmp8a|Acvr1: 0.3092895457521081s\n"
     ]
    },
    {
     "name": "stderr",
     "output_type": "stream",
     "text": [
      "Generating gene pairs and permutation testing each LR pair...:  75%|██████▊   [ time left: 01:22 ]"
     ]
    },
    {
     "name": "stdout",
     "output_type": "stream",
     "text": [
      "Permutation test for Inhba|Acvr1: 0.5312547199428082s\n"
     ]
    },
    {
     "name": "stderr",
     "output_type": "stream",
     "text": [
      "Generating gene pairs and permutation testing each LR pair...:  76%|██████▊   [ time left: 01:17 ]"
     ]
    },
    {
     "name": "stdout",
     "output_type": "stream",
     "text": [
      "Permutation test for Inhbb|Acvr1: 0.405458427965641s\n"
     ]
    },
    {
     "name": "stderr",
     "output_type": "stream",
     "text": [
      "Generating gene pairs and permutation testing each LR pair...:  76%|██████▊   [ time left: 01:13 ]"
     ]
    },
    {
     "name": "stdout",
     "output_type": "stream",
     "text": [
      "Permutation test for Bmp7|Acvr2b: 0.3817985728383064s\n"
     ]
    },
    {
     "name": "stderr",
     "output_type": "stream",
     "text": [
      "Generating gene pairs and permutation testing each LR pair...:  76%|██████▊   [ time left: 01:03 ]"
     ]
    },
    {
     "name": "stdout",
     "output_type": "stream",
     "text": [
      "Permutation test for Bmp5|Acvr2b: 0.24029479082673788s\n"
     ]
    },
    {
     "name": "stderr",
     "output_type": "stream",
     "text": [
      "Generating gene pairs and permutation testing each LR pair...:  76%|██████▊   [ time left: 01:02 ]"
     ]
    },
    {
     "name": "stdout",
     "output_type": "stream",
     "text": [
      "Permutation test for Bmp6|Acvr2b: 0.3786175325512886s\n"
     ]
    },
    {
     "name": "stderr",
     "output_type": "stream",
     "text": [
      "Generating gene pairs and permutation testing each LR pair...:  76%|██████▊   [ time left: 00:57 ]"
     ]
    },
    {
     "name": "stdout",
     "output_type": "stream",
     "text": [
      "Permutation test for Bmp8a|Acvr2b: 0.28923818189650774s\n"
     ]
    },
    {
     "name": "stderr",
     "output_type": "stream",
     "text": [
      "Generating gene pairs and permutation testing each LR pair...:  76%|██████▊   [ time left: 00:59 ]"
     ]
    },
    {
     "name": "stdout",
     "output_type": "stream",
     "text": [
      "Permutation test for Inhba|Acvr2b: 0.3819742249324918s\n"
     ]
    },
    {
     "name": "stderr",
     "output_type": "stream",
     "text": [
      "Generating gene pairs and permutation testing each LR pair...:  76%|██████▉   [ time left: 00:53 ]"
     ]
    },
    {
     "name": "stdout",
     "output_type": "stream",
     "text": [
      "Permutation test for Inhbb|Acvr2b: 0.2604171074926853s\n"
     ]
    },
    {
     "name": "stderr",
     "output_type": "stream",
     "text": [
      "Generating gene pairs and permutation testing each LR pair...:  77%|██████▉   [ time left: 01:07 ]"
     ]
    },
    {
     "name": "stdout",
     "output_type": "stream",
     "text": [
      "Permutation test for Bmp7|Bmpr1a: 0.61940429918468s\n"
     ]
    },
    {
     "name": "stderr",
     "output_type": "stream",
     "text": [
      "Generating gene pairs and permutation testing each LR pair...:  77%|██████▉   [ time left: 01:08 ]"
     ]
    },
    {
     "name": "stdout",
     "output_type": "stream",
     "text": [
      "Permutation test for Bmp2|Bmpr1a: 0.4421621635556221s\n"
     ]
    },
    {
     "name": "stderr",
     "output_type": "stream",
     "text": [
      "Generating gene pairs and permutation testing each LR pair...:  77%|██████▉   [ time left: 01:10 ]"
     ]
    },
    {
     "name": "stdout",
     "output_type": "stream",
     "text": [
      "Permutation test for Bmp4|Bmpr1a: 0.48182984068989754s\n"
     ]
    },
    {
     "name": "stderr",
     "output_type": "stream",
     "text": [
      "Generating gene pairs and permutation testing each LR pair...:  77%|██████▉   [ time left: 01:08 ]"
     ]
    },
    {
     "name": "stdout",
     "output_type": "stream",
     "text": [
      "Permutation test for Bmp5|Bmpr1a: 0.4084422942250967s\n"
     ]
    },
    {
     "name": "stderr",
     "output_type": "stream",
     "text": [
      "Generating gene pairs and permutation testing each LR pair...:  77%|██████▉   [ time left: 01:15 ]"
     ]
    },
    {
     "name": "stdout",
     "output_type": "stream",
     "text": [
      "Permutation test for Bmp6|Bmpr1a: 0.5890962621197104s\n"
     ]
    },
    {
     "name": "stderr",
     "output_type": "stream",
     "text": [
      "Generating gene pairs and permutation testing each LR pair...:  77%|██████▉   [ time left: 01:09 ]"
     ]
    },
    {
     "name": "stdout",
     "output_type": "stream",
     "text": [
      "Permutation test for Bmp8a|Bmpr1a: 0.37392270658165216s\n"
     ]
    },
    {
     "name": "stderr",
     "output_type": "stream",
     "text": [
      "Generating gene pairs and permutation testing each LR pair...:  78%|██████▉   [ time left: 01:03 ]"
     ]
    },
    {
     "name": "stdout",
     "output_type": "stream",
     "text": [
      "Permutation test for Gdf5|Bmpr1a: 0.30851596407592297s\n"
     ]
    },
    {
     "name": "stderr",
     "output_type": "stream",
     "text": [
      "Generating gene pairs and permutation testing each LR pair...:  78%|██████▉   [ time left: 00:55 ]"
     ]
    },
    {
     "name": "stdout",
     "output_type": "stream",
     "text": [
      "Permutation test for Gdf7|Bmpr1a: 0.24312839563935995s\n"
     ]
    },
    {
     "name": "stderr",
     "output_type": "stream",
     "text": [
      "Generating gene pairs and permutation testing each LR pair...:  78%|███████   [ time left: 00:53 ]"
     ]
    },
    {
     "name": "stdout",
     "output_type": "stream",
     "text": [
      "Permutation test for Bmp2|Acvr2b: 0.3214967707172036s\n"
     ]
    },
    {
     "name": "stderr",
     "output_type": "stream",
     "text": [
      "Generating gene pairs and permutation testing each LR pair...:  78%|███████   [ time left: 00:43 ]"
     ]
    },
    {
     "name": "stdout",
     "output_type": "stream",
     "text": [
      "Permutation test for Bmp4|Acvr2b: 0.28105487767606974s\n",
      "Permutation test for Gdf5|Acvr2b: 0.18756762705743313s\n"
     ]
    },
    {
     "name": "stderr",
     "output_type": "stream",
     "text": [
      "Generating gene pairs and permutation testing each LR pair...:  78%|███████   [ time left: 00:38 ]"
     ]
    },
    {
     "name": "stdout",
     "output_type": "stream",
     "text": [
      "Permutation test for Gdf7|Acvr2b: 0.1955490130931139s\n"
     ]
    },
    {
     "name": "stderr",
     "output_type": "stream",
     "text": [
      "Generating gene pairs and permutation testing each LR pair...:  78%|███████   [ time left: 00:51 ]"
     ]
    },
    {
     "name": "stdout",
     "output_type": "stream",
     "text": [
      "Permutation test for Bmp7|Bmpr1b: 0.540255886502564s\n"
     ]
    },
    {
     "name": "stderr",
     "output_type": "stream",
     "text": [
      "Generating gene pairs and permutation testing each LR pair...:  79%|███████   [ time left: 00:48 ]"
     ]
    },
    {
     "name": "stdout",
     "output_type": "stream",
     "text": [
      "Permutation test for Bmp2|Bmpr1b: 0.28935354482382536s\n"
     ]
    },
    {
     "name": "stderr",
     "output_type": "stream",
     "text": [
      "Generating gene pairs and permutation testing each LR pair...:  79%|███████   [ time left: 00:49 ]"
     ]
    },
    {
     "name": "stdout",
     "output_type": "stream",
     "text": [
      "Permutation test for Bmp4|Bmpr1b: 0.3478518156334758s\n"
     ]
    },
    {
     "name": "stderr",
     "output_type": "stream",
     "text": [
      "Generating gene pairs and permutation testing each LR pair...:  79%|███████   [ time left: 00:44 ]"
     ]
    },
    {
     "name": "stdout",
     "output_type": "stream",
     "text": [
      "Permutation test for Bmp5|Bmpr1b: 0.22451237309724092s\n"
     ]
    },
    {
     "name": "stderr",
     "output_type": "stream",
     "text": [
      "Generating gene pairs and permutation testing each LR pair...:  79%|███████   [ time left: 00:54 ]"
     ]
    },
    {
     "name": "stdout",
     "output_type": "stream",
     "text": [
      "Permutation test for Bmp6|Bmpr1b: 0.5429549161344767s\n"
     ]
    },
    {
     "name": "stderr",
     "output_type": "stream",
     "text": [
      "Generating gene pairs and permutation testing each LR pair...:  79%|███████▏  [ time left: 00:41 ]"
     ]
    },
    {
     "name": "stdout",
     "output_type": "stream",
     "text": [
      "Permutation test for Bmp8a|Bmpr1b: 0.22021089307963848s\n",
      "Permutation test for Gdf5|Bmpr1b: 0.18983808252960443s\n"
     ]
    },
    {
     "name": "stderr",
     "output_type": "stream",
     "text": [
      "Generating gene pairs and permutation testing each LR pair...:  79%|███████▏  [ time left: 00:39 ]"
     ]
    },
    {
     "name": "stdout",
     "output_type": "stream",
     "text": [
      "Permutation test for Gdf7|Bmpr1b: 0.2543179979547858s\n"
     ]
    },
    {
     "name": "stderr",
     "output_type": "stream",
     "text": [
      "Generating gene pairs and permutation testing each LR pair...:  80%|███████▏  [ time left: 00:39 ]"
     ]
    },
    {
     "name": "stdout",
     "output_type": "stream",
     "text": [
      "Permutation test for Icam1|Itgal: 0.294300620444119s\n"
     ]
    },
    {
     "name": "stderr",
     "output_type": "stream",
     "text": [
      "Generating gene pairs and permutation testing each LR pair...:  80%|███████▏  [ time left: 00:41 ]"
     ]
    },
    {
     "name": "stdout",
     "output_type": "stream",
     "text": [
      "Permutation test for Tnc|Itga8: 0.3374756658449769s\n"
     ]
    },
    {
     "name": "stderr",
     "output_type": "stream",
     "text": [
      "Generating gene pairs and permutation testing each LR pair...:  80%|███████▏  [ time left: 00:43 ]"
     ]
    },
    {
     "name": "stdout",
     "output_type": "stream",
     "text": [
      "Permutation test for Gdnf|Ret: 0.33277367893606424s\n"
     ]
    },
    {
     "name": "stderr",
     "output_type": "stream",
     "text": [
      "Generating gene pairs and permutation testing each LR pair...:  80%|███████▏  [ time left: 00:41 ]"
     ]
    },
    {
     "name": "stdout",
     "output_type": "stream",
     "text": [
      "Permutation test for Artn|Ret: 0.2764914985746145s\n"
     ]
    },
    {
     "name": "stderr",
     "output_type": "stream",
     "text": [
      "Generating gene pairs and permutation testing each LR pair...:  80%|███████▏  [ time left: 00:46 ]"
     ]
    },
    {
     "name": "stdout",
     "output_type": "stream",
     "text": [
      "Permutation test for Wnt7b|Fzd10: 0.42081631533801556s\n"
     ]
    },
    {
     "name": "stderr",
     "output_type": "stream",
     "text": [
      "Generating gene pairs and permutation testing each LR pair...:  80%|███████▏  [ time left: 00:43 ]"
     ]
    },
    {
     "name": "stdout",
     "output_type": "stream",
     "text": [
      "Permutation test for Ceacam5|Ceacam1: 0.28741662949323654s\n"
     ]
    },
    {
     "name": "stderr",
     "output_type": "stream",
     "text": [
      "Generating gene pairs and permutation testing each LR pair...:  80%|███████▏  [ time left: 00:42 ]"
     ]
    },
    {
     "name": "stdout",
     "output_type": "stream",
     "text": [
      "Permutation test for Cd48|Cd244: 0.29605664126574993s\n"
     ]
    },
    {
     "name": "stderr",
     "output_type": "stream",
     "text": [
      "Generating gene pairs and permutation testing each LR pair...:  81%|███████▏  [ time left: 00:43 ]"
     ]
    },
    {
     "name": "stdout",
     "output_type": "stream",
     "text": [
      "Permutation test for Gdf10|Acvr2b: 0.33965977281332016s\n"
     ]
    },
    {
     "name": "stderr",
     "output_type": "stream",
     "text": [
      "Generating gene pairs and permutation testing each LR pair...:  81%|███████▎  [ time left: 00:45 ]"
     ]
    },
    {
     "name": "stdout",
     "output_type": "stream",
     "text": [
      "Permutation test for Gdf11|Acvr2b: 0.3932506898418069s\n"
     ]
    },
    {
     "name": "stderr",
     "output_type": "stream",
     "text": [
      "Generating gene pairs and permutation testing each LR pair...:  81%|███████▎  [ time left: 00:41 ]"
     ]
    },
    {
     "name": "stdout",
     "output_type": "stream",
     "text": [
      "Permutation test for Mstn|Acvr2b: 0.2480265572667122s\n"
     ]
    },
    {
     "name": "stderr",
     "output_type": "stream",
     "text": [
      "Generating gene pairs and permutation testing each LR pair...:  81%|███████▎  [ time left: 00:41 ]"
     ]
    },
    {
     "name": "stdout",
     "output_type": "stream",
     "text": [
      "Permutation test for Gdf11|Tgfbr1: 0.49801073782145977s\n",
      "Permutation test for Mstn|Tgfbr1: 0.1885330593213439s\n"
     ]
    },
    {
     "name": "stderr",
     "output_type": "stream",
     "text": [
      "Generating gene pairs and permutation testing each LR pair...:  81%|███████▎  [ time left: 00:53 ]"
     ]
    },
    {
     "name": "stdout",
     "output_type": "stream",
     "text": [
      "Permutation test for Gdf11|Acvr2a: 0.641466704197228s\n"
     ]
    },
    {
     "name": "stderr",
     "output_type": "stream",
     "text": [
      "Generating gene pairs and permutation testing each LR pair...:  81%|███████▎  [ time left: 00:59 ]"
     ]
    },
    {
     "name": "stdout",
     "output_type": "stream",
     "text": [
      "Permutation test for Inhba|Acvr2a: 0.5841799965128303s\n"
     ]
    },
    {
     "name": "stderr",
     "output_type": "stream",
     "text": [
      "Generating gene pairs and permutation testing each LR pair...:  82%|███████▎  [ time left: 00:59 ]"
     ]
    },
    {
     "name": "stdout",
     "output_type": "stream",
     "text": [
      "Permutation test for Inhbb|Acvr2a: 0.46573407016694546s\n"
     ]
    },
    {
     "name": "stderr",
     "output_type": "stream",
     "text": [
      "Generating gene pairs and permutation testing each LR pair...:  82%|███████▎  [ time left: 00:49 ]"
     ]
    },
    {
     "name": "stdout",
     "output_type": "stream",
     "text": [
      "Permutation test for Mstn|Acvr2a: 0.20936083234846592s\n"
     ]
    },
    {
     "name": "stderr",
     "output_type": "stream",
     "text": [
      "Generating gene pairs and permutation testing each LR pair...:  82%|███████▎  [ time left: 00:56 ]"
     ]
    },
    {
     "name": "stdout",
     "output_type": "stream",
     "text": [
      "Permutation test for Bmp3|Acvr2a: 0.5907096797600389s\n"
     ]
    },
    {
     "name": "stderr",
     "output_type": "stream",
     "text": [
      "Generating gene pairs and permutation testing each LR pair...:  82%|███████▍  [ time left: 00:51 ]"
     ]
    },
    {
     "name": "stdout",
     "output_type": "stream",
     "text": [
      "Permutation test for Gdf9|Tgfbr1: 0.34402243234217167s\n"
     ]
    },
    {
     "name": "stderr",
     "output_type": "stream",
     "text": [
      "Generating gene pairs and permutation testing each LR pair...:  82%|███████▍  [ time left: 00:54 ]"
     ]
    },
    {
     "name": "stdout",
     "output_type": "stream",
     "text": [
      "Permutation test for Il10|Il10ra: 0.496427696198225s\n"
     ]
    },
    {
     "name": "stderr",
     "output_type": "stream",
     "text": [
      "Generating gene pairs and permutation testing each LR pair...:  82%|███████▍  [ time left: 00:56 ]"
     ]
    },
    {
     "name": "stdout",
     "output_type": "stream",
     "text": [
      "Permutation test for Il11|Il6st: 0.4999519679695368s\n"
     ]
    },
    {
     "name": "stderr",
     "output_type": "stream",
     "text": [
      "Generating gene pairs and permutation testing each LR pair...:  82%|███████▍  [ time left: 00:49 ]"
     ]
    },
    {
     "name": "stdout",
     "output_type": "stream",
     "text": [
      "Permutation test for Il12b|Il12rb1: 0.28451960533857346s\n"
     ]
    },
    {
     "name": "stderr",
     "output_type": "stream",
     "text": [
      "Generating gene pairs and permutation testing each LR pair...:  83%|███████▍  [ time left: 00:45 ]"
     ]
    },
    {
     "name": "stdout",
     "output_type": "stream",
     "text": [
      "Permutation test for Il12a|Il12rb2: 0.3250040262937546s\n"
     ]
    },
    {
     "name": "stderr",
     "output_type": "stream",
     "text": [
      "Generating gene pairs and permutation testing each LR pair...:  83%|███████▍  [ time left: 00:41 ]"
     ]
    },
    {
     "name": "stdout",
     "output_type": "stream",
     "text": [
      "Permutation test for Il27|Il27ra: 0.2677448792383075s\n"
     ]
    },
    {
     "name": "stderr",
     "output_type": "stream",
     "text": [
      "Generating gene pairs and permutation testing each LR pair...:  83%|███████▍  [ time left: 00:39 ]"
     ]
    },
    {
     "name": "stdout",
     "output_type": "stream",
     "text": [
      "Permutation test for Il33|Il1rl1: 0.2942199157550931s\n"
     ]
    },
    {
     "name": "stderr",
     "output_type": "stream",
     "text": [
      "Generating gene pairs and permutation testing each LR pair...:  83%|███████▍  [ time left: 00:37 ]"
     ]
    },
    {
     "name": "stdout",
     "output_type": "stream",
     "text": [
      "Permutation test for Il4|Il2rg: 0.29297010228037834s\n"
     ]
    },
    {
     "name": "stderr",
     "output_type": "stream",
     "text": [
      "Generating gene pairs and permutation testing each LR pair...:  83%|███████▍  [ time left: 00:44 ]"
     ]
    },
    {
     "name": "stdout",
     "output_type": "stream",
     "text": [
      "Permutation test for Inhba|Acvr1c: 0.524632653221488s\n"
     ]
    },
    {
     "name": "stderr",
     "output_type": "stream",
     "text": [
      "Generating gene pairs and permutation testing each LR pair...:  83%|███████▍  [ time left: 00:43 ]"
     ]
    },
    {
     "name": "stdout",
     "output_type": "stream",
     "text": [
      "Permutation test for Inhbb|Acvr1c: 0.3805628903210163s\n"
     ]
    },
    {
     "name": "stderr",
     "output_type": "stream",
     "text": [
      "Generating gene pairs and permutation testing each LR pair...:  83%|███████▌  [ time left: 00:39 ]"
     ]
    },
    {
     "name": "stdout",
     "output_type": "stream",
     "text": [
      "Permutation test for Icam2|Itgal: 0.25433478876948357s\n"
     ]
    },
    {
     "name": "stderr",
     "output_type": "stream",
     "text": [
      "Generating gene pairs and permutation testing each LR pair...:  84%|███████▌  [ time left: 00:37 ]"
     ]
    },
    {
     "name": "stdout",
     "output_type": "stream",
     "text": [
      "Permutation test for Lgals9|Havcr2: 0.3063708143308759s\n"
     ]
    },
    {
     "name": "stderr",
     "output_type": "stream",
     "text": [
      "Generating gene pairs and permutation testing each LR pair...:  84%|███████▌  [ time left: 00:37 ]"
     ]
    },
    {
     "name": "stdout",
     "output_type": "stream",
     "text": [
      "Permutation test for Lgals9|Mrc2: 0.33735664561390877s\n"
     ]
    },
    {
     "name": "stderr",
     "output_type": "stream",
     "text": [
      "Generating gene pairs and permutation testing each LR pair...:  84%|███████▌  [ time left: 00:55 ]"
     ]
    },
    {
     "name": "stdout",
     "output_type": "stream",
     "text": [
      "Permutation test for Lgals9|Cd47: 0.8940686034038663s\n"
     ]
    },
    {
     "name": "stderr",
     "output_type": "stream",
     "text": [
      "Generating gene pairs and permutation testing each LR pair...:  84%|███████▌  [ time left: 00:51 ]"
     ]
    },
    {
     "name": "stdout",
     "output_type": "stream",
     "text": [
      "Permutation test for Lgals9|Colec12: 0.38060306292027235s\n"
     ]
    },
    {
     "name": "stderr",
     "output_type": "stream",
     "text": [
      "Generating gene pairs and permutation testing each LR pair...:  84%|███████▌  [ time left: 00:43 ]"
     ]
    },
    {
     "name": "stdout",
     "output_type": "stream",
     "text": [
      "Permutation test for Lif|Il6st: 0.2529848273843527s\n"
     ]
    },
    {
     "name": "stderr",
     "output_type": "stream",
     "text": [
      "Generating gene pairs and permutation testing each LR pair...:  84%|███████▌  [ time left: 00:38 ]"
     ]
    },
    {
     "name": "stdout",
     "output_type": "stream",
     "text": [
      "Permutation test for Osm|Il6st: 0.23294271156191826s\n"
     ]
    },
    {
     "name": "stderr",
     "output_type": "stream",
     "text": [
      "Generating gene pairs and permutation testing each LR pair...:  84%|███████▌  [ time left: 00:35 ]"
     ]
    },
    {
     "name": "stdout",
     "output_type": "stream",
     "text": [
      "Permutation test for Nectin3|Tigit: 0.2829321837052703s\n"
     ]
    },
    {
     "name": "stderr",
     "output_type": "stream",
     "text": [
      "Generating gene pairs and permutation testing each LR pair...:  85%|███████▌  [ time left: 00:46 ]"
     ]
    },
    {
     "name": "stdout",
     "output_type": "stream",
     "text": [
      "Permutation test for Nectin3|Nectin1: 0.7019615061581135s\n"
     ]
    },
    {
     "name": "stderr",
     "output_type": "stream",
     "text": [
      "Generating gene pairs and permutation testing each LR pair...:  85%|███████▋  [ time left: 00:49 ]"
     ]
    },
    {
     "name": "stdout",
     "output_type": "stream",
     "text": [
      "Permutation test for Nectin3|Nectin2: 0.525713418610394s\n"
     ]
    },
    {
     "name": "stderr",
     "output_type": "stream",
     "text": [
      "Generating gene pairs and permutation testing each LR pair...:  85%|███████▋  [ time left: 00:45 ]"
     ]
    },
    {
     "name": "stdout",
     "output_type": "stream",
     "text": [
      "Permutation test for Nrtn|Ret: 0.37715147249400616s\n"
     ]
    },
    {
     "name": "stderr",
     "output_type": "stream",
     "text": [
      "Generating gene pairs and permutation testing each LR pair...:  85%|███████▋  [ time left: 00:38 ]"
     ]
    },
    {
     "name": "stdout",
     "output_type": "stream",
     "text": [
      "Permutation test for Osm|Osmr: 0.22465054504573345s\n"
     ]
    },
    {
     "name": "stderr",
     "output_type": "stream",
     "text": [
      "Generating gene pairs and permutation testing each LR pair...:  85%|███████▋  [ time left: 00:37 ]"
     ]
    },
    {
     "name": "stdout",
     "output_type": "stream",
     "text": [
      "Permutation test for Cd72|Sema4d: 0.3371618604287505s\n"
     ]
    },
    {
     "name": "stderr",
     "output_type": "stream",
     "text": [
      "Generating gene pairs and permutation testing each LR pair...:  85%|███████▋  [ time left: 00:35 ]"
     ]
    },
    {
     "name": "stdout",
     "output_type": "stream",
     "text": [
      "Permutation test for Col8a2|Itga2: 0.31891058944165707s\n"
     ]
    },
    {
     "name": "stderr",
     "output_type": "stream",
     "text": [
      "Generating gene pairs and permutation testing each LR pair...:  86%|███████▋  [ time left: 00:29 ]"
     ]
    },
    {
     "name": "stdout",
     "output_type": "stream",
     "text": [
      "Permutation test for Col6a6|Itga2: 0.3053747098892927s\n",
      "Permutation test for Col6a5|Itga2: 0.19688325189054012s\n"
     ]
    },
    {
     "name": "stderr",
     "output_type": "stream",
     "text": [
      "Generating gene pairs and permutation testing each LR pair...:  86%|███████▋  [ time left: 00:23 ]"
     ]
    },
    {
     "name": "stdout",
     "output_type": "stream",
     "text": [
      "Permutation test for Col6a3|Itga2: 0.18712095264345407s\n",
      "Permutation test for Col28a1|Itga2: 0.1969514787197113s\n"
     ]
    },
    {
     "name": "stderr",
     "output_type": "stream",
     "text": [
      "Generating gene pairs and permutation testing each LR pair...:  86%|███████▋  [ time left: 00:21 ]"
     ]
    },
    {
     "name": "stdout",
     "output_type": "stream",
     "text": [
      "Permutation test for Col27a1|Itga2: 0.18507975153625011s\n"
     ]
    },
    {
     "name": "stderr",
     "output_type": "stream",
     "text": [
      "Generating gene pairs and permutation testing each LR pair...:  86%|███████▊  [ time left: 00:22 ]"
     ]
    },
    {
     "name": "stdout",
     "output_type": "stream",
     "text": [
      "Permutation test for Col26a1|Itga2: 0.2594535304233432s\n"
     ]
    },
    {
     "name": "stderr",
     "output_type": "stream",
     "text": [
      "Generating gene pairs and permutation testing each LR pair...:  87%|███████▊  [ time left: 00:20 ]"
     ]
    },
    {
     "name": "stdout",
     "output_type": "stream",
     "text": [
      "Permutation test for Col24a1|Itga2: 0.2371311830356717s\n",
      "Permutation test for Col22a1|Itga2: 0.19045957550406456s\n"
     ]
    },
    {
     "name": "stderr",
     "output_type": "stream",
     "text": [
      "Generating gene pairs and permutation testing each LR pair...:  87%|███████▊  [ time left: 00:21 ]"
     ]
    },
    {
     "name": "stdout",
     "output_type": "stream",
     "text": [
      "Permutation test for Col20a1|Itga2: 0.23883746843785048s\n"
     ]
    },
    {
     "name": "stderr",
     "output_type": "stream",
     "text": [
      "Generating gene pairs and permutation testing each LR pair...:  87%|███████▊  [ time left: 00:27 ]"
     ]
    },
    {
     "name": "stdout",
     "output_type": "stream",
     "text": [
      "Permutation test for Col19a1|Itga2: 0.4810839118435979s\n"
     ]
    },
    {
     "name": "stderr",
     "output_type": "stream",
     "text": [
      "Generating gene pairs and permutation testing each LR pair...:  87%|███████▊  [ time left: 00:26 ]"
     ]
    },
    {
     "name": "stdout",
     "output_type": "stream",
     "text": [
      "Permutation test for Col17a1|Itga2: 0.2581835575401783s\n"
     ]
    },
    {
     "name": "stderr",
     "output_type": "stream",
     "text": [
      "Generating gene pairs and permutation testing each LR pair...:  87%|███████▊  [ time left: 00:21 ]"
     ]
    },
    {
     "name": "stdout",
     "output_type": "stream",
     "text": [
      "Permutation test for Col16a1|Itga2: 0.23014204390347004s\n",
      "Permutation test for Col13a1|Itga2: 0.1887161210179329s\n"
     ]
    },
    {
     "name": "stderr",
     "output_type": "stream",
     "text": [
      "Generating gene pairs and permutation testing each LR pair...:  87%|███████▊  [ time left: 00:21 ]"
     ]
    },
    {
     "name": "stdout",
     "output_type": "stream",
     "text": [
      "Permutation test for Col12a1|Itga2: 0.2589465631172061s\n"
     ]
    },
    {
     "name": "stderr",
     "output_type": "stream",
     "text": [
      "Generating gene pairs and permutation testing each LR pair...:  88%|███████▉  [ time left: 00:19 ]"
     ]
    },
    {
     "name": "stdout",
     "output_type": "stream",
     "text": [
      "Permutation test for Col11a2|Itga2: 0.23171583097428083s\n",
      "Permutation test for Col10a1|Itga2: 0.1865875329822302s\n"
     ]
    },
    {
     "name": "stderr",
     "output_type": "stream",
     "text": [
      "Generating gene pairs and permutation testing each LR pair...:  88%|███████▉  [ time left: 00:21 ]"
     ]
    },
    {
     "name": "stdout",
     "output_type": "stream",
     "text": [
      "Permutation test for Lamc1|Itga2: 0.333896323107183s\n"
     ]
    },
    {
     "name": "stderr",
     "output_type": "stream",
     "text": [
      "Generating gene pairs and permutation testing each LR pair...:  88%|███████▉  [ time left: 00:22 ]"
     ]
    },
    {
     "name": "stdout",
     "output_type": "stream",
     "text": [
      "Permutation test for Col8a2|Itga10: 0.28545418102294207s\n"
     ]
    },
    {
     "name": "stderr",
     "output_type": "stream",
     "text": [
      "Generating gene pairs and permutation testing each LR pair...:  88%|███████▉  [ time left: 00:22 ]"
     ]
    },
    {
     "name": "stdout",
     "output_type": "stream",
     "text": [
      "Permutation test for Col6a6|Itga10: 0.2736862376332283s\n",
      "Permutation test for Col6a5|Itga10: 0.20153404027223587s\n"
     ]
    },
    {
     "name": "stderr",
     "output_type": "stream",
     "text": [
      "Generating gene pairs and permutation testing each LR pair...:  88%|███████▉  [ time left: 00:18 ]"
     ]
    },
    {
     "name": "stdout",
     "output_type": "stream",
     "text": [
      "Permutation test for Col6a3|Itga10: 0.20413284841924906s\n"
     ]
    },
    {
     "name": "stderr",
     "output_type": "stream",
     "text": [
      "Generating gene pairs and permutation testing each LR pair...:  89%|███████▉  [ time left: 00:18 ]"
     ]
    },
    {
     "name": "stdout",
     "output_type": "stream",
     "text": [
      "Permutation test for Col28a1|Itga10: 0.2330670179799199s\n"
     ]
    },
    {
     "name": "stderr",
     "output_type": "stream",
     "text": [
      "Generating gene pairs and permutation testing each LR pair...:  89%|███████▉  [ time left: 00:17 ]"
     ]
    },
    {
     "name": "stdout",
     "output_type": "stream",
     "text": [
      "Permutation test for Col27a1|Itga10: 0.21303351875394583s\n"
     ]
    },
    {
     "name": "stderr",
     "output_type": "stream",
     "text": [
      "Generating gene pairs and permutation testing each LR pair...:  89%|███████▉  [ time left: 00:19 ]"
     ]
    },
    {
     "name": "stdout",
     "output_type": "stream",
     "text": [
      "Permutation test for Col26a1|Itga10: 0.29317940864712s\n"
     ]
    },
    {
     "name": "stderr",
     "output_type": "stream",
     "text": [
      "Generating gene pairs and permutation testing each LR pair...:  89%|████████  [ time left: 00:19 ]"
     ]
    },
    {
     "name": "stdout",
     "output_type": "stream",
     "text": [
      "Permutation test for Col24a1|Itga10: 0.2622731765732169s\n"
     ]
    },
    {
     "name": "stderr",
     "output_type": "stream",
     "text": [
      "Generating gene pairs and permutation testing each LR pair...:  89%|████████  [ time left: 00:18 ]"
     ]
    },
    {
     "name": "stdout",
     "output_type": "stream",
     "text": [
      "Permutation test for Col22a1|Itga10: 0.22339662909507751s\n"
     ]
    },
    {
     "name": "stderr",
     "output_type": "stream",
     "text": [
      "Generating gene pairs and permutation testing each LR pair...:  89%|████████  [ time left: 00:18 ]"
     ]
    },
    {
     "name": "stdout",
     "output_type": "stream",
     "text": [
      "Permutation test for Col20a1|Itga10: 0.2594862077385187s\n"
     ]
    },
    {
     "name": "stderr",
     "output_type": "stream",
     "text": [
      "Generating gene pairs and permutation testing each LR pair...:  89%|████████  [ time left: 00:26 ]"
     ]
    },
    {
     "name": "stdout",
     "output_type": "stream",
     "text": [
      "Permutation test for Col19a1|Itga10: 0.6368454927578568s\n"
     ]
    },
    {
     "name": "stderr",
     "output_type": "stream",
     "text": [
      "Generating gene pairs and permutation testing each LR pair...:  90%|████████  [ time left: 00:24 ]"
     ]
    },
    {
     "name": "stdout",
     "output_type": "stream",
     "text": [
      "Permutation test for Col17a1|Itga10: 0.2823126120492816s\n"
     ]
    },
    {
     "name": "stderr",
     "output_type": "stream",
     "text": [
      "Generating gene pairs and permutation testing each LR pair...:  90%|████████  [ time left: 00:22 ]"
     ]
    },
    {
     "name": "stdout",
     "output_type": "stream",
     "text": [
      "Permutation test for Col16a1|Itga10: 0.23804138973355293s\n"
     ]
    },
    {
     "name": "stderr",
     "output_type": "stream",
     "text": [
      "Generating gene pairs and permutation testing each LR pair...:  90%|████████  [ time left: 00:19 ]"
     ]
    },
    {
     "name": "stdout",
     "output_type": "stream",
     "text": [
      "Permutation test for Col15a1|Itga10: 0.20953105855733156s\n"
     ]
    },
    {
     "name": "stderr",
     "output_type": "stream",
     "text": [
      "Generating gene pairs and permutation testing each LR pair...:  90%|████████  [ time left: 00:18 ]"
     ]
    },
    {
     "name": "stdout",
     "output_type": "stream",
     "text": [
      "Permutation test for Col13a1|Itga10: 0.228084416128695s\n"
     ]
    },
    {
     "name": "stderr",
     "output_type": "stream",
     "text": [
      "Generating gene pairs and permutation testing each LR pair...:  90%|████████  [ time left: 00:18 ]"
     ]
    },
    {
     "name": "stdout",
     "output_type": "stream",
     "text": [
      "Permutation test for Col12a1|Itga10: 0.28284099604934454s\n"
     ]
    },
    {
     "name": "stderr",
     "output_type": "stream",
     "text": [
      "Generating gene pairs and permutation testing each LR pair...:  90%|████████▏ [ time left: 00:16 ]"
     ]
    },
    {
     "name": "stdout",
     "output_type": "stream",
     "text": [
      "Permutation test for Col11a2|Itga10: 0.26053754333406687s\n",
      "Permutation test for Col10a1|Itga10: 0.18321682885289192s\n"
     ]
    },
    {
     "name": "stderr",
     "output_type": "stream",
     "text": [
      "Generating gene pairs and permutation testing each LR pair...:  91%|████████▏ [ time left: 00:17 ]"
     ]
    },
    {
     "name": "stdout",
     "output_type": "stream",
     "text": [
      "Permutation test for Col8a2|Itga11: 0.3530262801796198s\n"
     ]
    },
    {
     "name": "stderr",
     "output_type": "stream",
     "text": [
      "Generating gene pairs and permutation testing each LR pair...:  91%|████████▏ [ time left: 00:18 ]"
     ]
    },
    {
     "name": "stdout",
     "output_type": "stream",
     "text": [
      "Permutation test for Col6a6|Itga11: 0.34290818590670824s\n"
     ]
    },
    {
     "name": "stderr",
     "output_type": "stream",
     "text": [
      "Generating gene pairs and permutation testing each LR pair...:  91%|████████▏ [ time left: 00:17 ]"
     ]
    },
    {
     "name": "stdout",
     "output_type": "stream",
     "text": [
      "Permutation test for Col6a5|Itga11: 0.23107490595430136s\n"
     ]
    },
    {
     "name": "stderr",
     "output_type": "stream",
     "text": [
      "Generating gene pairs and permutation testing each LR pair...:  91%|████████▏ [ time left: 00:16 ]"
     ]
    },
    {
     "name": "stdout",
     "output_type": "stream",
     "text": [
      "Permutation test for Col6a3|Itga11: 0.24193307384848595s\n"
     ]
    },
    {
     "name": "stderr",
     "output_type": "stream",
     "text": [
      "Generating gene pairs and permutation testing each LR pair...:  91%|████████▏ [ time left: 00:17 ]"
     ]
    },
    {
     "name": "stdout",
     "output_type": "stream",
     "text": [
      "Permutation test for Col28a1|Itga11: 0.3418604228645563s\n"
     ]
    },
    {
     "name": "stderr",
     "output_type": "stream",
     "text": [
      "Generating gene pairs and permutation testing each LR pair...:  91%|████████▏ [ time left: 00:17 ]"
     ]
    },
    {
     "name": "stdout",
     "output_type": "stream",
     "text": [
      "Permutation test for Col27a1|Itga11: 0.28980689588934183s\n"
     ]
    },
    {
     "name": "stderr",
     "output_type": "stream",
     "text": [
      "Generating gene pairs and permutation testing each LR pair...:  91%|████████▏ [ time left: 00:18 ]"
     ]
    },
    {
     "name": "stdout",
     "output_type": "stream",
     "text": [
      "Permutation test for Col26a1|Itga11: 0.3885659063234925s\n"
     ]
    },
    {
     "name": "stderr",
     "output_type": "stream",
     "text": [
      "Generating gene pairs and permutation testing each LR pair...:  92%|████████▏ [ time left: 00:18 ]"
     ]
    },
    {
     "name": "stdout",
     "output_type": "stream",
     "text": [
      "Permutation test for Col24a1|Itga11: 0.33422266971319914s\n"
     ]
    },
    {
     "name": "stderr",
     "output_type": "stream",
     "text": [
      "Generating gene pairs and permutation testing each LR pair...:  92%|████████▎ [ time left: 00:18 ]"
     ]
    },
    {
     "name": "stdout",
     "output_type": "stream",
     "text": [
      "Permutation test for Col22a1|Itga11: 0.316701072268188s\n"
     ]
    },
    {
     "name": "stderr",
     "output_type": "stream",
     "text": [
      "Generating gene pairs and permutation testing each LR pair...:  92%|████████▎ [ time left: 00:18 ]"
     ]
    },
    {
     "name": "stdout",
     "output_type": "stream",
     "text": [
      "Permutation test for Col20a1|Itga11: 0.3371301833540201s\n"
     ]
    },
    {
     "name": "stderr",
     "output_type": "stream",
     "text": [
      "Generating gene pairs and permutation testing each LR pair...:  92%|████████▎ [ time left: 00:27 ]"
     ]
    },
    {
     "name": "stdout",
     "output_type": "stream",
     "text": [
      "Permutation test for Col19a1|Itga11: 0.8922723634168506s\n"
     ]
    },
    {
     "name": "stderr",
     "output_type": "stream",
     "text": [
      "Generating gene pairs and permutation testing each LR pair...:  92%|████████▎ [ time left: 00:25 ]"
     ]
    },
    {
     "name": "stdout",
     "output_type": "stream",
     "text": [
      "Permutation test for Col17a1|Itga11: 0.391001196578145s\n"
     ]
    },
    {
     "name": "stderr",
     "output_type": "stream",
     "text": [
      "Generating gene pairs and permutation testing each LR pair...:  92%|████████▎ [ time left: 00:23 ]"
     ]
    },
    {
     "name": "stdout",
     "output_type": "stream",
     "text": [
      "Permutation test for Col16a1|Itga11: 0.3747807703912258s\n"
     ]
    },
    {
     "name": "stderr",
     "output_type": "stream",
     "text": [
      "Generating gene pairs and permutation testing each LR pair...:  92%|████████▎ [ time left: 00:20 ]"
     ]
    },
    {
     "name": "stdout",
     "output_type": "stream",
     "text": [
      "Permutation test for Col15a1|Itga11: 0.27290764171630144s\n"
     ]
    },
    {
     "name": "stderr",
     "output_type": "stream",
     "text": [
      "Generating gene pairs and permutation testing each LR pair...:  93%|████████▎ [ time left: 00:18 ]"
     ]
    },
    {
     "name": "stdout",
     "output_type": "stream",
     "text": [
      "Permutation test for Col13a1|Itga11: 0.31932843290269375s\n"
     ]
    },
    {
     "name": "stderr",
     "output_type": "stream",
     "text": [
      "Generating gene pairs and permutation testing each LR pair...:  93%|████████▎ [ time left: 00:18 ]"
     ]
    },
    {
     "name": "stdout",
     "output_type": "stream",
     "text": [
      "Permutation test for Col12a1|Itga11: 0.3551764264702797s\n"
     ]
    },
    {
     "name": "stderr",
     "output_type": "stream",
     "text": [
      "Generating gene pairs and permutation testing each LR pair...:  93%|████████▎ [ time left: 00:14 ]"
     ]
    },
    {
     "name": "stdout",
     "output_type": "stream",
     "text": [
      "Permutation test for Col11a2|Itga11: 0.3369902800768614s\n",
      "Permutation test for Col10a1|Itga11: 0.1984642604365945s\n"
     ]
    },
    {
     "name": "stderr",
     "output_type": "stream",
     "text": [
      "Generating gene pairs and permutation testing each LR pair...:  93%|████████▍ [ time left: 00:14 ]"
     ]
    },
    {
     "name": "stdout",
     "output_type": "stream",
     "text": [
      "Permutation test for Tg|Asgr1: 0.2741436567157507s\n"
     ]
    },
    {
     "name": "stderr",
     "output_type": "stream",
     "text": [
      "Generating gene pairs and permutation testing each LR pair...:  93%|████████▍ [ time left: 00:13 ]"
     ]
    },
    {
     "name": "stdout",
     "output_type": "stream",
     "text": [
      "Permutation test for Wnt3|Fzd7: 0.3019401077181101s\n"
     ]
    },
    {
     "name": "stderr",
     "output_type": "stream",
     "text": [
      "Generating gene pairs and permutation testing each LR pair...:  93%|████████▍ [ time left: 00:12 ]"
     ]
    },
    {
     "name": "stdout",
     "output_type": "stream",
     "text": [
      "Permutation test for Il1a|Il1b: 0.2254270864650607s\n"
     ]
    },
    {
     "name": "stderr",
     "output_type": "stream",
     "text": [
      "Generating gene pairs and permutation testing each LR pair...:  94%|████████▍ [ time left: 00:11 ]"
     ]
    },
    {
     "name": "stdout",
     "output_type": "stream",
     "text": [
      "Permutation test for Inhbe|Acvr2b: 0.2365168258547783s\n"
     ]
    },
    {
     "name": "stderr",
     "output_type": "stream",
     "text": [
      "Generating gene pairs and permutation testing each LR pair...:  94%|████████▍ [ time left: 00:11 ]"
     ]
    },
    {
     "name": "stdout",
     "output_type": "stream",
     "text": [
      "Permutation test for Inhbe|Acvr2a: 0.23408834356814623s\n"
     ]
    },
    {
     "name": "stderr",
     "output_type": "stream",
     "text": [
      "Generating gene pairs and permutation testing each LR pair...:  94%|████████▍ [ time left: 00:18 ]"
     ]
    },
    {
     "name": "stdout",
     "output_type": "stream",
     "text": [
      "Permutation test for Il16|Grin2a: 0.8517918093129992s\n"
     ]
    },
    {
     "name": "stderr",
     "output_type": "stream",
     "text": [
      "Generating gene pairs and permutation testing each LR pair...:  94%|████████▍ [ time left: 00:18 ]"
     ]
    },
    {
     "name": "stdout",
     "output_type": "stream",
     "text": [
      "Permutation test for Il16|Grin2d: 0.47875272016972303s\n"
     ]
    },
    {
     "name": "stderr",
     "output_type": "stream",
     "text": [
      "Generating gene pairs and permutation testing each LR pair...:  94%|████████▍ [ time left: 00:19 ]"
     ]
    },
    {
     "name": "stdout",
     "output_type": "stream",
     "text": [
      "Permutation test for Il16|Grin2c: 0.5553905060514808s\n"
     ]
    },
    {
     "name": "stderr",
     "output_type": "stream",
     "text": [
      "Generating gene pairs and permutation testing each LR pair...:  94%|████████▍ [ time left: 00:21 ]"
     ]
    },
    {
     "name": "stdout",
     "output_type": "stream",
     "text": [
      "Permutation test for Sema3e|Plxnd1: 0.7549232309684157s\n"
     ]
    },
    {
     "name": "stderr",
     "output_type": "stream",
     "text": [
      "Generating gene pairs and permutation testing each LR pair...:  94%|████████▌ [ time left: 00:19 ]"
     ]
    },
    {
     "name": "stdout",
     "output_type": "stream",
     "text": [
      "Permutation test for Dpp4|Cxcl12: 0.43757161404937506s\n"
     ]
    },
    {
     "name": "stderr",
     "output_type": "stream",
     "text": [
      "Generating gene pairs and permutation testing each LR pair...:  95%|████████▌ [ time left: 00:20 ]"
     ]
    },
    {
     "name": "stdout",
     "output_type": "stream",
     "text": [
      "Permutation test for Sema5a|Plxnb3: 0.6358717307448387s\n"
     ]
    },
    {
     "name": "stderr",
     "output_type": "stream",
     "text": [
      "Generating gene pairs and permutation testing each LR pair...:  95%|████████▌ [ time left: 00:15 ]"
     ]
    },
    {
     "name": "stdout",
     "output_type": "stream",
     "text": [
      "Permutation test for Fam3c|Clec2d: 0.4893478089943528s\n",
      "Permutation test for Il2|Il2rb: 0.19417790416628122s\n"
     ]
    },
    {
     "name": "stderr",
     "output_type": "stream",
     "text": [
      "Generating gene pairs and permutation testing each LR pair...:  95%|████████▌ [ time left: 00:17 ]"
     ]
    },
    {
     "name": "stdout",
     "output_type": "stream",
     "text": [
      "Permutation test for Fam3c|Glra2: 0.699785896576941s\n"
     ]
    },
    {
     "name": "stderr",
     "output_type": "stream",
     "text": [
      "Generating gene pairs and permutation testing each LR pair...:  95%|████████▌ [ time left: 00:21 ]"
     ]
    },
    {
     "name": "stdout",
     "output_type": "stream",
     "text": [
      "Permutation test for Fam3c|Lamp1: 1.0169792836531997s\n"
     ]
    },
    {
     "name": "stderr",
     "output_type": "stream",
     "text": [
      "Generating gene pairs and permutation testing each LR pair...:  95%|████████▌ [ time left: 00:17 ]"
     ]
    },
    {
     "name": "stdout",
     "output_type": "stream",
     "text": [
      "Permutation test for Clec2d|Klrb1: 0.22720663156360388s\n"
     ]
    },
    {
     "name": "stderr",
     "output_type": "stream",
     "text": [
      "Generating gene pairs and permutation testing each LR pair...:  96%|████████▌ [ time left: 00:14 ]"
     ]
    },
    {
     "name": "stdout",
     "output_type": "stream",
     "text": [
      "Permutation test for Cd34|Sell: 0.27897038497030735s\n"
     ]
    },
    {
     "name": "stderr",
     "output_type": "stream",
     "text": [
      "Generating gene pairs and permutation testing each LR pair...:  96%|████████▌ [ time left: 00:12 ]"
     ]
    },
    {
     "name": "stdout",
     "output_type": "stream",
     "text": [
      "Permutation test for Cd34|Selp: 0.31832356937229633s\n"
     ]
    },
    {
     "name": "stderr",
     "output_type": "stream",
     "text": [
      "Generating gene pairs and permutation testing each LR pair...:  96%|████████▌ [ time left: 00:12 ]"
     ]
    },
    {
     "name": "stdout",
     "output_type": "stream",
     "text": [
      "Permutation test for Cklf|Lrp6: 0.4857187429443002s\n"
     ]
    },
    {
     "name": "stderr",
     "output_type": "stream",
     "text": [
      "Generating gene pairs and permutation testing each LR pair...:  96%|████████▋ [ time left: 00:13 ]"
     ]
    },
    {
     "name": "stdout",
     "output_type": "stream",
     "text": [
      "Permutation test for Alcam|Cd6: 0.6311871949583292s\n"
     ]
    },
    {
     "name": "stderr",
     "output_type": "stream",
     "text": [
      "Generating gene pairs and permutation testing each LR pair...:  96%|████████▋ [ time left: 00:12 ]"
     ]
    },
    {
     "name": "stdout",
     "output_type": "stream",
     "text": [
      "Permutation test for Cd200|Cd200r1: 0.38148678094148636s\n"
     ]
    },
    {
     "name": "stderr",
     "output_type": "stream",
     "text": [
      "Generating gene pairs and permutation testing each LR pair...:  96%|████████▋ [ time left: 00:10 ]"
     ]
    },
    {
     "name": "stdout",
     "output_type": "stream",
     "text": [
      "Permutation test for Cd200r1|Cd200: 0.2769739329814911s\n"
     ]
    },
    {
     "name": "stderr",
     "output_type": "stream",
     "text": [
      "Generating gene pairs and permutation testing each LR pair...:  96%|████████▋ [ time left: 00:10 ]"
     ]
    },
    {
     "name": "stdout",
     "output_type": "stream",
     "text": [
      "Permutation test for Bmp8b|Plaur: 0.43843777012079954s\n"
     ]
    },
    {
     "name": "stderr",
     "output_type": "stream",
     "text": [
      "Generating gene pairs and permutation testing each LR pair...:  97%|████████▋ [ time left: 00:07 ]"
     ]
    },
    {
     "name": "stdout",
     "output_type": "stream",
     "text": [
      "Permutation test for Il6|Hrh1: 0.352649949491024s\n",
      "Permutation test for Il6|Il6: 0.18254851177334785s\n"
     ]
    },
    {
     "name": "stderr",
     "output_type": "stream",
     "text": [
      "Generating gene pairs and permutation testing each LR pair...:  97%|████████▋ [ time left: 00:06 ]"
     ]
    },
    {
     "name": "stdout",
     "output_type": "stream",
     "text": [
      "Permutation test for Artn|Gfra3: 0.23468905314803123s\n"
     ]
    },
    {
     "name": "stderr",
     "output_type": "stream",
     "text": [
      "Generating gene pairs and permutation testing each LR pair...:  97%|████████▋ [ time left: 00:05 ]"
     ]
    },
    {
     "name": "stdout",
     "output_type": "stream",
     "text": [
      "Permutation test for Pspn|Ret: 0.23961049877107143s\n"
     ]
    },
    {
     "name": "stderr",
     "output_type": "stream",
     "text": [
      "Generating gene pairs and permutation testing each LR pair...:  97%|████████▋ [ time left: 00:05 ]"
     ]
    },
    {
     "name": "stdout",
     "output_type": "stream",
     "text": [
      "Permutation test for Clcf1|Il6st: 0.2680194117128849s\n"
     ]
    },
    {
     "name": "stderr",
     "output_type": "stream",
     "text": [
      "Generating gene pairs and permutation testing each LR pair...:  97%|████████▊ [ time left: 00:05 ]"
     ]
    },
    {
     "name": "stdout",
     "output_type": "stream",
     "text": [
      "Permutation test for Il25|Il17rb: 0.26329238899052143s\n"
     ]
    },
    {
     "name": "stderr",
     "output_type": "stream",
     "text": [
      "Generating gene pairs and permutation testing each LR pair...:  97%|████████▊ [ time left: 00:08 ]"
     ]
    },
    {
     "name": "stdout",
     "output_type": "stream",
     "text": [
      "Permutation test for Enho|Gpr19: 0.9341023061424494s\n"
     ]
    },
    {
     "name": "stderr",
     "output_type": "stream",
     "text": [
      "Generating gene pairs and permutation testing each LR pair...:  98%|████████▊ [ time left: 00:07 ]"
     ]
    },
    {
     "name": "stdout",
     "output_type": "stream",
     "text": [
      "Permutation test for Lamc1|Itga6: 0.4401788394898176s\n"
     ]
    },
    {
     "name": "stderr",
     "output_type": "stream",
     "text": [
      "Generating gene pairs and permutation testing each LR pair...:  98%|████████▊ [ time left: 00:07 ]"
     ]
    },
    {
     "name": "stdout",
     "output_type": "stream",
     "text": [
      "Permutation test for Lamc1|Itga7: 0.5324442936107516s\n"
     ]
    },
    {
     "name": "stderr",
     "output_type": "stream",
     "text": [
      "Generating gene pairs and permutation testing each LR pair...:  98%|████████▊ [ time left: 00:07 ]"
     ]
    },
    {
     "name": "stdout",
     "output_type": "stream",
     "text": [
      "Permutation test for Lama3|Itga3: 0.47281323093920946s\n"
     ]
    },
    {
     "name": "stderr",
     "output_type": "stream",
     "text": [
      "Generating gene pairs and permutation testing each LR pair...:  98%|████████▊ [ time left: 00:05 ]"
     ]
    },
    {
     "name": "stdout",
     "output_type": "stream",
     "text": [
      "Permutation test for Thbs1|Itga3: 0.25063378643244505s\n"
     ]
    },
    {
     "name": "stderr",
     "output_type": "stream",
     "text": [
      "Generating gene pairs and permutation testing each LR pair...:  98%|████████▊ [ time left: 00:06 ]"
     ]
    },
    {
     "name": "stdout",
     "output_type": "stream",
     "text": [
      "Permutation test for Vtn|Itgb1: 0.61224315315485s\n"
     ]
    },
    {
     "name": "stderr",
     "output_type": "stream",
     "text": [
      "Generating gene pairs and permutation testing each LR pair...:  98%|████████▊ [ time left: 00:04 ]"
     ]
    },
    {
     "name": "stdout",
     "output_type": "stream",
     "text": [
      "Permutation test for Vwf|Gp1ba: 0.24311217106878757s\n"
     ]
    },
    {
     "name": "stderr",
     "output_type": "stream",
     "text": [
      "Generating gene pairs and permutation testing each LR pair...:  98%|████████▊ [ time left: 00:04 ]"
     ]
    },
    {
     "name": "stdout",
     "output_type": "stream",
     "text": [
      "Permutation test for Jam3|Itgb2: 0.4770865701138973s\n"
     ]
    },
    {
     "name": "stderr",
     "output_type": "stream",
     "text": [
      "Generating gene pairs and permutation testing each LR pair...:  99%|████████▊ [ time left: 00:03 ]"
     ]
    },
    {
     "name": "stdout",
     "output_type": "stream",
     "text": [
      "Permutation test for Ulbp1|Hcst: 0.3189961537718773s\n"
     ]
    },
    {
     "name": "stderr",
     "output_type": "stream",
     "text": [
      "Generating gene pairs and permutation testing each LR pair...:  99%|████████▉ [ time left: 00:03 ]"
     ]
    },
    {
     "name": "stdout",
     "output_type": "stream",
     "text": [
      "Permutation test for Raet1e|Hcst: 0.315886159427464s\n"
     ]
    },
    {
     "name": "stderr",
     "output_type": "stream",
     "text": [
      "Generating gene pairs and permutation testing each LR pair...:  99%|████████▉ [ time left: 00:03 ]"
     ]
    },
    {
     "name": "stdout",
     "output_type": "stream",
     "text": [
      "Permutation test for Sema6d|Kdr: 0.7194450730457902s\n"
     ]
    },
    {
     "name": "stderr",
     "output_type": "stream",
     "text": [
      "Generating gene pairs and permutation testing each LR pair...:  99%|████████▉ [ time left: 00:03 ]"
     ]
    },
    {
     "name": "stdout",
     "output_type": "stream",
     "text": [
      "Permutation test for Sema6d|Trem2: 0.7758172359317541s\n"
     ]
    },
    {
     "name": "stderr",
     "output_type": "stream",
     "text": [
      "Generating gene pairs and permutation testing each LR pair...:  99%|████████▉ [ time left: 00:02 ]"
     ]
    },
    {
     "name": "stdout",
     "output_type": "stream",
     "text": [
      "Permutation test for Il18|Il18r1: 0.3005259810015559s\n"
     ]
    },
    {
     "name": "stderr",
     "output_type": "stream",
     "text": [
      "Generating gene pairs and permutation testing each LR pair...:  99%|████████▉ [ time left: 00:02 ]"
     ]
    },
    {
     "name": "stdout",
     "output_type": "stream",
     "text": [
      "Permutation test for Il22|Il22: 0.24970740359276533s\n"
     ]
    },
    {
     "name": "stderr",
     "output_type": "stream",
     "text": [
      "Generating gene pairs and permutation testing each LR pair...:  99%|████████▉ [ time left: 00:01 ]"
     ]
    },
    {
     "name": "stdout",
     "output_type": "stream",
     "text": [
      "Permutation test for Crlf2|Tslp: 0.33500065095722675s\n"
     ]
    },
    {
     "name": "stderr",
     "output_type": "stream",
     "text": [
      "Generating gene pairs and permutation testing each LR pair...: 100%|████████▉ [ time left: 00:01 ]"
     ]
    },
    {
     "name": "stdout",
     "output_type": "stream",
     "text": [
      "Permutation test for Ddr1|Ttr: 0.9793791566044092s\n"
     ]
    },
    {
     "name": "stderr",
     "output_type": "stream",
     "text": [
      "Generating gene pairs and permutation testing each LR pair...: 100%|████████▉ [ time left: 00:00 ]"
     ]
    },
    {
     "name": "stdout",
     "output_type": "stream",
     "text": [
      "Permutation test for Copa|Mtnr1b: 0.2871402492746711s\n"
     ]
    },
    {
     "name": "stderr",
     "output_type": "stream",
     "text": [
      "Generating gene pairs and permutation testing each LR pair...: 100%|████████▉ [ time left: 00:00 ]"
     ]
    },
    {
     "name": "stdout",
     "output_type": "stream",
     "text": [
      "Permutation test for Copa|P2ry6: 0.5631652204319835s\n"
     ]
    },
    {
     "name": "stderr",
     "output_type": "stream",
     "text": [
      "Generating gene pairs and permutation testing each LR pair...: 100%|█████████ [ time left: 00:00 ]"
     ]
    },
    {
     "name": "stdout",
     "output_type": "stream",
     "text": [
      "Permutation test for Fam3b|Lrp5: 0.3388562183827162s\n"
     ]
    },
    {
     "name": "stderr",
     "output_type": "stream",
     "text": [
      "Generating gene pairs and permutation testing each LR pair...: 100%|█████████ [ time left: 00:00 ]"
     ]
    },
    {
     "name": "stdout",
     "output_type": "stream",
     "text": [
      "P-values adjusted: Fam3b|Lrp5s\n"
     ]
    },
    {
     "name": "stderr",
     "output_type": "stream",
     "text": [
      "\n"
     ]
    }
   ],
   "source": [
    "cal_spot_lr_score(\n",
    "    adata=adata,\n",
    "    domain_label = 'SpaSEG_clusters',\n",
    "    lr_pvalue = None,\n",
    "    cell_types_label = 'cell_types',\n",
    "    min_cell_type_frac = 1/len(cell_types_df.columns),\n",
    "    min_expr = 0.0,\n",
    "    min_spot = 1,\n",
    "    n_perm_pairs = 400,\n",
    "    n_rings = 2,\n",
    "    coord_type = 'grid',\n",
    "    n_neighs = 10,\n",
    "    specise = 'mouse',\n",
    ")"
   ]
  },
  {
   "cell_type": "code",
   "execution_count": null,
   "metadata": {},
   "outputs": [],
   "source": [
    "# adata.write_h5ad('/media/bgi/liukeyin/SpaSEG/CCI/adata_mouse_brain.h5ad')"
   ]
  },
  {
   "cell_type": "code",
   "execution_count": 7,
   "metadata": {},
   "outputs": [
    {
     "name": "stdout",
     "output_type": "stream",
     "text": [
      "/media/bgi/liukeyin/SpaSEG/CCI\n"
     ]
    }
   ],
   "source": [
    "!pwd"
   ]
  }
 ],
 "metadata": {
  "kernelspec": {
   "display_name": "cell2location",
   "language": "python",
   "name": "cell2location"
  },
  "language_info": {
   "codemirror_mode": {
    "name": "ipython",
    "version": 3
   },
   "file_extension": ".py",
   "mimetype": "text/x-python",
   "name": "python",
   "nbconvert_exporter": "python",
   "pygments_lexer": "ipython3",
   "version": "3.9.12"
  }
 },
 "nbformat": 4,
 "nbformat_minor": 4
}
