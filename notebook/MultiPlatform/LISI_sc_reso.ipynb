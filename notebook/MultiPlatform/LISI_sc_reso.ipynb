{
 "cells": [
  {
   "cell_type": "code",
   "execution_count": 6,
   "id": "4be8a45f",
   "metadata": {},
   "outputs": [
    {
     "name": "stderr",
     "output_type": "stream",
     "text": [
      "Warning message:\n",
      "“程辑包‘lisi’是用R版本4.1.2 来建造的”\n"
     ]
    }
   ],
   "source": [
    "library(lisi)"
   ]
  },
  {
   "cell_type": "code",
   "execution_count": 7,
   "id": "d1784d3f",
   "metadata": {},
   "outputs": [],
   "source": [
    "get_lisi = function(in_file, platform, target_cluster_labels, out_file_path) {\n",
    "    \n",
    "    #target_cluster_labels: eg: SpaSEG_clusters,SpaGCN_clusters,Leiden_clusters,BayesSpace_clusters\n",
    "    #meta = read.csv(file=file.path(in_file_path, platform, file_name), sep=\",\", header=TRUE)\n",
    "    meta = read.csv(in_file, sep=\",\")\n",
    "    location = cbind(meta[\"array_row\"],meta[\"array_col\"])\n",
    "    for (label in target_cluster_labels) {\n",
    "        clusters = meta[label]\n",
    "        LISI = compute_lisi(location, clusters, c(label))\n",
    "        mean_lisi = mean(LISI[,label])\n",
    "        median_lisi = median(LISI[,label])\n",
    "        sd_lisi = sd(LISI[,label])\n",
    "        \n",
    "        print(paste0(label, \": the mean LISI is \", round(mean_lisi,3)))\n",
    "        print(paste0(label, \": the median LISI is \", round(median_lisi,3)))\n",
    "        print(paste0(label, \": the sd LISI is \", round(sd_lisi,3)))\n",
    "        \n",
    "        lisi_result = data.frame(lisi_score=LISI[,label], row.names=rownames(meta))\n",
    "        lisi_stats = data.frame(mean=mean_lisi, median=median_lisi, variance=sd_lisi, row.names=platform)\n",
    "        \n",
    "        write.csv(lisi_result, paste0(out_file_path,platform,label,\"_lisi.csv\"))\n",
    "        write.csv(lisi_stats, paste0(out_file_path,platform,label,\"_lisiStats.csv\"))  \n",
    "    }\n",
    "}"
   ]
  },
  {
   "cell_type": "markdown",
   "id": "db024107",
   "metadata": {},
   "source": [
    "### LISI score for slideSeqV2 data"
   ]
  },
  {
   "cell_type": "code",
   "execution_count": 8,
   "id": "603969ed",
   "metadata": {},
   "outputs": [
    {
     "name": "stdout",
     "output_type": "stream",
     "text": [
      "[1] \"SpaSEG_clusters: the mean LISI is 1.491\"\n",
      "[1] \"SpaSEG_clusters: the median LISI is 1.171\"\n",
      "[1] \"SpaSEG_clusters: the sd LISI is 0.639\"\n",
      "[1] \"SpaGCN_clusters: the mean LISI is 2.32\"\n",
      "[1] \"SpaGCN_clusters: the median LISI is 2.113\"\n",
      "[1] \"SpaGCN_clusters: the sd LISI is 1.011\"\n",
      "[1] \"Leiden_clusters: the mean LISI is 3.031\"\n",
      "[1] \"Leiden_clusters: the median LISI is 2.926\"\n",
      "[1] \"Leiden_clusters: the sd LISI is 1.325\"\n",
      "[1] \"BayesSpace_clusters: the mean LISI is 3.706\"\n",
      "[1] \"BayesSpace_clusters: the median LISI is 3.586\"\n",
      "[1] \"BayesSpace_clusters: the sd LISI is 1.529\"\n"
     ]
    }
   ],
   "source": [
    "get_lisi(in_file='/media/bgi/liukeyin/SpaSEG/fig3_save/slideSeqV2/slideSeqV2_algoComp.csv', platform=\"slideSeqV2\",\n",
    "            target_cluster_labels=c(\"SpaSEG_clusters\",\"SpaGCN_clusters\",\"Leiden_clusters\",\"BayesSpace_clusters\"),\n",
    "            out_file_path=\"./data/\")"
   ]
  },
  {
   "cell_type": "markdown",
   "id": "335bf94f",
   "metadata": {},
   "source": [
    "### LISI score for MERFISH data"
   ]
  },
  {
   "cell_type": "code",
   "execution_count": 9,
   "id": "d1369add",
   "metadata": {},
   "outputs": [
    {
     "name": "stdout",
     "output_type": "stream",
     "text": [
      "[1] \"SpaSEG_clusters: the mean LISI is3.20816522322959\"\n",
      "[1] \"SpaSEG_clusters: the median LISI is3.18890447425273\"\n",
      "[1] \"SpaSEG_clusters: the variance LISI is1.13904372783136\"\n",
      "[1] \"SpaGCN_clusters: the mean LISI is3.25574705692539\"\n",
      "[1] \"SpaGCN_clusters: the median LISI is2.98174071898392\"\n",
      "[1] \"SpaGCN_clusters: the variance LISI is2.76896498087294\"\n",
      "[1] \"Leiden_clusters: the mean LISI is3.92368656169619\"\n",
      "[1] \"Leiden_clusters: the median LISI is3.8553135144934\"\n",
      "[1] \"Leiden_clusters: the variance LISI is2.10214932945469\"\n",
      "[1] \"BayesSpace_clusters: the mean LISI is4.35974064265216\"\n",
      "[1] \"BayesSpace_clusters: the median LISI is4.40599866292538\"\n",
      "[1] \"BayesSpace_clusters: the variance LISI is2.28638524147006\"\n"
     ]
    }
   ],
   "source": [
    "get_lisi(in_file='/media/bgi/liukeyin/SpaSEG/fig3_save/merfish/merfish_algoComp.csv', platform=\"merfish\",\n",
    "            target_cluster_labels=c(\"SpaSEG_clusters\",\"SpaGCN_clusters\",\"Leiden_clusters\",\"BayesSpace_clusters\"),\n",
    "            out_file_path=\"./data/\")"
   ]
  },
  {
   "cell_type": "markdown",
   "id": "be84eafa",
   "metadata": {},
   "source": [
    "### LISI score for seqFISH data"
   ]
  },
  {
   "cell_type": "code",
   "execution_count": 10,
   "id": "8f189a87",
   "metadata": {},
   "outputs": [
    {
     "name": "stdout",
     "output_type": "stream",
     "text": [
      "[1] \"SpaSEG_clusters: the mean LISI is1.60606843011548\"\n",
      "[1] \"SpaSEG_clusters: the median LISI is1.35893567918399\"\n",
      "[1] \"SpaSEG_clusters: the variance LISI is0.447878601000367\"\n",
      "[1] \"SpaGCN_clusters: the mean LISI is1.53236948051508\"\n",
      "[1] \"SpaGCN_clusters: the median LISI is1.18627505618539\"\n",
      "[1] \"SpaGCN_clusters: the variance LISI is0.537604004611864\"\n",
      "[1] \"Leiden_clusters: the mean LISI is1.50388179973163\"\n",
      "[1] \"Leiden_clusters: the median LISI is1.25067577780347\"\n",
      "[1] \"Leiden_clusters: the variance LISI is0.35192057597986\"\n",
      "[1] \"BayesSpace_clusters: the mean LISI is1.80291940838427\"\n",
      "[1] \"BayesSpace_clusters: the median LISI is1.52353505410318\"\n",
      "[1] \"BayesSpace_clusters: the variance LISI is0.735264792495674\"\n"
     ]
    }
   ],
   "source": [
    "get_lisi(in_file='/media/bgi/liukeyin/SpaSEG/fig3_save/seqFISH/seqFISH_algoComp.csv', platform=\"seqFISH\",\n",
    "            target_cluster_labels=c(\"SpaSEG_clusters\",\"SpaGCN_clusters\",\"Leiden_clusters\",\"BayesSpace_clusters\"),\n",
    "            out_file_path=\"./data/\")"
   ]
  },
  {
   "cell_type": "markdown",
   "id": "26649cd8",
   "metadata": {},
   "source": [
    "### LISI score for MB cellBin data"
   ]
  },
  {
   "cell_type": "code",
   "execution_count": 11,
   "id": "f74c6884",
   "metadata": {},
   "outputs": [
    {
     "name": "stdout",
     "output_type": "stream",
     "text": [
      "[1] \"SpaSEG_clusters: the mean LISI is3.12843375951437\"\n",
      "[1] \"SpaSEG_clusters: the median LISI is2.72155773137425\"\n",
      "[1] \"SpaSEG_clusters: the variance LISI is2.88921896933441\"\n",
      "[1] \"SpaGCN_clusters: the mean LISI is2.56503912408628\"\n",
      "[1] \"SpaGCN_clusters: the median LISI is2.38832224968531\"\n",
      "[1] \"SpaGCN_clusters: the variance LISI is1.23850443167903\"\n",
      "[1] \"Leiden_clusters: the mean LISI is3.77241691484779\"\n",
      "[1] \"Leiden_clusters: the median LISI is3.61257274133184\"\n",
      "[1] \"Leiden_clusters: the variance LISI is2.66581565124959\"\n"
     ]
    }
   ],
   "source": [
    "get_lisi(in_file='/media/bgi/liukeyin/SpaSEG/fig3_save/MB_cellbin/MB_cellbin_algoComp.csv', platform=\"MB_cellbin\",\n",
    "            target_cluster_labels=c(\"SpaSEG_clusters\",\"SpaGCN_clusters\",\"Leiden_clusters\"),\n",
    "            out_file_path=\"./data/\")"
   ]
  },
  {
   "cell_type": "code",
   "execution_count": null,
   "id": "da4ef672",
   "metadata": {},
   "outputs": [],
   "source": [
    "### LISI score for MB bin20 data"
   ]
  },
  {
   "cell_type": "code",
   "execution_count": 14,
   "id": "173d45f1",
   "metadata": {},
   "outputs": [
    {
     "name": "stdout",
     "output_type": "stream",
     "text": [
      "[1] \"SpaSEG_clusters: the mean LISI is 1.482\"\n",
      "[1] \"SpaSEG_clusters: the median LISI is 1.144\"\n",
      "[1] \"SpaSEG_clusters: the sd LISI is 0.724\"\n",
      "[1] \"Leiden_clusters: the mean LISI is 5.568\"\n",
      "[1] \"Leiden_clusters: the median LISI is 5.771\"\n",
      "[1] \"Leiden_clusters: the sd LISI is 2.236\"\n"
     ]
    }
   ],
   "source": [
    "get_lisi(in_file='/media/bgi/liukeyin/SpaSEG/fig3_save/MB_bin20/MB_bin20_algoComp.csv', platform=\"MB_bin20\",\n",
    "            target_cluster_labels=c(\"SpaSEG_clusters\",\"Leiden_clusters\"),\n",
    "            out_file_path=\"./data/MB_resolutions_lisi/\")"
   ]
  },
  {
   "cell_type": "code",
   "execution_count": 15,
   "id": "381f1f47",
   "metadata": {},
   "outputs": [],
   "source": [
    "### LISI score for MB bin50 data"
   ]
  },
  {
   "cell_type": "code",
   "execution_count": 16,
   "id": "38e6da92",
   "metadata": {},
   "outputs": [
    {
     "name": "stdout",
     "output_type": "stream",
     "text": [
      "[1] \"SpaSEG_clusters: the mean LISI is 1.35\"\n",
      "[1] \"SpaSEG_clusters: the median LISI is 1.083\"\n",
      "[1] \"SpaSEG_clusters: the sd LISI is 0.493\"\n",
      "[1] \"SpaGCN_clusters: the mean LISI is 1.582\"\n",
      "[1] \"SpaGCN_clusters: the median LISI is 1.37\"\n",
      "[1] \"SpaGCN_clusters: the sd LISI is 0.641\"\n",
      "[1] \"Leiden_clusters: the mean LISI is 2.487\"\n",
      "[1] \"Leiden_clusters: the median LISI is 2.192\"\n",
      "[1] \"Leiden_clusters: the sd LISI is 1.233\"\n"
     ]
    }
   ],
   "source": [
    "get_lisi(in_file='/media/bgi/liukeyin/SpaSEG/fig3_save/MB_bin50/MB_bin50_algoComp.csv', platform=\"MB_bin50\",\n",
    "            target_cluster_labels=c(\"SpaSEG_clusters\",\"SpaGCN_clusters\",\"Leiden_clusters\"),\n",
    "            out_file_path=\"./data/MB_resolutions_lisi/\")"
   ]
  },
  {
   "cell_type": "code",
   "execution_count": 17,
   "id": "faf73c1b",
   "metadata": {},
   "outputs": [],
   "source": [
    "### LISI score for MB bin100 data"
   ]
  },
  {
   "cell_type": "code",
   "execution_count": 18,
   "id": "fa5f245f",
   "metadata": {},
   "outputs": [
    {
     "name": "stdout",
     "output_type": "stream",
     "text": [
      "[1] \"SpaSEG_clusters: the mean LISI is 1.366\"\n",
      "[1] \"SpaSEG_clusters: the median LISI is 1.163\"\n",
      "[1] \"SpaSEG_clusters: the sd LISI is 0.449\"\n",
      "[1] \"SpaGCN_clusters: the mean LISI is 1.502\"\n",
      "[1] \"SpaGCN_clusters: the median LISI is 1.239\"\n",
      "[1] \"SpaGCN_clusters: the sd LISI is 0.59\"\n",
      "[1] \"Leiden_clusters: the mean LISI is 1.469\"\n",
      "[1] \"Leiden_clusters: the median LISI is 1.256\"\n",
      "[1] \"Leiden_clusters: the sd LISI is 0.526\"\n"
     ]
    }
   ],
   "source": [
    "get_lisi(in_file='/media/bgi/liukeyin/SpaSEG/fig3_save/MB_bin100/MB_bin100_algoComp.csv', platform=\"MB_bin100\",\n",
    "            target_cluster_labels=c(\"SpaSEG_clusters\",\"SpaGCN_clusters\",\"Leiden_clusters\"),\n",
    "            out_file_path=\"./data/MB_resolutions_lisi/\")"
   ]
  },
  {
   "cell_type": "code",
   "execution_count": 19,
   "id": "ec3c37f5",
   "metadata": {},
   "outputs": [],
   "source": [
    "### LISI score for MB bin200 data"
   ]
  },
  {
   "cell_type": "code",
   "execution_count": 20,
   "id": "811b143a",
   "metadata": {},
   "outputs": [
    {
     "name": "stdout",
     "output_type": "stream",
     "text": [
      "[1] \"SpaSEG_clusters: the mean LISI is 1.636\"\n",
      "[1] \"SpaSEG_clusters: the median LISI is 1.517\"\n",
      "[1] \"SpaSEG_clusters: the sd LISI is 0.544\"\n",
      "[1] \"SpaGCN_clusters: the mean LISI is 1.899\"\n",
      "[1] \"SpaGCN_clusters: the median LISI is 1.835\"\n",
      "[1] \"SpaGCN_clusters: the sd LISI is 0.745\"\n",
      "[1] \"Leiden_clusters: the mean LISI is 1.724\"\n",
      "[1] \"Leiden_clusters: the median LISI is 1.654\"\n",
      "[1] \"Leiden_clusters: the sd LISI is 0.605\"\n",
      "[1] \"BayesSpace_clusters: the mean LISI is 2.007\"\n",
      "[1] \"BayesSpace_clusters: the median LISI is 2\"\n",
      "[1] \"BayesSpace_clusters: the sd LISI is 0.749\"\n"
     ]
    }
   ],
   "source": [
    "get_lisi(in_file='/media/bgi/liukeyin/SpaSEG/fig3_save/MB_bin200/MB_bin200_algoComp.csv', platform=\"MB_bin200\",\n",
    "            target_cluster_labels=c(\"SpaSEG_clusters\",\"SpaGCN_clusters\",\"Leiden_clusters\",\"BayesSpace_clusters\"),\n",
    "            out_file_path=\"./data/MB_resolutions_lisi/\")"
   ]
  },
  {
   "cell_type": "code",
   "execution_count": 1,
   "id": "5e77d4af",
   "metadata": {},
   "outputs": [],
   "source": [
    "method = c(\"SpaSEG\",\"SpaGCN\",\"Leiden\",\"BayesSpace\",\"SpaSEG\",\"Leiden\",\"SpaSEG\",\"SpaGCN\",\"Leiden\",\"SpaSEG\",\"SpaGCN\",\"Leiden\",\"SpaSEG\",\"SpaGCN\",\"Leiden\",\"BayesSpace\")\n",
    "platform = c(\"Slide-seqV2\",\"Slide-seqV2\",\"Slide-seqV2\",\"Slide-seqV2\",\"MB bin20\",\"MB bin20\",\"MB bin50\",\"MB bin50\",\"MB bin50\",\"MB bin100\",\"MB bin100\",\"MB bin100\",\"MB bin200\",\"MB bin200\",\"MB bin200\",\"MB bin200\")\n",
    "lisi = c(1.491,2.32,3.031,3.706,1.482, 5.568, 1.35,1.582, 2.487, 1.366, 1.502, 1.469, 1.636, 1.899, 1.724, 2.007)\n",
    "sd_lisi = c(0.639,1.011,1.325,1.529,0.724, 2.236, 0.493, 0.641, 1.233, 0.449, 0.59, 0.526, 0.544, 0.745, 0.605, 0.749)\n",
    "\n",
    "df <- data.frame(method=method, platform=platform, lisi=lisi, sd_lisi=sd_lisi)\n",
    "\n",
    "df$method <- as.factor(df$method)\n",
    "df$method <- factor(df$method,levels = c('SpaSEG','SpaGCN','Leiden','BayesSpace'))\n",
    "\n",
    "df$platform <- as.factor(df$platform)\n",
    "df$platform <- factor(df$platform, \n",
    "                         levels =  c(\"Slide-seqV2\",\"MB bin20\", \"MB bin50\", \"MB bin100\", \"MB bin200\"))"
   ]
  },
  {
   "cell_type": "code",
   "execution_count": 2,
   "id": "9f146495",
   "metadata": {},
   "outputs": [],
   "source": [
    "# prepare data for significant test\n",
    "df1 = data.frame(matrix(ncol = 3, nrow = 0))\n",
    "colnames(df1) = c(\"method\", \"platform\", \"lisi\")\n",
    "for (i in 1:length(method)) {\n",
    "    plm = platform[i]\n",
    "    plm1 = gsub(\" \", \"_\", plm)\n",
    "    md = method[i]\n",
    "    md1 = paste0(md, \"_clusters\")\n",
    "    lisi = read.csv(paste0(\"./data/MB_resolutions_lisi/\", plm1, md1, \"_lisi.csv\"),row.names=\"X\")\n",
    "    n = dim(lisi)[1]\n",
    "    tmp = data.frame(method=rep(md, n), platform=rep(plm, n), lisi=lisi)\n",
    "    df1 = rbind(df1, tmp)\n",
    "}"
   ]
  },
  {
   "cell_type": "code",
   "execution_count": 12,
   "id": "0714bda9",
   "metadata": {},
   "outputs": [
    {
     "data": {
      "text/plain": [
       "\n",
       "\tWilcoxon rank sum test with continuity correction\n",
       "\n",
       "data:  SpaSEG_lisi$lisi_score and Leiden_lisi$lisi_score\n",
       "W = 335504976, p-value < 2.2e-16\n",
       "alternative hypothesis: true location shift is not equal to 0\n"
      ]
     },
     "metadata": {},
     "output_type": "display_data"
    },
    {
     "data": {
      "text/plain": [
       "\n",
       "\tWilcoxon rank sum test with continuity correction\n",
       "\n",
       "data:  SpaSEG_lisi$lisi_score and SpaGCN_lisi$lisi_score\n",
       "W = 553366635, p-value < 2.2e-16\n",
       "alternative hypothesis: true location shift is not equal to 0\n"
      ]
     },
     "metadata": {},
     "output_type": "display_data"
    },
    {
     "data": {
      "text/plain": [
       "\n",
       "\tWilcoxon rank sum test with continuity correction\n",
       "\n",
       "data:  SpaSEG_lisi$lisi_score and Bayes_lisi$lisi_score\n",
       "W = 194374498, p-value < 2.2e-16\n",
       "alternative hypothesis: true location shift is not equal to 0\n"
      ]
     },
     "metadata": {},
     "output_type": "display_data"
    }
   ],
   "source": [
    "plm = \"slideSeqV2\"\n",
    "SpaSEG_lisi = read.csv(paste0(\"./data/\", plm, \"SpaSEG_clusters\", \"_lisi.csv\"),row.names=\"X\")\n",
    "Leiden_lisi = read.csv(paste0(\"./data/\", plm, \"Leiden_clusters\", \"_lisi.csv\"),row.names=\"X\")\n",
    "SpaGCN_lisi = read.csv(paste0(\"./data/\", plm, \"SpaGCN_clusters\", \"_lisi.csv\"),row.names=\"X\")\n",
    "Bayes_lisi = read.csv(paste0(\"./data/\", plm, \"BayesSpace_clusters\", \"_lisi.csv\"),row.names=\"X\")\n",
    "\n",
    "wilcox.test(SpaSEG_lisi$lisi_score, Leiden_lisi$lisi_score)\n",
    "wilcox.test(SpaSEG_lisi$lisi_score, SpaGCN_lisi$lisi_score)\n",
    "wilcox.test(SpaSEG_lisi$lisi_score, Bayes_lisi$lisi_score)"
   ]
  },
  {
   "cell_type": "code",
   "execution_count": 15,
   "id": "e65cd201",
   "metadata": {},
   "outputs": [
    {
     "data": {
      "text/plain": [
       "\n",
       "\tWilcoxon rank sum test with continuity correction\n",
       "\n",
       "data:  SpaSEG_lisi$lisi_score and Leiden_lisi$lisi_score\n",
       "W = 8877771710, p-value < 2.2e-16\n",
       "alternative hypothesis: true location shift is not equal to 0\n"
      ]
     },
     "metadata": {},
     "output_type": "display_data"
    }
   ],
   "source": [
    "plm = \"MB_bin20\"\n",
    "SpaSEG_lisi = read.csv(paste0(\"./data/MB_resolutions_lisi/\", plm, \"SpaSEG_clusters\", \"_lisi.csv\"),row.names=\"X\")\n",
    "Leiden_lisi = read.csv(paste0(\"./data/MB_resolutions_lisi/\", plm, \"Leiden_clusters\", \"_lisi.csv\"),row.names=\"X\")\n",
    "wilcox.test(SpaSEG_lisi$lisi_score, Leiden_lisi$lisi_score)"
   ]
  },
  {
   "cell_type": "code",
   "execution_count": 17,
   "id": "85a3db07",
   "metadata": {},
   "outputs": [
    {
     "data": {
      "text/plain": [
       "\n",
       "\tWilcoxon rank sum test with continuity correction\n",
       "\n",
       "data:  SpaSEG_lisi$lisi_score and Leiden_lisi$lisi_score\n",
       "W = 1006922306, p-value < 2.2e-16\n",
       "alternative hypothesis: true location shift is not equal to 0\n"
      ]
     },
     "metadata": {},
     "output_type": "display_data"
    },
    {
     "data": {
      "text/plain": [
       "\n",
       "\tWilcoxon rank sum test with continuity correction\n",
       "\n",
       "data:  SpaSEG_lisi$lisi_score and SpaGCN_lisi$lisi_score\n",
       "W = 2350570482, p-value < 2.2e-16\n",
       "alternative hypothesis: true location shift is not equal to 0\n"
      ]
     },
     "metadata": {},
     "output_type": "display_data"
    }
   ],
   "source": [
    "plm = \"MB_bin50\"\n",
    "SpaSEG_lisi = read.csv(paste0(\"./data/MB_resolutions_lisi/\", plm, \"SpaSEG_clusters\", \"_lisi.csv\"),row.names=\"X\")\n",
    "Leiden_lisi = read.csv(paste0(\"./data/MB_resolutions_lisi/\", plm, \"Leiden_clusters\", \"_lisi.csv\"),row.names=\"X\")\n",
    "SpaGCN_lisi = read.csv(paste0(\"./data/MB_resolutions_lisi/\", plm, \"SpaGCN_clusters\", \"_lisi.csv\"),row.names=\"X\")\n",
    "\n",
    "wilcox.test(SpaSEG_lisi$lisi_score, Leiden_lisi$lisi_score)\n",
    "wilcox.test(SpaSEG_lisi$lisi_score, SpaGCN_lisi$lisi_score)"
   ]
  },
  {
   "cell_type": "code",
   "execution_count": 18,
   "id": "a0eb0c61",
   "metadata": {},
   "outputs": [
    {
     "data": {
      "text/plain": [
       "\n",
       "\tWilcoxon rank sum test with continuity correction\n",
       "\n",
       "data:  SpaSEG_lisi$lisi_score and Leiden_lisi$lisi_score\n",
       "W = 180351725, p-value < 2.2e-16\n",
       "alternative hypothesis: true location shift is not equal to 0\n"
      ]
     },
     "metadata": {},
     "output_type": "display_data"
    },
    {
     "data": {
      "text/plain": [
       "\n",
       "\tWilcoxon rank sum test with continuity correction\n",
       "\n",
       "data:  SpaSEG_lisi$lisi_score and SpaGCN_lisi$lisi_score\n",
       "W = 182773697, p-value < 2.2e-16\n",
       "alternative hypothesis: true location shift is not equal to 0\n"
      ]
     },
     "metadata": {},
     "output_type": "display_data"
    }
   ],
   "source": [
    "plm = \"MB_bin100\"\n",
    "SpaSEG_lisi = read.csv(paste0(\"./data/MB_resolutions_lisi/\", plm, \"SpaSEG_clusters\", \"_lisi.csv\"),row.names=\"X\")\n",
    "Leiden_lisi = read.csv(paste0(\"./data/MB_resolutions_lisi/\", plm, \"Leiden_clusters\", \"_lisi.csv\"),row.names=\"X\")\n",
    "SpaGCN_lisi = read.csv(paste0(\"./data/MB_resolutions_lisi/\", plm, \"SpaGCN_clusters\", \"_lisi.csv\"),row.names=\"X\")\n",
    "\n",
    "wilcox.test(SpaSEG_lisi$lisi_score, Leiden_lisi$lisi_score)\n",
    "wilcox.test(SpaSEG_lisi$lisi_score, SpaGCN_lisi$lisi_score)"
   ]
  },
  {
   "cell_type": "code",
   "execution_count": 19,
   "id": "b475c0d1",
   "metadata": {},
   "outputs": [
    {
     "data": {
      "text/plain": [
       "\n",
       "\tWilcoxon rank sum test with continuity correction\n",
       "\n",
       "data:  SpaSEG_lisi$lisi_score and Leiden_lisi$lisi_score\n",
       "W = 12329208, p-value = 6.529e-10\n",
       "alternative hypothesis: true location shift is not equal to 0\n"
      ]
     },
     "metadata": {},
     "output_type": "display_data"
    },
    {
     "data": {
      "text/plain": [
       "\n",
       "\tWilcoxon rank sum test with continuity correction\n",
       "\n",
       "data:  SpaSEG_lisi$lisi_score and SpaGCN_lisi$lisi_score\n",
       "W = 10770380, p-value < 2.2e-16\n",
       "alternative hypothesis: true location shift is not equal to 0\n"
      ]
     },
     "metadata": {},
     "output_type": "display_data"
    },
    {
     "data": {
      "text/plain": [
       "\n",
       "\tWilcoxon rank sum test with continuity correction\n",
       "\n",
       "data:  SpaSEG_lisi$lisi_score and Bayes_lisi$lisi_score\n",
       "W = 9561264, p-value < 2.2e-16\n",
       "alternative hypothesis: true location shift is not equal to 0\n"
      ]
     },
     "metadata": {},
     "output_type": "display_data"
    }
   ],
   "source": [
    "plm = \"MB_bin200\"\n",
    "SpaSEG_lisi = read.csv(paste0(\"./data/MB_resolutions_lisi/\", plm, \"SpaSEG_clusters\", \"_lisi.csv\"),row.names=\"X\")\n",
    "Leiden_lisi = read.csv(paste0(\"./data/MB_resolutions_lisi/\", plm, \"Leiden_clusters\", \"_lisi.csv\"),row.names=\"X\")\n",
    "SpaGCN_lisi = read.csv(paste0(\"./data/MB_resolutions_lisi/\", plm, \"SpaGCN_clusters\", \"_lisi.csv\"),row.names=\"X\")\n",
    "Bayes_lisi = read.csv(paste0(\"./data/MB_resolutions_lisi/\", plm, \"BayesSpace_clusters\", \"_lisi.csv\"),row.names=\"X\")\n",
    "\n",
    "wilcox.test(SpaSEG_lisi$lisi_score, Leiden_lisi$lisi_score)\n",
    "wilcox.test(SpaSEG_lisi$lisi_score, SpaGCN_lisi$lisi_score)\n",
    "wilcox.test(SpaSEG_lisi$lisi_score, Bayes_lisi$lisi_score)"
   ]
  },
  {
   "cell_type": "code",
   "execution_count": 8,
   "id": "c0fffc64",
   "metadata": {},
   "outputs": [
    {
     "data": {
      "image/png": "[encoded data removed]",
      "text/plain": [
       "plot without title"
      ]
     },
     "metadata": {
      "image/png": {
       "height": 259.8425,
       "width": 346.4567
      }
     },
     "output_type": "display_data"
    }
   ],
   "source": [
    "library(ggplot2)\n",
    "library(ggsignif)\n",
    "#options(repr.plot.width = 4/2.54, repr.plot.height = 4/2.54, repr.plot.res = 400)\n",
    "options(repr.plot.width = 4.4/2.54, repr.plot.height = 3.3/2.54, repr.plot.res = 400)\n",
    "\n",
    "p1 <- ggplot(df, aes(x=platform, y=lisi, fill=method)) +\n",
    "  geom_col(width=1,position=position_dodge(width=1,preserve = \"single\"), alpha = 0.75) +\n",
    "  scale_fill_manual(values=c('#E889BD','#67C2A3','#FC8A61','#8EA0C9')) +\n",
    "  geom_signif(y_position = c(3.6, 4.5, 5.5, 8, 2.4, 4, 2.4, 3, 3, 3.6,4.2), \n",
    "              xmin = c(0.7,0.7,0.7,1.6,2.6,2.6,3.6,3.6,4.6,4.6,4.6), \n",
    "              xmax = c(0.9,1.1,1.3,1.9,2.9,3.1,3.9,4.1,4.9,5.1,5.3), \n",
    "              annotation = c(\"***\",\"***\",\"***\",\"***\",\"***\",\"***\",\"***\",\"***\",\"***\",\"***\",\"***\"),\n",
    "              tip_length = 0, size=0.2, textsize=1.8, vjust=0.4) +\n",
    "  geom_errorbar(aes(x=platform, ymin=lisi-sd_lisi, ymax=lisi+sd_lisi), width=0.3, colour=\"black\", \n",
    "                position=position_dodge(width=1, preserve = \"single\"), alpha=0.9, size=0.15) +\n",
    "  #scale_fill_manual(values=c('#FED666','#F391C2','#99B2DF','#69E5BF','#9995C7','#FDA25D','#A1D99B')) +\n",
    "  #scale_x_discrete(breaks=c(0.8,2,3,4), labels=c(\"bin20\", \"bin50\", \"bin100\", \"bin200\"))\n",
    "  #scale_x_discrete(expand=c(0,0, 0.4,0.4))+\n",
    "  theme_bw() + \n",
    "  ylab(\"LISI\") +\n",
    "  theme(#legend.position =c(0.3, 0.7),\n",
    "        legend.position =c(0.73,0.87),\n",
    "        #legend.position =\"none\",\n",
    "        #legend.title = element_text(size=5),\n",
    "        legend.text = element_text(size=5),\n",
    "        legend.title = element_blank(),\n",
    "        legend.key.size = unit(0.2, 'cm'),\n",
    "        legend.margin=margin(0,0,0,0),\n",
    "        legend.box.margin=margin(0,0,-10,-10),\n",
    "        legend.spacing.x = unit(0.05, 'cm'),\n",
    "        legend.spacing.y = unit(0, 'cm'),\n",
    "        panel.border = element_blank(),\n",
    "        panel.grid = element_blank(), \n",
    "        axis.text=element_text(colour=\"black\",size=5, family=\"sans\"),#设置坐标轴刻度数字\n",
    "        #axis.text.x=element_text(angle = 25, hjust = 1),\n",
    "        #axis.text.y = element_blank(),\n",
    "        axis.line = element_line(size=0.25),\n",
    "        #axis.title.y = element_blank(), \n",
    "        axis.title.x = element_blank(),\n",
    "        axis.title.y = element_text(colour=\"black\", size=5),\n",
    "        axis.ticks.x=element_line(color=\"black\",size=0.25,lineend = 1),\n",
    "        axis.ticks.y=element_line(color=\"black\",size=0.25,lineend = 1),\n",
    "        axis.text.x=element_blank()\n",
    "        #axis.ticks.y=element_blank()\n",
    "#        axis.ticks.y=element_line(color=\"black\",size=0.25,lineend = 1)\n",
    "  ) +\n",
    "guides(fill = guide_legend(nrow=2))\n",
    "p1"
   ]
  },
  {
   "cell_type": "code",
   "execution_count": 9,
   "id": "4d7cf90b",
   "metadata": {},
   "outputs": [],
   "source": [
    "#ggsave(\"./figure/LISI_MBmutibin_resolution.pdf\", p1, width=4, height=4, dpi=400, units=\"cm\")\n",
    "ggsave(\"./figure/LISI_MBmutibin_resolution.pdf\", p1, width=4.4, height=3.3, dpi=400, units=\"cm\")"
   ]
  },
  {
   "cell_type": "code",
   "execution_count": null,
   "id": "899aee8e",
   "metadata": {},
   "outputs": [],
   "source": []
  }
 ],
 "metadata": {
  "kernelspec": {
   "display_name": "R",
   "language": "R",
   "name": "ir"
  },
  "language_info": {
   "codemirror_mode": "r",
   "file_extension": ".r",
   "mimetype": "text/x-r-source",
   "name": "R",
   "pygments_lexer": "r",
   "version": "4.1.1"
  }
 },
 "nbformat": 4,
 "nbformat_minor": 5
}
